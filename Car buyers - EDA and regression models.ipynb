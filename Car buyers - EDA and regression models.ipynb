{
 "cells": [
  {
   "cell_type": "markdown",
   "id": "ebbc6d09",
   "metadata": {
    "papermill": {
     "duration": 0.07611,
     "end_time": "2022-02-06T11:54:31.713978",
     "exception": false,
     "start_time": "2022-02-06T11:54:31.637868",
     "status": "completed"
    },
    "tags": []
   },
   "source": [
    "# ANALYSIS OF CAR MODELS 🛰 🚀 🛸 🚁"
   ]
  },
  {
   "cell_type": "markdown",
   "id": "b45e501f",
   "metadata": {
    "papermill": {
     "duration": 0.074811,
     "end_time": "2022-02-06T11:54:31.863240",
     "exception": false,
     "start_time": "2022-02-06T11:54:31.788429",
     "status": "completed"
    },
    "tags": []
   },
   "source": [
    "![](https://p4.wallpaperbetter.com/wallpaper/176/276/899/lamborghini-wallpaper-preview.jpg)"
   ]
  },
  {
   "cell_type": "markdown",
   "id": "aea619a6",
   "metadata": {
    "papermill": {
     "duration": 0.07685,
     "end_time": "2022-02-06T11:54:32.015515",
     "exception": false,
     "start_time": "2022-02-06T11:54:31.938665",
     "status": "completed"
    },
    "tags": []
   },
   "source": [
    "### Import Libraries and Dataset 🦚"
   ]
  },
  {
   "cell_type": "markdown",
   "id": "35fbf2de",
   "metadata": {
    "papermill": {
     "duration": 0.074105,
     "end_time": "2022-02-06T11:54:32.164339",
     "exception": false,
     "start_time": "2022-02-06T11:54:32.090234",
     "status": "completed"
    },
    "tags": []
   },
   "source": [
    "- **Libraries**"
   ]
  },
  {
   "cell_type": "code",
   "execution_count": 1,
   "id": "668b5993",
   "metadata": {
    "execution": {
     "iopub.execute_input": "2022-02-06T11:54:32.326176Z",
     "iopub.status.busy": "2022-02-06T11:54:32.325495Z",
     "iopub.status.idle": "2022-02-06T11:54:33.498059Z",
     "shell.execute_reply": "2022-02-06T11:54:33.497347Z"
    },
    "papermill": {
     "duration": 1.258206,
     "end_time": "2022-02-06T11:54:33.498235",
     "exception": false,
     "start_time": "2022-02-06T11:54:32.240029",
     "status": "completed"
    },
    "tags": []
   },
   "outputs": [],
   "source": [
    "# Main Packages\n",
    "import numpy as np\n",
    "import pandas as pd\n",
    "import matplotlib as mpl\n",
    "import matplotlib.pyplot as plt\n",
    "import seaborn as sns"
   ]
  },
  {
   "cell_type": "code",
   "execution_count": 2,
   "id": "e2d4dcf8",
   "metadata": {
    "execution": {
     "iopub.execute_input": "2022-02-06T11:54:33.653143Z",
     "iopub.status.busy": "2022-02-06T11:54:33.652412Z",
     "iopub.status.idle": "2022-02-06T11:54:33.656696Z",
     "shell.execute_reply": "2022-02-06T11:54:33.657249Z"
    },
    "papermill": {
     "duration": 0.084806,
     "end_time": "2022-02-06T11:54:33.657653",
     "exception": false,
     "start_time": "2022-02-06T11:54:33.572847",
     "status": "completed"
    },
    "tags": []
   },
   "outputs": [],
   "source": [
    "# In case we want to ignore the warning parts @-@\n",
    "import warnings\n",
    "warnings.filterwarnings(\"ignore\")"
   ]
  },
  {
   "cell_type": "markdown",
   "id": "0cc5f235",
   "metadata": {
    "papermill": {
     "duration": 0.075225,
     "end_time": "2022-02-06T11:54:33.807974",
     "exception": false,
     "start_time": "2022-02-06T11:54:33.732749",
     "status": "completed"
    },
    "tags": []
   },
   "source": [
    "- **Dataset**"
   ]
  },
  {
   "cell_type": "code",
   "execution_count": 3,
   "id": "1b94e697",
   "metadata": {
    "execution": {
     "iopub.execute_input": "2022-02-06T11:54:33.964421Z",
     "iopub.status.busy": "2022-02-06T11:54:33.963577Z",
     "iopub.status.idle": "2022-02-06T11:54:33.966819Z",
     "shell.execute_reply": "2022-02-06T11:54:33.967338Z"
    },
    "papermill": {
     "duration": 0.084273,
     "end_time": "2022-02-06T11:54:33.967524",
     "exception": false,
     "start_time": "2022-02-06T11:54:33.883251",
     "status": "completed"
    },
    "tags": []
   },
   "outputs": [
    {
     "name": "stdout",
     "output_type": "stream",
     "text": [
      "['CarBuyers.csv', 'cleaned_car_buyers.csv', 'Engine CC.csv', 'Female.csv', 'Fuel.csv', 'Male.csv', 'Manufacturer.csv', 'Model.csv', 'Power.csv', 'Price.csv', 'Total.csv', 'Transmission.csv', 'Unknown.csv']\n"
     ]
    }
   ],
   "source": [
    "# See all csv files in the folder 🐯\n",
    "import os\n",
    "files = [f for f in os.listdir() if f.endswith(\".csv\")]\n",
    "print(files)"
   ]
  },
  {
   "cell_type": "code",
   "execution_count": 4,
   "id": "2281f281",
   "metadata": {
    "execution": {
     "iopub.execute_input": "2022-02-06T11:54:34.127521Z",
     "iopub.status.busy": "2022-02-06T11:54:34.126765Z",
     "iopub.status.idle": "2022-02-06T11:54:34.210083Z",
     "shell.execute_reply": "2022-02-06T11:54:34.210605Z"
    },
    "papermill": {
     "duration": 0.164759,
     "end_time": "2022-02-06T11:54:34.210821",
     "exception": false,
     "start_time": "2022-02-06T11:54:34.046062",
     "status": "completed"
    },
    "scrolled": true,
    "tags": []
   },
   "outputs": [
    {
     "data": {
      "text/html": [
       "<div>\n",
       "<style scoped>\n",
       "    .dataframe tbody tr th:only-of-type {\n",
       "        vertical-align: middle;\n",
       "    }\n",
       "\n",
       "    .dataframe tbody tr th {\n",
       "        vertical-align: top;\n",
       "    }\n",
       "\n",
       "    .dataframe thead th {\n",
       "        text-align: right;\n",
       "    }\n",
       "</style>\n",
       "<table border=\"1\" class=\"dataframe\">\n",
       "  <thead>\n",
       "    <tr style=\"text-align: right;\">\n",
       "      <th></th>\n",
       "      <th>Manufacturer</th>\n",
       "      <th>Model</th>\n",
       "      <th>Price</th>\n",
       "      <th>Transmission</th>\n",
       "      <th>Power</th>\n",
       "      <th>Engine CC</th>\n",
       "      <th>Fuel</th>\n",
       "      <th>Male</th>\n",
       "      <th>Female</th>\n",
       "      <th>Unknown</th>\n",
       "      <th>Total</th>\n",
       "    </tr>\n",
       "  </thead>\n",
       "  <tbody>\n",
       "    <tr>\n",
       "      <th>0</th>\n",
       "      <td>Ford</td>\n",
       "      <td>Focus</td>\n",
       "      <td>30.619322</td>\n",
       "      <td>5.966102</td>\n",
       "      <td>94.033898</td>\n",
       "      <td>1497.169492</td>\n",
       "      <td>petrol</td>\n",
       "      <td>814172</td>\n",
       "      <td>422731</td>\n",
       "      <td>56,487</td>\n",
       "      <td>1293390</td>\n",
       "    </tr>\n",
       "    <tr>\n",
       "      <th>1</th>\n",
       "      <td>Ford</td>\n",
       "      <td>Fiesta</td>\n",
       "      <td>18.532143</td>\n",
       "      <td>5.714286</td>\n",
       "      <td>68.571429</td>\n",
       "      <td>1166.142857</td>\n",
       "      <td>petrol</td>\n",
       "      <td>554879</td>\n",
       "      <td>631666</td>\n",
       "      <td>54,057</td>\n",
       "      <td>1240602</td>\n",
       "    </tr>\n",
       "    <tr>\n",
       "      <th>2</th>\n",
       "      <td>Volkswagen</td>\n",
       "      <td>Golf</td>\n",
       "      <td>31.242154</td>\n",
       "      <td>6.164835</td>\n",
       "      <td>89.461538</td>\n",
       "      <td>1537.406593</td>\n",
       "      <td>petrol</td>\n",
       "      <td>483216</td>\n",
       "      <td>310604</td>\n",
       "      <td>47,563</td>\n",
       "      <td>841383</td>\n",
       "    </tr>\n",
       "  </tbody>\n",
       "</table>\n",
       "</div>"
      ],
      "text/plain": [
       "  Manufacturer   Model      Price  Transmission      Power    Engine CC  \\\n",
       "0         Ford   Focus  30.619322      5.966102  94.033898  1497.169492   \n",
       "1         Ford  Fiesta  18.532143      5.714286  68.571429  1166.142857   \n",
       "2   Volkswagen    Golf  31.242154      6.164835  89.461538  1537.406593   \n",
       "\n",
       "     Fuel    Male  Female Unknown    Total  \n",
       "0  petrol  814172  422731  56,487  1293390  \n",
       "1  petrol  554879  631666  54,057  1240602  \n",
       "2  petrol  483216  310604  47,563   841383  "
      ]
     },
     "execution_count": 4,
     "metadata": {},
     "output_type": "execute_result"
    }
   ],
   "source": [
    "data= pd.read_csv(\"CarBuyers.csv\")\n",
    "# data= pd.read_csv(\"/kaggle/input/car-buyers/CarBuyers.csv\")\n",
    "# Sample of data\n",
    "data.head(3)"
   ]
  },
  {
   "cell_type": "markdown",
   "id": "3463a05a",
   "metadata": {
    "papermill": {
     "duration": 0.075364,
     "end_time": "2022-02-06T11:54:34.361834",
     "exception": false,
     "start_time": "2022-02-06T11:54:34.286470",
     "status": "completed"
    },
    "tags": []
   },
   "source": [
    "- Just a curiousity, why sum of num of male, female and unknown does not equal total number of owners, where the remaining owners are classified into ^^."
   ]
  },
  {
   "cell_type": "markdown",
   "id": "ae44f7f8",
   "metadata": {
    "papermill": {
     "duration": 0.078407,
     "end_time": "2022-02-06T11:54:34.515872",
     "exception": false,
     "start_time": "2022-02-06T11:54:34.437465",
     "status": "completed"
    },
    "tags": []
   },
   "source": [
    "### Data Inspection and Pre-Processing 🦌"
   ]
  },
  {
   "cell_type": "code",
   "execution_count": 5,
   "id": "6d260a16",
   "metadata": {
    "execution": {
     "iopub.execute_input": "2022-02-06T11:54:34.673438Z",
     "iopub.status.busy": "2022-02-06T11:54:34.672778Z",
     "iopub.status.idle": "2022-02-06T11:54:34.677582Z",
     "shell.execute_reply": "2022-02-06T11:54:34.678080Z"
    },
    "papermill": {
     "duration": 0.086747,
     "end_time": "2022-02-06T11:54:34.678263",
     "exception": false,
     "start_time": "2022-02-06T11:54:34.591516",
     "status": "completed"
    },
    "tags": []
   },
   "outputs": [
    {
     "data": {
      "text/plain": [
       "(6092, 11)"
      ]
     },
     "execution_count": 5,
     "metadata": {},
     "output_type": "execute_result"
    }
   ],
   "source": [
    "data.shape"
   ]
  },
  {
   "cell_type": "code",
   "execution_count": 6,
   "id": "14d38b00",
   "metadata": {
    "execution": {
     "iopub.execute_input": "2022-02-06T11:54:34.837518Z",
     "iopub.status.busy": "2022-02-06T11:54:34.836699Z",
     "iopub.status.idle": "2022-02-06T11:54:34.840700Z",
     "shell.execute_reply": "2022-02-06T11:54:34.840190Z"
    },
    "papermill": {
     "duration": 0.086479,
     "end_time": "2022-02-06T11:54:34.840844",
     "exception": false,
     "start_time": "2022-02-06T11:54:34.754365",
     "status": "completed"
    },
    "tags": []
   },
   "outputs": [
    {
     "data": {
      "text/plain": [
       "Index(['Manufacturer', 'Model', 'Price', 'Transmission', 'Power', 'Engine CC',\n",
       "       'Fuel', 'Male', 'Female', 'Unknown', 'Total'],\n",
       "      dtype='object')"
      ]
     },
     "execution_count": 6,
     "metadata": {},
     "output_type": "execute_result"
    }
   ],
   "source": [
    "data.columns"
   ]
  },
  {
   "cell_type": "markdown",
   "id": "c73e210f",
   "metadata": {
    "papermill": {
     "duration": 0.078112,
     "end_time": "2022-02-06T11:54:34.996873",
     "exception": false,
     "start_time": "2022-02-06T11:54:34.918761",
     "status": "completed"
    },
    "tags": []
   },
   "source": [
    "- **Data Format**\n",
    "- Categorical variables: 'Manufacturer', 'Model','Fuel'\n",
    "- Numeric variables: \n",
    "    - Continuous: 'Price', 'Transmission', 'Power', 'Engine CC'\n",
    "    - Discrete: 'Male', 'Female', 'Unknown', 'Total'"
   ]
  },
  {
   "cell_type": "code",
   "execution_count": 7,
   "id": "62022374",
   "metadata": {
    "execution": {
     "iopub.execute_input": "2022-02-06T11:54:35.157091Z",
     "iopub.status.busy": "2022-02-06T11:54:35.156197Z",
     "iopub.status.idle": "2022-02-06T11:54:35.190101Z",
     "shell.execute_reply": "2022-02-06T11:54:35.188960Z"
    },
    "papermill": {
     "duration": 0.114493,
     "end_time": "2022-02-06T11:54:35.190354",
     "exception": false,
     "start_time": "2022-02-06T11:54:35.075861",
     "status": "completed"
    },
    "tags": []
   },
   "outputs": [
    {
     "name": "stdout",
     "output_type": "stream",
     "text": [
      "<class 'pandas.core.frame.DataFrame'>\n",
      "RangeIndex: 6092 entries, 0 to 6091\n",
      "Data columns (total 11 columns):\n",
      " #   Column        Non-Null Count  Dtype  \n",
      "---  ------        --------------  -----  \n",
      " 0   Manufacturer  6092 non-null   object \n",
      " 1   Model         6092 non-null   object \n",
      " 2   Price         6092 non-null   float64\n",
      " 3   Transmission  6092 non-null   float64\n",
      " 4   Power         6092 non-null   float64\n",
      " 5   Engine CC     6092 non-null   float64\n",
      " 6   Fuel          6092 non-null   object \n",
      " 7   Male          6092 non-null   object \n",
      " 8   Female        6092 non-null   object \n",
      " 9   Unknown       6092 non-null   object \n",
      " 10  Total         6092 non-null   object \n",
      "dtypes: float64(4), object(7)\n",
      "memory usage: 523.7+ KB\n"
     ]
    }
   ],
   "source": [
    "data.info()"
   ]
  },
  {
   "cell_type": "code",
   "execution_count": 8,
   "id": "d9d259d9",
   "metadata": {
    "execution": {
     "iopub.execute_input": "2022-02-06T11:54:35.351514Z",
     "iopub.status.busy": "2022-02-06T11:54:35.350794Z",
     "iopub.status.idle": "2022-02-06T11:54:35.393765Z",
     "shell.execute_reply": "2022-02-06T11:54:35.394281Z"
    },
    "papermill": {
     "duration": 0.125154,
     "end_time": "2022-02-06T11:54:35.394497",
     "exception": false,
     "start_time": "2022-02-06T11:54:35.269343",
     "status": "completed"
    },
    "tags": []
   },
   "outputs": [
    {
     "name": "stdout",
     "output_type": "stream",
     "text": [
      "<class 'pandas.core.frame.DataFrame'>\n",
      "RangeIndex: 6092 entries, 0 to 6091\n",
      "Data columns (total 11 columns):\n",
      " #   Column        Non-Null Count  Dtype  \n",
      "---  ------        --------------  -----  \n",
      " 0   Manufacturer  6092 non-null   object \n",
      " 1   Model         6092 non-null   object \n",
      " 2   Price         6092 non-null   float64\n",
      " 3   Transmission  6092 non-null   float64\n",
      " 4   Power         6092 non-null   float64\n",
      " 5   Engine CC     6092 non-null   float64\n",
      " 6   Fuel          6092 non-null   object \n",
      " 7   Male          6092 non-null   int64  \n",
      " 8   Female        6092 non-null   int64  \n",
      " 9   Unknown       6092 non-null   int64  \n",
      " 10  Total         6092 non-null   int64  \n",
      "dtypes: float64(4), int64(4), object(3)\n",
      "memory usage: 523.7+ KB\n"
     ]
    }
   ],
   "source": [
    "# We convert number of Male, female, unknown and total ownwers to integer 🐐\n",
    "def to_int(x):\n",
    "    return(int(x.replace(',','')))\n",
    "for int_col in ['Male', 'Female', 'Unknown', 'Total']:\n",
    "    data[int_col]= data[int_col].map(to_int)\n",
    "data.info()"
   ]
  },
  {
   "cell_type": "markdown",
   "id": "40037365",
   "metadata": {
    "papermill": {
     "duration": 0.078742,
     "end_time": "2022-02-06T11:54:35.553906",
     "exception": false,
     "start_time": "2022-02-06T11:54:35.475164",
     "status": "completed"
    },
    "tags": []
   },
   "source": [
    "- There is no missing values in all attributes "
   ]
  },
  {
   "cell_type": "code",
   "execution_count": 9,
   "id": "dddd0486",
   "metadata": {
    "execution": {
     "iopub.execute_input": "2022-02-06T11:54:35.714965Z",
     "iopub.status.busy": "2022-02-06T11:54:35.714223Z",
     "iopub.status.idle": "2022-02-06T11:54:35.737978Z",
     "shell.execute_reply": "2022-02-06T11:54:35.738465Z"
    },
    "papermill": {
     "duration": 0.106179,
     "end_time": "2022-02-06T11:54:35.738635",
     "exception": false,
     "start_time": "2022-02-06T11:54:35.632456",
     "status": "completed"
    },
    "tags": []
   },
   "outputs": [
    {
     "data": {
      "text/html": [
       "<div>\n",
       "<style scoped>\n",
       "    .dataframe tbody tr th:only-of-type {\n",
       "        vertical-align: middle;\n",
       "    }\n",
       "\n",
       "    .dataframe tbody tr th {\n",
       "        vertical-align: top;\n",
       "    }\n",
       "\n",
       "    .dataframe thead th {\n",
       "        text-align: right;\n",
       "    }\n",
       "</style>\n",
       "<table border=\"1\" class=\"dataframe\">\n",
       "  <thead>\n",
       "    <tr style=\"text-align: right;\">\n",
       "      <th></th>\n",
       "      <th>column</th>\n",
       "      <th>is_unique</th>\n",
       "      <th>num unique val</th>\n",
       "      <th>unique val</th>\n",
       "    </tr>\n",
       "  </thead>\n",
       "  <tbody>\n",
       "    <tr>\n",
       "      <th>0</th>\n",
       "      <td>Manufacturer</td>\n",
       "      <td>False</td>\n",
       "      <td>52</td>\n",
       "      <td>[Ford, Volkswagen, Renault, BMW, Peugeot, Niss...</td>\n",
       "    </tr>\n",
       "    <tr>\n",
       "      <th>1</th>\n",
       "      <td>Model</td>\n",
       "      <td>False</td>\n",
       "      <td>501</td>\n",
       "      <td>[Focus, Fiesta, Golf, Clio, 320i, Polo, 206, M...</td>\n",
       "    </tr>\n",
       "    <tr>\n",
       "      <th>2</th>\n",
       "      <td>Fuel</td>\n",
       "      <td>False</td>\n",
       "      <td>3</td>\n",
       "      <td>[petrol, diesel, automatic]</td>\n",
       "    </tr>\n",
       "  </tbody>\n",
       "</table>\n",
       "</div>"
      ],
      "text/plain": [
       "         column  is_unique  num unique val  \\\n",
       "0  Manufacturer      False              52   \n",
       "1         Model      False             501   \n",
       "2          Fuel      False               3   \n",
       "\n",
       "                                          unique val  \n",
       "0  [Ford, Volkswagen, Renault, BMW, Peugeot, Niss...  \n",
       "1  [Focus, Fiesta, Golf, Clio, 320i, Polo, 206, M...  \n",
       "2                        [petrol, diesel, automatic]  "
      ]
     },
     "execution_count": 9,
     "metadata": {},
     "output_type": "execute_result"
    }
   ],
   "source": [
    "# Unique values of each categorical variable 🐩\n",
    "unique_data= pd.DataFrame({'column':  ['Manufacturer', 'Model','Fuel']})\n",
    "unique_data['is_unique']= unique_data['column'].apply(lambda x: data[x].is_unique)\n",
    "unique_data['num unique val']= unique_data['column'].apply(lambda x: data[x].nunique())\n",
    "unique_data['unique val']= unique_data['column'].apply(lambda x: data[x].unique())\n",
    "unique_data"
   ]
  },
  {
   "cell_type": "markdown",
   "id": "2d6138ce",
   "metadata": {
    "papermill": {
     "duration": 0.078632,
     "end_time": "2022-02-06T11:54:35.895423",
     "exception": false,
     "start_time": "2022-02-06T11:54:35.816791",
     "status": "completed"
    },
    "tags": []
   },
   "source": [
    "- There is no single attribute that can uniquely identify each record.  "
   ]
  },
  {
   "cell_type": "code",
   "execution_count": 10,
   "id": "4e3cb1d7",
   "metadata": {
    "execution": {
     "iopub.execute_input": "2022-02-06T11:54:36.061132Z",
     "iopub.status.busy": "2022-02-06T11:54:36.060423Z",
     "iopub.status.idle": "2022-02-06T11:54:36.103303Z",
     "shell.execute_reply": "2022-02-06T11:54:36.102745Z"
    },
    "papermill": {
     "duration": 0.130423,
     "end_time": "2022-02-06T11:54:36.103507",
     "exception": false,
     "start_time": "2022-02-06T11:54:35.973084",
     "status": "completed"
    },
    "tags": []
   },
   "outputs": [
    {
     "data": {
      "text/html": [
       "<div>\n",
       "<style scoped>\n",
       "    .dataframe tbody tr th:only-of-type {\n",
       "        vertical-align: middle;\n",
       "    }\n",
       "\n",
       "    .dataframe tbody tr th {\n",
       "        vertical-align: top;\n",
       "    }\n",
       "\n",
       "    .dataframe thead th {\n",
       "        text-align: right;\n",
       "    }\n",
       "</style>\n",
       "<table border=\"1\" class=\"dataframe\">\n",
       "  <thead>\n",
       "    <tr style=\"text-align: right;\">\n",
       "      <th></th>\n",
       "      <th>Price</th>\n",
       "      <th>Transmission</th>\n",
       "      <th>Power</th>\n",
       "      <th>Engine CC</th>\n",
       "      <th>Male</th>\n",
       "      <th>Female</th>\n",
       "      <th>Unknown</th>\n",
       "      <th>Total</th>\n",
       "    </tr>\n",
       "  </thead>\n",
       "  <tbody>\n",
       "    <tr>\n",
       "      <th>count</th>\n",
       "      <td>6092.00</td>\n",
       "      <td>6092.00</td>\n",
       "      <td>6092.00</td>\n",
       "      <td>6092.00</td>\n",
       "      <td>6092.00</td>\n",
       "      <td>6092.00</td>\n",
       "      <td>6092.00</td>\n",
       "      <td>6092.00</td>\n",
       "    </tr>\n",
       "    <tr>\n",
       "      <th>mean</th>\n",
       "      <td>41.23</td>\n",
       "      <td>5.13</td>\n",
       "      <td>111.48</td>\n",
       "      <td>1982.08</td>\n",
       "      <td>32924.63</td>\n",
       "      <td>20048.72</td>\n",
       "      <td>2458.24</td>\n",
       "      <td>55431.58</td>\n",
       "    </tr>\n",
       "    <tr>\n",
       "      <th>std</th>\n",
       "      <td>51.36</td>\n",
       "      <td>1.34</td>\n",
       "      <td>67.62</td>\n",
       "      <td>817.41</td>\n",
       "      <td>81261.67</td>\n",
       "      <td>60647.61</td>\n",
       "      <td>5797.11</td>\n",
       "      <td>141288.62</td>\n",
       "    </tr>\n",
       "    <tr>\n",
       "      <th>min</th>\n",
       "      <td>3.33</td>\n",
       "      <td>0.00</td>\n",
       "      <td>15.60</td>\n",
       "      <td>0.00</td>\n",
       "      <td>291.00</td>\n",
       "      <td>30.00</td>\n",
       "      <td>13.00</td>\n",
       "      <td>1001.00</td>\n",
       "    </tr>\n",
       "    <tr>\n",
       "      <th>25%</th>\n",
       "      <td>18.51</td>\n",
       "      <td>4.60</td>\n",
       "      <td>70.25</td>\n",
       "      <td>1497.13</td>\n",
       "      <td>2773.25</td>\n",
       "      <td>878.50</td>\n",
       "      <td>166.75</td>\n",
       "      <td>3940.25</td>\n",
       "    </tr>\n",
       "    <tr>\n",
       "      <th>50%</th>\n",
       "      <td>29.04</td>\n",
       "      <td>5.00</td>\n",
       "      <td>94.06</td>\n",
       "      <td>1832.89</td>\n",
       "      <td>8079.00</td>\n",
       "      <td>3366.00</td>\n",
       "      <td>548.00</td>\n",
       "      <td>12731.50</td>\n",
       "    </tr>\n",
       "    <tr>\n",
       "      <th>75%</th>\n",
       "      <td>43.86</td>\n",
       "      <td>5.97</td>\n",
       "      <td>121.86</td>\n",
       "      <td>2247.33</td>\n",
       "      <td>25322.00</td>\n",
       "      <td>12070.00</td>\n",
       "      <td>1937.00</td>\n",
       "      <td>40595.25</td>\n",
       "    </tr>\n",
       "    <tr>\n",
       "      <th>max</th>\n",
       "      <td>646.60</td>\n",
       "      <td>8.28</td>\n",
       "      <td>450.00</td>\n",
       "      <td>6208.00</td>\n",
       "      <td>1007113.00</td>\n",
       "      <td>789633.00</td>\n",
       "      <td>56487.00</td>\n",
       "      <td>1561512.00</td>\n",
       "    </tr>\n",
       "  </tbody>\n",
       "</table>\n",
       "</div>"
      ],
      "text/plain": [
       "         Price  Transmission    Power  Engine CC        Male     Female  \\\n",
       "count  6092.00       6092.00  6092.00    6092.00     6092.00    6092.00   \n",
       "mean     41.23          5.13   111.48    1982.08    32924.63   20048.72   \n",
       "std      51.36          1.34    67.62     817.41    81261.67   60647.61   \n",
       "min       3.33          0.00    15.60       0.00      291.00      30.00   \n",
       "25%      18.51          4.60    70.25    1497.13     2773.25     878.50   \n",
       "50%      29.04          5.00    94.06    1832.89     8079.00    3366.00   \n",
       "75%      43.86          5.97   121.86    2247.33    25322.00   12070.00   \n",
       "max     646.60          8.28   450.00    6208.00  1007113.00  789633.00   \n",
       "\n",
       "        Unknown       Total  \n",
       "count   6092.00     6092.00  \n",
       "mean    2458.24    55431.58  \n",
       "std     5797.11   141288.62  \n",
       "min       13.00     1001.00  \n",
       "25%      166.75     3940.25  \n",
       "50%      548.00    12731.50  \n",
       "75%     1937.00    40595.25  \n",
       "max    56487.00  1561512.00  "
      ]
     },
     "execution_count": 10,
     "metadata": {},
     "output_type": "execute_result"
    }
   ],
   "source": [
    "# Some descriptive statistic of numeric vaiables 🦝\n",
    "data.describe().round(2)"
   ]
  },
  {
   "cell_type": "markdown",
   "id": "61606828",
   "metadata": {
    "papermill": {
     "duration": 0.078876,
     "end_time": "2022-02-06T11:54:36.261979",
     "exception": false,
     "start_time": "2022-02-06T11:54:36.183103",
     "status": "completed"
    },
    "tags": []
   },
   "source": [
    "### Basic EDA and Data Pre-processing 🐬 🐳 🐋"
   ]
  },
  {
   "cell_type": "markdown",
   "id": "e620df51",
   "metadata": {
    "papermill": {
     "duration": 0.079398,
     "end_time": "2022-02-06T11:54:36.421564",
     "exception": false,
     "start_time": "2022-02-06T11:54:36.342166",
     "status": "completed"
    },
    "tags": []
   },
   "source": [
    "- I observe that there are many records with the same 'Manufacturer', 'Model', 'Price', 'Transmission', 'Power', 'Engine CC','Fuel' values, with different number of owners. I'll show you "
   ]
  },
  {
   "cell_type": "code",
   "execution_count": 11,
   "id": "fa6f3fbc",
   "metadata": {
    "execution": {
     "iopub.execute_input": "2022-02-06T11:54:36.584318Z",
     "iopub.status.busy": "2022-02-06T11:54:36.583303Z",
     "iopub.status.idle": "2022-02-06T11:54:36.610846Z",
     "shell.execute_reply": "2022-02-06T11:54:36.611510Z"
    },
    "papermill": {
     "duration": 0.111417,
     "end_time": "2022-02-06T11:54:36.611718",
     "exception": false,
     "start_time": "2022-02-06T11:54:36.500301",
     "status": "completed"
    },
    "tags": []
   },
   "outputs": [
    {
     "data": {
      "text/html": [
       "<div>\n",
       "<style scoped>\n",
       "    .dataframe tbody tr th:only-of-type {\n",
       "        vertical-align: middle;\n",
       "    }\n",
       "\n",
       "    .dataframe tbody tr th {\n",
       "        vertical-align: top;\n",
       "    }\n",
       "\n",
       "    .dataframe thead th {\n",
       "        text-align: right;\n",
       "    }\n",
       "</style>\n",
       "<table border=\"1\" class=\"dataframe\">\n",
       "  <thead>\n",
       "    <tr style=\"text-align: right;\">\n",
       "      <th></th>\n",
       "      <th>Manufacturer</th>\n",
       "      <th>Model</th>\n",
       "      <th>Price</th>\n",
       "      <th>Transmission</th>\n",
       "      <th>Power</th>\n",
       "      <th>Engine CC</th>\n",
       "      <th>Fuel</th>\n",
       "      <th>Total</th>\n",
       "    </tr>\n",
       "  </thead>\n",
       "  <tbody>\n",
       "    <tr>\n",
       "      <th>0</th>\n",
       "      <td>Abarth</td>\n",
       "      <td>500C</td>\n",
       "      <td>21.105625</td>\n",
       "      <td>5.000000</td>\n",
       "      <td>60.625000</td>\n",
       "      <td>1039.500000</td>\n",
       "      <td>petrol</td>\n",
       "      <td>4</td>\n",
       "    </tr>\n",
       "    <tr>\n",
       "      <th>1</th>\n",
       "      <td>Alfa-Romeo</td>\n",
       "      <td>145</td>\n",
       "      <td>17.427143</td>\n",
       "      <td>5.000000</td>\n",
       "      <td>87.714286</td>\n",
       "      <td>1696.428571</td>\n",
       "      <td>petrol</td>\n",
       "      <td>15</td>\n",
       "    </tr>\n",
       "    <tr>\n",
       "      <th>2</th>\n",
       "      <td>Alfa-Romeo</td>\n",
       "      <td>146</td>\n",
       "      <td>18.198429</td>\n",
       "      <td>5.000000</td>\n",
       "      <td>87.714286</td>\n",
       "      <td>1696.428571</td>\n",
       "      <td>petrol</td>\n",
       "      <td>15</td>\n",
       "    </tr>\n",
       "    <tr>\n",
       "      <th>3</th>\n",
       "      <td>Alfa-Romeo</td>\n",
       "      <td>147</td>\n",
       "      <td>25.343387</td>\n",
       "      <td>5.193548</td>\n",
       "      <td>95.096774</td>\n",
       "      <td>1802.774194</td>\n",
       "      <td>petrol</td>\n",
       "      <td>13</td>\n",
       "    </tr>\n",
       "    <tr>\n",
       "      <th>4</th>\n",
       "      <td>Alfa-Romeo</td>\n",
       "      <td>155</td>\n",
       "      <td>23.909333</td>\n",
       "      <td>5.000000</td>\n",
       "      <td>100.666667</td>\n",
       "      <td>2016.777778</td>\n",
       "      <td>petrol</td>\n",
       "      <td>13</td>\n",
       "    </tr>\n",
       "  </tbody>\n",
       "</table>\n",
       "</div>"
      ],
      "text/plain": [
       "  Manufacturer Model      Price  Transmission       Power    Engine CC  \\\n",
       "0       Abarth  500C  21.105625      5.000000   60.625000  1039.500000   \n",
       "1   Alfa-Romeo   145  17.427143      5.000000   87.714286  1696.428571   \n",
       "2   Alfa-Romeo   146  18.198429      5.000000   87.714286  1696.428571   \n",
       "3   Alfa-Romeo   147  25.343387      5.193548   95.096774  1802.774194   \n",
       "4   Alfa-Romeo   155  23.909333      5.000000  100.666667  2016.777778   \n",
       "\n",
       "     Fuel  Total  \n",
       "0  petrol      4  \n",
       "1  petrol     15  \n",
       "2  petrol     15  \n",
       "3  petrol     13  \n",
       "4  petrol     13  "
      ]
     },
     "execution_count": 11,
     "metadata": {},
     "output_type": "execute_result"
    }
   ],
   "source": [
    "data.groupby(['Manufacturer', 'Model', 'Price', 'Transmission', 'Power', 'Engine CC','Fuel'],\n",
    "             as_index=False)['Total'].count().head(5)"
   ]
  },
  {
   "cell_type": "code",
   "execution_count": 12,
   "id": "ba09db1b",
   "metadata": {
    "execution": {
     "iopub.execute_input": "2022-02-06T11:54:36.779231Z",
     "iopub.status.busy": "2022-02-06T11:54:36.778467Z",
     "iopub.status.idle": "2022-02-06T11:54:36.799722Z",
     "shell.execute_reply": "2022-02-06T11:54:36.800512Z"
    },
    "papermill": {
     "duration": 0.105665,
     "end_time": "2022-02-06T11:54:36.800726",
     "exception": false,
     "start_time": "2022-02-06T11:54:36.695061",
     "status": "completed"
    },
    "tags": []
   },
   "outputs": [
    {
     "data": {
      "text/html": [
       "<div>\n",
       "<style scoped>\n",
       "    .dataframe tbody tr th:only-of-type {\n",
       "        vertical-align: middle;\n",
       "    }\n",
       "\n",
       "    .dataframe tbody tr th {\n",
       "        vertical-align: top;\n",
       "    }\n",
       "\n",
       "    .dataframe thead th {\n",
       "        text-align: right;\n",
       "    }\n",
       "</style>\n",
       "<table border=\"1\" class=\"dataframe\">\n",
       "  <thead>\n",
       "    <tr style=\"text-align: right;\">\n",
       "      <th></th>\n",
       "      <th>Manufacturer</th>\n",
       "      <th>Model</th>\n",
       "      <th>Price</th>\n",
       "      <th>Transmission</th>\n",
       "      <th>Power</th>\n",
       "      <th>Engine CC</th>\n",
       "      <th>Fuel</th>\n",
       "      <th>Male</th>\n",
       "      <th>Female</th>\n",
       "      <th>Unknown</th>\n",
       "      <th>Total</th>\n",
       "    </tr>\n",
       "  </thead>\n",
       "  <tbody>\n",
       "    <tr>\n",
       "      <th>281</th>\n",
       "      <td>Abarth</td>\n",
       "      <td>500C</td>\n",
       "      <td>21.105625</td>\n",
       "      <td>5.0</td>\n",
       "      <td>60.625</td>\n",
       "      <td>1039.5</td>\n",
       "      <td>petrol</td>\n",
       "      <td>2305</td>\n",
       "      <td>1697</td>\n",
       "      <td>180</td>\n",
       "      <td>4182</td>\n",
       "    </tr>\n",
       "    <tr>\n",
       "      <th>689</th>\n",
       "      <td>Abarth</td>\n",
       "      <td>500C</td>\n",
       "      <td>21.105625</td>\n",
       "      <td>5.0</td>\n",
       "      <td>60.625</td>\n",
       "      <td>1039.5</td>\n",
       "      <td>petrol</td>\n",
       "      <td>2081</td>\n",
       "      <td>1373</td>\n",
       "      <td>155</td>\n",
       "      <td>3609</td>\n",
       "    </tr>\n",
       "    <tr>\n",
       "      <th>1103</th>\n",
       "      <td>Abarth</td>\n",
       "      <td>500C</td>\n",
       "      <td>21.105625</td>\n",
       "      <td>5.0</td>\n",
       "      <td>60.625</td>\n",
       "      <td>1039.5</td>\n",
       "      <td>petrol</td>\n",
       "      <td>1637</td>\n",
       "      <td>1000</td>\n",
       "      <td>142</td>\n",
       "      <td>2779</td>\n",
       "    </tr>\n",
       "    <tr>\n",
       "      <th>1530</th>\n",
       "      <td>Abarth</td>\n",
       "      <td>500C</td>\n",
       "      <td>21.105625</td>\n",
       "      <td>5.0</td>\n",
       "      <td>60.625</td>\n",
       "      <td>1039.5</td>\n",
       "      <td>petrol</td>\n",
       "      <td>1101</td>\n",
       "      <td>649</td>\n",
       "      <td>93</td>\n",
       "      <td>1843</td>\n",
       "    </tr>\n",
       "  </tbody>\n",
       "</table>\n",
       "</div>"
      ],
      "text/plain": [
       "     Manufacturer Model      Price  Transmission   Power  Engine CC    Fuel  \\\n",
       "281        Abarth  500C  21.105625           5.0  60.625     1039.5  petrol   \n",
       "689        Abarth  500C  21.105625           5.0  60.625     1039.5  petrol   \n",
       "1103       Abarth  500C  21.105625           5.0  60.625     1039.5  petrol   \n",
       "1530       Abarth  500C  21.105625           5.0  60.625     1039.5  petrol   \n",
       "\n",
       "      Male  Female  Unknown  Total  \n",
       "281   2305    1697      180   4182  \n",
       "689   2081    1373      155   3609  \n",
       "1103  1637    1000      142   2779  \n",
       "1530  1101     649       93   1843  "
      ]
     },
     "execution_count": 12,
     "metadata": {},
     "output_type": "execute_result"
    }
   ],
   "source": [
    "# U can check others as well\n",
    "mask1= data['Manufacturer']=='Abarth'\n",
    "mask2= data['Model']=='500C'\n",
    "data[mask1&mask2]"
   ]
  },
  {
   "cell_type": "markdown",
   "id": "07d95ce4",
   "metadata": {
    "papermill": {
     "duration": 0.082183,
     "end_time": "2022-02-06T11:54:36.965550",
     "exception": false,
     "start_time": "2022-02-06T11:54:36.883367",
     "status": "completed"
    },
    "tags": []
   },
   "source": [
    "- One way to deal with this is to sum up all number of owners of the same type of record"
   ]
  },
  {
   "cell_type": "code",
   "execution_count": 13,
   "id": "ccde87a2",
   "metadata": {
    "execution": {
     "iopub.execute_input": "2022-02-06T11:54:37.135560Z",
     "iopub.status.busy": "2022-02-06T11:54:37.134819Z",
     "iopub.status.idle": "2022-02-06T11:54:37.168499Z",
     "shell.execute_reply": "2022-02-06T11:54:37.169038Z"
    },
    "papermill": {
     "duration": 0.121627,
     "end_time": "2022-02-06T11:54:37.169232",
     "exception": false,
     "start_time": "2022-02-06T11:54:37.047605",
     "status": "completed"
    },
    "tags": []
   },
   "outputs": [
    {
     "data": {
      "text/html": [
       "<div>\n",
       "<style scoped>\n",
       "    .dataframe tbody tr th:only-of-type {\n",
       "        vertical-align: middle;\n",
       "    }\n",
       "\n",
       "    .dataframe tbody tr th {\n",
       "        vertical-align: top;\n",
       "    }\n",
       "\n",
       "    .dataframe thead th {\n",
       "        text-align: right;\n",
       "    }\n",
       "</style>\n",
       "<table border=\"1\" class=\"dataframe\">\n",
       "  <thead>\n",
       "    <tr style=\"text-align: right;\">\n",
       "      <th></th>\n",
       "      <th>Manufacturer</th>\n",
       "      <th>Model</th>\n",
       "      <th>Price</th>\n",
       "      <th>Transmission</th>\n",
       "      <th>Power</th>\n",
       "      <th>Engine CC</th>\n",
       "      <th>Fuel</th>\n",
       "      <th>Male</th>\n",
       "      <th>Female</th>\n",
       "      <th>Unknown</th>\n",
       "      <th>Total</th>\n",
       "    </tr>\n",
       "  </thead>\n",
       "  <tbody>\n",
       "    <tr>\n",
       "      <th>0</th>\n",
       "      <td>Abarth</td>\n",
       "      <td>500C</td>\n",
       "      <td>21.105625</td>\n",
       "      <td>5.0</td>\n",
       "      <td>60.625000</td>\n",
       "      <td>1039.500000</td>\n",
       "      <td>petrol</td>\n",
       "      <td>7124</td>\n",
       "      <td>4719</td>\n",
       "      <td>570</td>\n",
       "      <td>12413</td>\n",
       "    </tr>\n",
       "    <tr>\n",
       "      <th>1</th>\n",
       "      <td>Alfa-Romeo</td>\n",
       "      <td>145</td>\n",
       "      <td>17.427143</td>\n",
       "      <td>5.0</td>\n",
       "      <td>87.714286</td>\n",
       "      <td>1696.428571</td>\n",
       "      <td>petrol</td>\n",
       "      <td>29993</td>\n",
       "      <td>11855</td>\n",
       "      <td>2186</td>\n",
       "      <td>44034</td>\n",
       "    </tr>\n",
       "    <tr>\n",
       "      <th>2</th>\n",
       "      <td>Alfa-Romeo</td>\n",
       "      <td>146</td>\n",
       "      <td>18.198429</td>\n",
       "      <td>5.0</td>\n",
       "      <td>87.714286</td>\n",
       "      <td>1696.428571</td>\n",
       "      <td>petrol</td>\n",
       "      <td>40928</td>\n",
       "      <td>14231</td>\n",
       "      <td>2969</td>\n",
       "      <td>58128</td>\n",
       "    </tr>\n",
       "  </tbody>\n",
       "</table>\n",
       "</div>"
      ],
      "text/plain": [
       "  Manufacturer Model      Price  Transmission      Power    Engine CC    Fuel  \\\n",
       "0       Abarth  500C  21.105625           5.0  60.625000  1039.500000  petrol   \n",
       "1   Alfa-Romeo   145  17.427143           5.0  87.714286  1696.428571  petrol   \n",
       "2   Alfa-Romeo   146  18.198429           5.0  87.714286  1696.428571  petrol   \n",
       "\n",
       "    Male  Female  Unknown  Total  \n",
       "0   7124    4719      570  12413  \n",
       "1  29993   11855     2186  44034  \n",
       "2  40928   14231     2969  58128  "
      ]
     },
     "execution_count": 13,
     "metadata": {},
     "output_type": "execute_result"
    }
   ],
   "source": [
    "data= data.groupby(['Manufacturer', 'Model', 'Price', 'Transmission', 'Power', 'Engine CC','Fuel'],\n",
    "             as_index=False).sum()\n",
    "data.head(3)"
   ]
  },
  {
   "cell_type": "markdown",
   "id": "6b1facc6",
   "metadata": {
    "papermill": {
     "duration": 0.081337,
     "end_time": "2022-02-06T11:54:37.332891",
     "exception": false,
     "start_time": "2022-02-06T11:54:37.251554",
     "status": "completed"
    },
    "tags": []
   },
   "source": [
    "- Now, the composite key of Manufacturer and Model can uniquely identify a record. Lets check!"
   ]
  },
  {
   "cell_type": "code",
   "execution_count": 14,
   "id": "c18ebf6f",
   "metadata": {
    "execution": {
     "iopub.execute_input": "2022-02-06T11:54:37.499891Z",
     "iopub.status.busy": "2022-02-06T11:54:37.498858Z",
     "iopub.status.idle": "2022-02-06T11:54:37.506876Z",
     "shell.execute_reply": "2022-02-06T11:54:37.507485Z"
    },
    "papermill": {
     "duration": 0.094139,
     "end_time": "2022-02-06T11:54:37.507662",
     "exception": false,
     "start_time": "2022-02-06T11:54:37.413523",
     "status": "completed"
    },
    "tags": []
   },
   "outputs": [
    {
     "data": {
      "text/plain": [
       "True"
      ]
     },
     "execution_count": 14,
     "metadata": {},
     "output_type": "execute_result"
    }
   ],
   "source": [
    "data.set_index(['Manufacturer','Model']).index.is_unique"
   ]
  },
  {
   "cell_type": "markdown",
   "id": "df4bfbe7",
   "metadata": {
    "papermill": {
     "duration": 0.084705,
     "end_time": "2022-02-06T11:54:37.676504",
     "exception": false,
     "start_time": "2022-02-06T11:54:37.591799",
     "status": "completed"
    },
    "tags": []
   },
   "source": [
    "**Car Owners by Gender** 🍄"
   ]
  },
  {
   "cell_type": "code",
   "execution_count": 15,
   "id": "939c1881",
   "metadata": {
    "execution": {
     "iopub.execute_input": "2022-02-06T11:54:37.863861Z",
     "iopub.status.busy": "2022-02-06T11:54:37.862867Z",
     "iopub.status.idle": "2022-02-06T11:54:37.867406Z",
     "shell.execute_reply": "2022-02-06T11:54:37.866756Z"
    },
    "papermill": {
     "duration": 0.10383,
     "end_time": "2022-02-06T11:54:37.867562",
     "exception": false,
     "start_time": "2022-02-06T11:54:37.763732",
     "status": "completed"
    },
    "tags": []
   },
   "outputs": [
    {
     "data": {
      "text/html": [
       "<div>\n",
       "<style scoped>\n",
       "    .dataframe tbody tr th:only-of-type {\n",
       "        vertical-align: middle;\n",
       "    }\n",
       "\n",
       "    .dataframe tbody tr th {\n",
       "        vertical-align: top;\n",
       "    }\n",
       "\n",
       "    .dataframe thead th {\n",
       "        text-align: right;\n",
       "    }\n",
       "</style>\n",
       "<table border=\"1\" class=\"dataframe\">\n",
       "  <thead>\n",
       "    <tr style=\"text-align: right;\">\n",
       "      <th></th>\n",
       "      <th>Gender</th>\n",
       "      <th>Count</th>\n",
       "      <th>%</th>\n",
       "    </tr>\n",
       "  </thead>\n",
       "  <tbody>\n",
       "    <tr>\n",
       "      <th>0</th>\n",
       "      <td>Male</td>\n",
       "      <td>200576818</td>\n",
       "      <td>0.593969</td>\n",
       "    </tr>\n",
       "    <tr>\n",
       "      <th>1</th>\n",
       "      <td>Female</td>\n",
       "      <td>122136776</td>\n",
       "      <td>0.361684</td>\n",
       "    </tr>\n",
       "    <tr>\n",
       "      <th>2</th>\n",
       "      <td>Unknown</td>\n",
       "      <td>14975599</td>\n",
       "      <td>0.044347</td>\n",
       "    </tr>\n",
       "  </tbody>\n",
       "</table>\n",
       "</div>"
      ],
      "text/plain": [
       "    Gender      Count         %\n",
       "0     Male  200576818  0.593969\n",
       "1   Female  122136776  0.361684\n",
       "2  Unknown   14975599  0.044347"
      ]
     },
     "execution_count": 15,
     "metadata": {},
     "output_type": "execute_result"
    }
   ],
   "source": [
    "data_gender= pd.DataFrame({'Gender':['Male', 'Female', 'Unknown']})\n",
    "data_gender['Count']= data_gender['Gender'].apply(lambda x: data[x].sum())\n",
    "data_gender['%']= data_gender['Count'].apply(lambda x: x/data_gender['Count'].sum())\n",
    "data_gender"
   ]
  },
  {
   "cell_type": "code",
   "execution_count": 16,
   "id": "dd94c288",
   "metadata": {
    "execution": {
     "iopub.execute_input": "2022-02-06T11:54:38.048097Z",
     "iopub.status.busy": "2022-02-06T11:54:38.047383Z",
     "iopub.status.idle": "2022-02-06T11:54:38.509062Z",
     "shell.execute_reply": "2022-02-06T11:54:38.508309Z"
    },
    "papermill": {
     "duration": 0.558383,
     "end_time": "2022-02-06T11:54:38.509245",
     "exception": false,
     "start_time": "2022-02-06T11:54:37.950862",
     "status": "completed"
    },
    "tags": []
   },
   "outputs": [
    {
     "data": {
      "image/png": "[encoded data removed]",
      "text/plain": [
       "<Figure size 864x360 with 2 Axes>"
      ]
     },
     "metadata": {
      "needs_background": "light"
     },
     "output_type": "display_data"
    }
   ],
   "source": [
    "fig,ax=plt.subplots(ncols=2,figsize=(12,5))\n",
    "sns.barplot(x='Gender', y='Count', data=data_gender, palette='rocket',edgecolor='black', ax=ax[0])\n",
    "sns.barplot(x='Gender', y='%', data=data_gender, palette='viridis',edgecolor='black', ax=ax[1])\n",
    "ax[0].set_title('Number of Car Owners by Gender', color='darkred', fontsize=15)\n",
    "ax[1].set_title('Percentage of Car Owners by Gender', color='darkblue', fontsize=15)\n",
    "fig.tight_layout();"
   ]
  },
  {
   "cell_type": "markdown",
   "id": "17249bf7",
   "metadata": {
    "papermill": {
     "duration": 0.084226,
     "end_time": "2022-02-06T11:54:38.678561",
     "exception": false,
     "start_time": "2022-02-06T11:54:38.594335",
     "status": "completed"
    },
    "tags": []
   },
   "source": [
    "- A majority of Car owners are male (with approximately 60%), amount of female owners is about two third, number of owners with unidentified-gender is of lowest with just under 5%. "
   ]
  },
  {
   "cell_type": "markdown",
   "id": "496926c7",
   "metadata": {
    "papermill": {
     "duration": 0.083978,
     "end_time": "2022-02-06T11:54:38.847397",
     "exception": false,
     "start_time": "2022-02-06T11:54:38.763419",
     "status": "completed"
    },
    "tags": []
   },
   "source": [
    "**Top Manufacturers by Number of Owners** 🍁"
   ]
  },
  {
   "cell_type": "markdown",
   "id": "76423a42",
   "metadata": {
    "papermill": {
     "duration": 0.083686,
     "end_time": "2022-02-06T11:54:39.013810",
     "exception": false,
     "start_time": "2022-02-06T11:54:38.930124",
     "status": "completed"
    },
    "tags": []
   },
   "source": [
    "- I want to identify top manufacturers by amount of buyers, whether there is any dominated Manufacturers or not. "
   ]
  },
  {
   "cell_type": "code",
   "execution_count": 17,
   "id": "1d804271",
   "metadata": {
    "execution": {
     "iopub.execute_input": "2022-02-06T11:54:39.192367Z",
     "iopub.status.busy": "2022-02-06T11:54:39.191610Z",
     "iopub.status.idle": "2022-02-06T11:54:39.203449Z",
     "shell.execute_reply": "2022-02-06T11:54:39.203984Z"
    },
    "papermill": {
     "duration": 0.107385,
     "end_time": "2022-02-06T11:54:39.204168",
     "exception": false,
     "start_time": "2022-02-06T11:54:39.096783",
     "status": "completed"
    },
    "tags": []
   },
   "outputs": [
    {
     "data": {
      "text/html": [
       "<div>\n",
       "<style scoped>\n",
       "    .dataframe tbody tr th:only-of-type {\n",
       "        vertical-align: middle;\n",
       "    }\n",
       "\n",
       "    .dataframe tbody tr th {\n",
       "        vertical-align: top;\n",
       "    }\n",
       "\n",
       "    .dataframe thead th {\n",
       "        text-align: right;\n",
       "    }\n",
       "</style>\n",
       "<table border=\"1\" class=\"dataframe\">\n",
       "  <thead>\n",
       "    <tr style=\"text-align: right;\">\n",
       "      <th></th>\n",
       "      <th>Manufacturer</th>\n",
       "      <th>Male</th>\n",
       "      <th>Female</th>\n",
       "      <th>Total</th>\n",
       "    </tr>\n",
       "  </thead>\n",
       "  <tbody>\n",
       "    <tr>\n",
       "      <th>0</th>\n",
       "      <td>Abarth</td>\n",
       "      <td>7124</td>\n",
       "      <td>4719</td>\n",
       "      <td>12413</td>\n",
       "    </tr>\n",
       "    <tr>\n",
       "      <th>1</th>\n",
       "      <td>Alfa-Romeo</td>\n",
       "      <td>764932</td>\n",
       "      <td>233389</td>\n",
       "      <td>1049063</td>\n",
       "    </tr>\n",
       "    <tr>\n",
       "      <th>2</th>\n",
       "      <td>Aston-Martin</td>\n",
       "      <td>76029</td>\n",
       "      <td>6444</td>\n",
       "      <td>85733</td>\n",
       "    </tr>\n",
       "    <tr>\n",
       "      <th>3</th>\n",
       "      <td>Audi</td>\n",
       "      <td>6150874</td>\n",
       "      <td>2191786</td>\n",
       "      <td>8792989</td>\n",
       "    </tr>\n",
       "    <tr>\n",
       "      <th>4</th>\n",
       "      <td>BMW</td>\n",
       "      <td>10556504</td>\n",
       "      <td>3334594</td>\n",
       "      <td>14612429</td>\n",
       "    </tr>\n",
       "  </tbody>\n",
       "</table>\n",
       "</div>"
      ],
      "text/plain": [
       "   Manufacturer      Male   Female     Total\n",
       "0        Abarth      7124     4719     12413\n",
       "1    Alfa-Romeo    764932   233389   1049063\n",
       "2  Aston-Martin     76029     6444     85733\n",
       "3          Audi   6150874  2191786   8792989\n",
       "4           BMW  10556504  3334594  14612429"
      ]
     },
     "execution_count": 17,
     "metadata": {},
     "output_type": "execute_result"
    }
   ],
   "source": [
    "top_manufacturer= data.groupby('Manufacturer', as_index=False)['Male', 'Female','Total'].sum()\n",
    "top_manufacturer.head()"
   ]
  },
  {
   "cell_type": "code",
   "execution_count": 18,
   "id": "e44d790f",
   "metadata": {
    "execution": {
     "iopub.execute_input": "2022-02-06T11:54:39.392039Z",
     "iopub.status.busy": "2022-02-06T11:54:39.375254Z",
     "iopub.status.idle": "2022-02-06T11:54:39.788255Z",
     "shell.execute_reply": "2022-02-06T11:54:39.789103Z"
    },
    "papermill": {
     "duration": 0.501583,
     "end_time": "2022-02-06T11:54:39.789363",
     "exception": false,
     "start_time": "2022-02-06T11:54:39.287780",
     "status": "completed"
    },
    "tags": []
   },
   "outputs": [
    {
     "data": {
      "image/png": "[encoded data removed]",
      "text/plain": [
       "<Figure size 1080x432 with 1 Axes>"
      ]
     },
     "metadata": {
      "needs_background": "light"
     },
     "output_type": "display_data"
    }
   ],
   "source": [
    "fig, ax= plt.subplots(figsize=(15,6))\n",
    "sns.barplot(x='Manufacturer', y='Total',data=top_manufacturer.sort_values('Total',\n",
    "            ascending=False).head(20), palette='flare',edgecolor='black', ax=ax)\n",
    "ax.tick_params(axis='x', labelrotation=45)\n",
    "ax.set_title('Top 20 Manufacturers by Total Number of Owners', fontsize=15);"
   ]
  },
  {
   "cell_type": "code",
   "execution_count": 19,
   "id": "a99f1b1b",
   "metadata": {
    "execution": {
     "iopub.execute_input": "2022-02-06T11:54:40.008829Z",
     "iopub.status.busy": "2022-02-06T11:54:40.007775Z",
     "iopub.status.idle": "2022-02-06T11:54:40.580236Z",
     "shell.execute_reply": "2022-02-06T11:54:40.580754Z"
    },
    "papermill": {
     "duration": 0.675179,
     "end_time": "2022-02-06T11:54:40.580951",
     "exception": false,
     "start_time": "2022-02-06T11:54:39.905772",
     "status": "completed"
    },
    "tags": []
   },
   "outputs": [
    {
     "data": {
      "image/png": "[encoded data removed]",
      "text/plain": [
       "<Figure size 1080x360 with 2 Axes>"
      ]
     },
     "metadata": {
      "needs_background": "light"
     },
     "output_type": "display_data"
    }
   ],
   "source": [
    "fig,ax= plt.subplots(ncols=2, figsize=(15,5))\n",
    "sns.barplot(x='Manufacturer', y='Male',data=top_manufacturer.sort_values('Male',ascending=False).head(8),\n",
    "           ax=ax[0], palette='viridis',edgecolor='black')\n",
    "sns.barplot(x='Manufacturer', y='Female',data=top_manufacturer.sort_values('Female',ascending=False).head(8),\n",
    "           ax=ax[1], palette='mako',edgecolor='black')\n",
    "ax[0].set_title('Top 8 Manufacturers by Total Number of Male Owners', fontsize=15)\n",
    "ax[1].set_title('Top 8 Manufacturers by Total Number of Female Owners', fontsize=15)\n",
    "fig.tight_layout();"
   ]
  },
  {
   "cell_type": "markdown",
   "id": "ead9f866",
   "metadata": {
    "papermill": {
     "duration": 0.086748,
     "end_time": "2022-02-06T11:54:40.755830",
     "exception": false,
     "start_time": "2022-02-06T11:54:40.669082",
     "status": "completed"
    },
    "tags": []
   },
   "source": [
    "- In general, Ford is the one that dominates all charts in term of purchasers, the Top Manufacturers can be listed are Ford, Peugeot, Volkswagen, Renault. There is no significant differences in the choice of Manufacturers between male and female customers. "
   ]
  },
  {
   "cell_type": "markdown",
   "id": "4f1ceafc",
   "metadata": {
    "papermill": {
     "duration": 0.087,
     "end_time": "2022-02-06T11:54:40.933882",
     "exception": false,
     "start_time": "2022-02-06T11:54:40.846882",
     "status": "completed"
    },
    "tags": []
   },
   "source": [
    "**Top Models by number of owners** 🎍"
   ]
  },
  {
   "cell_type": "markdown",
   "id": "b69a03f3",
   "metadata": {
    "papermill": {
     "duration": 0.085815,
     "end_time": "2022-02-06T11:54:41.105569",
     "exception": false,
     "start_time": "2022-02-06T11:54:41.019754",
     "status": "completed"
    },
    "tags": []
   },
   "source": [
    "- In similar spirit, we find top Models in term of number of owners."
   ]
  },
  {
   "cell_type": "code",
   "execution_count": 20,
   "id": "34e169b1",
   "metadata": {
    "execution": {
     "iopub.execute_input": "2022-02-06T11:54:41.292644Z",
     "iopub.status.busy": "2022-02-06T11:54:41.291503Z",
     "iopub.status.idle": "2022-02-06T11:54:41.304824Z",
     "shell.execute_reply": "2022-02-06T11:54:41.305518Z"
    },
    "papermill": {
     "duration": 0.112757,
     "end_time": "2022-02-06T11:54:41.305744",
     "exception": false,
     "start_time": "2022-02-06T11:54:41.192987",
     "status": "completed"
    },
    "tags": []
   },
   "outputs": [
    {
     "data": {
      "text/html": [
       "<div>\n",
       "<style scoped>\n",
       "    .dataframe tbody tr th:only-of-type {\n",
       "        vertical-align: middle;\n",
       "    }\n",
       "\n",
       "    .dataframe tbody tr th {\n",
       "        vertical-align: top;\n",
       "    }\n",
       "\n",
       "    .dataframe thead th {\n",
       "        text-align: right;\n",
       "    }\n",
       "</style>\n",
       "<table border=\"1\" class=\"dataframe\">\n",
       "  <thead>\n",
       "    <tr style=\"text-align: right;\">\n",
       "      <th></th>\n",
       "      <th>Model</th>\n",
       "      <th>Manufacturer</th>\n",
       "      <th>Male</th>\n",
       "      <th>Female</th>\n",
       "      <th>Total</th>\n",
       "    </tr>\n",
       "  </thead>\n",
       "  <tbody>\n",
       "    <tr>\n",
       "      <th>0</th>\n",
       "      <td>09-May</td>\n",
       "      <td>Saab</td>\n",
       "      <td>374012</td>\n",
       "      <td>70387</td>\n",
       "      <td>471084</td>\n",
       "    </tr>\n",
       "    <tr>\n",
       "      <th>1</th>\n",
       "      <td>100</td>\n",
       "      <td>Audi</td>\n",
       "      <td>290434</td>\n",
       "      <td>55293</td>\n",
       "      <td>359404</td>\n",
       "    </tr>\n",
       "    <tr>\n",
       "      <th>2</th>\n",
       "      <td>1007</td>\n",
       "      <td>Peugeot</td>\n",
       "      <td>23987</td>\n",
       "      <td>24239</td>\n",
       "      <td>50864</td>\n",
       "    </tr>\n",
       "    <tr>\n",
       "      <th>3</th>\n",
       "      <td>104</td>\n",
       "      <td>Peugeot</td>\n",
       "      <td>5736</td>\n",
       "      <td>4970</td>\n",
       "      <td>10999</td>\n",
       "    </tr>\n",
       "    <tr>\n",
       "      <th>4</th>\n",
       "      <td>105</td>\n",
       "      <td>Skoda</td>\n",
       "      <td>13619</td>\n",
       "      <td>7141</td>\n",
       "      <td>21131</td>\n",
       "    </tr>\n",
       "  </tbody>\n",
       "</table>\n",
       "</div>"
      ],
      "text/plain": [
       "    Model Manufacturer    Male  Female   Total\n",
       "0  09-May         Saab  374012   70387  471084\n",
       "1     100         Audi  290434   55293  359404\n",
       "2    1007      Peugeot   23987   24239   50864\n",
       "3     104      Peugeot    5736    4970   10999\n",
       "4     105        Skoda   13619    7141   21131"
      ]
     },
     "execution_count": 20,
     "metadata": {},
     "output_type": "execute_result"
    }
   ],
   "source": [
    "top_model= data.groupby(['Model','Manufacturer'], as_index=False)['Male', 'Female','Total'].sum()\n",
    "top_model.head()"
   ]
  },
  {
   "cell_type": "code",
   "execution_count": 21,
   "id": "25650ac7",
   "metadata": {
    "execution": {
     "iopub.execute_input": "2022-02-06T11:54:41.485143Z",
     "iopub.status.busy": "2022-02-06T11:54:41.484043Z",
     "iopub.status.idle": "2022-02-06T11:54:41.870414Z",
     "shell.execute_reply": "2022-02-06T11:54:41.870918Z"
    },
    "papermill": {
     "duration": 0.477546,
     "end_time": "2022-02-06T11:54:41.871132",
     "exception": false,
     "start_time": "2022-02-06T11:54:41.393586",
     "status": "completed"
    },
    "tags": []
   },
   "outputs": [
    {
     "data": {
      "image/png": "[encoded data removed]",
      "text/plain": [
       "<Figure size 1080x432 with 1 Axes>"
      ]
     },
     "metadata": {
      "needs_background": "light"
     },
     "output_type": "display_data"
    }
   ],
   "source": [
    "fig, ax= plt.subplots(figsize=(15,6))\n",
    "sns.barplot(x='Model', y='Total',data=top_model.sort_values('Total',\n",
    "            ascending=False).head(20), palette='flare', ax=ax,edgecolor='black')\n",
    "ax.tick_params(axis='x', labelrotation=45)\n",
    "ax.set_title('Top 20 Models by Total Number of Owners', fontsize=15);"
   ]
  },
  {
   "cell_type": "code",
   "execution_count": 22,
   "id": "6a063ae4",
   "metadata": {
    "execution": {
     "iopub.execute_input": "2022-02-06T11:54:42.060869Z",
     "iopub.status.busy": "2022-02-06T11:54:42.059793Z",
     "iopub.status.idle": "2022-02-06T11:54:42.580229Z",
     "shell.execute_reply": "2022-02-06T11:54:42.581083Z"
    },
    "papermill": {
     "duration": 0.62024,
     "end_time": "2022-02-06T11:54:42.581328",
     "exception": false,
     "start_time": "2022-02-06T11:54:41.961088",
     "status": "completed"
    },
    "tags": []
   },
   "outputs": [
    {
     "data": {
      "image/png": "[encoded data removed]",
      "text/plain": [
       "<Figure size 1080x360 with 2 Axes>"
      ]
     },
     "metadata": {
      "needs_background": "light"
     },
     "output_type": "display_data"
    }
   ],
   "source": [
    "fig,ax= plt.subplots(ncols=2, figsize=(15,5))\n",
    "sns.barplot(x='Model', y='Male',data=top_model.sort_values('Male',ascending=False).head(8),\n",
    "           ax=ax[0], palette='viridis',edgecolor='black')\n",
    "sns.barplot(x='Model', y='Female',data=top_model.sort_values('Female',ascending=False).head(8),\n",
    "           ax=ax[1], palette='mako',edgecolor='black')\n",
    "ax[0].set_title('Top 8 Models by Total Number of Male Owners', fontsize=15)\n",
    "ax[1].set_title('Top 8 Models by Total Number of Female Owners', fontsize=15)\n",
    "fig.tight_layout();"
   ]
  },
  {
   "cell_type": "markdown",
   "id": "314fea35",
   "metadata": {
    "papermill": {
     "duration": 0.092676,
     "end_time": "2022-02-06T11:54:42.765189",
     "exception": false,
     "start_time": "2022-02-06T11:54:42.672513",
     "status": "completed"
    },
    "tags": []
   },
   "source": [
    "- All in all, in term of total number of owners, male or female owners, Fiesta is always placed at first position. \n",
    "- Interestingly, there is a notable differences in the choice of Male and Female buyers. For male buyers, Fiesta and Escort outnumbered all other models, however the gap is not significant. On the other hand, Fiesta dominates the figures of Female, the second top model (Micra) doesnt have even half of Fiesta amount. \n",
    "- In addition, except Fiesta,Golf and Focus, others appear in top preferrence for male, dont appear in Female chart. "
   ]
  },
  {
   "cell_type": "code",
   "execution_count": 23,
   "id": "eb99df4d",
   "metadata": {
    "execution": {
     "iopub.execute_input": "2022-02-06T11:54:42.949814Z",
     "iopub.status.busy": "2022-02-06T11:54:42.949093Z",
     "iopub.status.idle": "2022-02-06T11:54:44.020225Z",
     "shell.execute_reply": "2022-02-06T11:54:44.019473Z"
    },
    "papermill": {
     "duration": 1.165598,
     "end_time": "2022-02-06T11:54:44.020392",
     "exception": false,
     "start_time": "2022-02-06T11:54:42.854794",
     "status": "completed"
    },
    "tags": []
   },
   "outputs": [
    {
     "data": {
      "image/png": "[encoded data removed]",
      "text/plain": [
       "<Figure size 1080x504 with 1 Axes>"
      ]
     },
     "metadata": {
      "needs_background": "light"
     },
     "output_type": "display_data"
    }
   ],
   "source": [
    "# We can see the Top Car models of each manufacturer, \n",
    "# and see how the results conincide with top ranked list of manufacturers 🔮\n",
    "top_model_all=top_model.sort_values('Total',ascending=False).head(20).pivot_table(index='Manufacturer',\n",
    "                 margins=True,aggfunc= np.sum,columns='Model',values='Total').sort_values('All',ascending=False)\n",
    "fig,ax=plt.subplots(figsize=(15,7))\n",
    "top_model_all.iloc[1:,:-1].plot(kind='bar', stacked='True',ax=ax, cmap='viridis', edgecolor='black')\n",
    "ax.set_title('Manufacturers by Top 20 Car Models (Total Owners)', fontsize=15);"
   ]
  },
  {
   "cell_type": "markdown",
   "id": "b520d5f8",
   "metadata": {
    "papermill": {
     "duration": 0.097663,
     "end_time": "2022-02-06T11:54:44.212182",
     "exception": false,
     "start_time": "2022-02-06T11:54:44.114519",
     "status": "completed"
    },
    "tags": []
   },
   "source": [
    "- We can see that most of the Manufacturers ranked on top number of owners have top models. Obvious one is Ford with up to 6 models ranked on top (One of them is the 'famous' Fiesta).\n",
    "- However, there are some manufacturers listed on top 10 based on number of owners which does not have car model ranked on top 20. Lets check !!!"
   ]
  },
  {
   "cell_type": "code",
   "execution_count": 24,
   "id": "d2dd3134",
   "metadata": {
    "execution": {
     "iopub.execute_input": "2022-02-06T11:54:44.401836Z",
     "iopub.status.busy": "2022-02-06T11:54:44.401169Z",
     "iopub.status.idle": "2022-02-06T11:54:44.408969Z",
     "shell.execute_reply": "2022-02-06T11:54:44.409464Z"
    },
    "papermill": {
     "duration": 0.103702,
     "end_time": "2022-02-06T11:54:44.409639",
     "exception": false,
     "start_time": "2022-02-06T11:54:44.305937",
     "status": "completed"
    },
    "tags": []
   },
   "outputs": [
    {
     "name": "stdout",
     "output_type": "stream",
     "text": [
      "Manufacturers appear in both chart:\n",
      " ['Peugeot', 'Renault', 'Nissan', 'BMW', 'Ford', 'Toyota', 'Volkswagen', 'Honda']\n",
      "Top Manufacturers with no Models on top 20:\n",
      " {'Citroen', 'Mercedes'}\n"
     ]
    }
   ],
   "source": [
    "top_model_manu_all= top_model_all[1:].index.tolist()\n",
    "top_manu_all= top_manufacturer.sort_values('Total',ascending=False).head(10)['Manufacturer'].tolist()\n",
    "intersection= list(set(top_model_manu_all)&set(top_manu_all))\n",
    "print('Manufacturers appear in both chart:\\n',intersection)\n",
    "print('Top Manufacturers with no Models on top 20:\\n', set(top_manu_all)-set(intersection))"
   ]
  },
  {
   "cell_type": "markdown",
   "id": "03165ea8",
   "metadata": {
    "papermill": {
     "duration": 0.094546,
     "end_time": "2022-02-06T11:54:44.596323",
     "exception": false,
     "start_time": "2022-02-06T11:54:44.501777",
     "status": "completed"
    },
    "tags": []
   },
   "source": [
    "- Similarly, we'll have a look at Manufacturers by Top ranked models by Male and Female Owners. "
   ]
  },
  {
   "cell_type": "code",
   "execution_count": 25,
   "id": "abded077",
   "metadata": {
    "execution": {
     "iopub.execute_input": "2022-02-06T11:54:44.797693Z",
     "iopub.status.busy": "2022-02-06T11:54:44.795002Z",
     "iopub.status.idle": "2022-02-06T11:54:45.866856Z",
     "shell.execute_reply": "2022-02-06T11:54:45.866295Z"
    },
    "papermill": {
     "duration": 1.175687,
     "end_time": "2022-02-06T11:54:45.867010",
     "exception": false,
     "start_time": "2022-02-06T11:54:44.691323",
     "status": "completed"
    },
    "tags": []
   },
   "outputs": [
    {
     "data": {
      "image/png": "[encoded data removed]",
      "text/plain": [
       "<Figure size 1080x432 with 2 Axes>"
      ]
     },
     "metadata": {
      "needs_background": "light"
     },
     "output_type": "display_data"
    }
   ],
   "source": [
    "# Male Owners\n",
    "top_model_male= top_model.sort_values('Male',ascending=False).head(10).pivot_table(index='Manufacturer',\n",
    "                 margins=True,aggfunc= np.sum,columns='Model',values='Male').sort_values('All',ascending=False)\n",
    "# Female Owners\n",
    "top_model_female= top_model.sort_values('Female',ascending=False).head(10).pivot_table(index='Manufacturer',\n",
    "                 margins=True,aggfunc= np.sum,columns='Model',values='Female').sort_values('All',ascending=False)\n",
    "# Viz Time !\n",
    "fig, ax= plt.subplots(ncols=2, figsize=(15,6))\n",
    "top_model_male.iloc[1:,:-1].plot(kind='bar',stacked=True, cmap='icefire',ax=ax[0], edgecolor='black')\n",
    "top_model_female.iloc[1:,:-1].plot(kind='bar', stacked=True, cmap='magma', ax=ax[1], edgecolor='black')\n",
    "ax[0].set_title('Manufacturers by Top 10 Car Models (Male Owners)', fontsize=15)\n",
    "ax[1].set_title('Manufacturers by Top 10 Car Models (Female Owners)', fontsize=15)\n",
    "fig.tight_layout();"
   ]
  },
  {
   "cell_type": "markdown",
   "id": "8b158a61",
   "metadata": {
    "papermill": {
     "duration": 0.093901,
     "end_time": "2022-02-06T11:54:46.055252",
     "exception": false,
     "start_time": "2022-02-06T11:54:45.961351",
     "status": "completed"
    },
    "tags": []
   },
   "source": [
    "**A few insights of Fuel attribute** 🧬"
   ]
  },
  {
   "cell_type": "code",
   "execution_count": 26,
   "id": "28932bd3",
   "metadata": {
    "execution": {
     "iopub.execute_input": "2022-02-06T11:54:46.285294Z",
     "iopub.status.busy": "2022-02-06T11:54:46.259072Z",
     "iopub.status.idle": "2022-02-06T11:54:46.473966Z",
     "shell.execute_reply": "2022-02-06T11:54:46.473254Z"
    },
    "papermill": {
     "duration": 0.322817,
     "end_time": "2022-02-06T11:54:46.474120",
     "exception": false,
     "start_time": "2022-02-06T11:54:46.151303",
     "status": "completed"
    },
    "tags": []
   },
   "outputs": [
    {
     "data": {
      "image/png": "[encoded data removed]",
      "text/plain": [
       "<Figure size 504x360 with 1 Axes>"
      ]
     },
     "metadata": {
      "needs_background": "light"
     },
     "output_type": "display_data"
    }
   ],
   "source": [
    "fuel_data= data.groupby('Fuel', as_index=False)['Model'].count()\n",
    "fig, ax= plt.subplots(figsize=(7,5))\n",
    "sns.barplot(x='Fuel', y='Model', data=fuel_data, palette='rocket', edgecolor='black', ax=ax)\n",
    "ax.set_title('Number of Models by type of Fuel', fontsize=12)\n",
    "for i,v in enumerate(fuel_data['Model'].tolist()):\n",
    "    ax.text(x=i, y=v+2, s=f\"{v}\" , fontdict=dict(fontsize=12))"
   ]
  },
  {
   "cell_type": "markdown",
   "id": "6a8baf5a",
   "metadata": {
    "papermill": {
     "duration": 0.097331,
     "end_time": "2022-02-06T11:54:46.670584",
     "exception": false,
     "start_time": "2022-02-06T11:54:46.573253",
     "status": "completed"
    },
    "tags": []
   },
   "source": [
    "- Clearly, most of the car models use Petrol as their fuel (up to 85%), automatic fuel and diesel are accounted for humble amount , may be because it is too expensive @-@. Lets check !"
   ]
  },
  {
   "cell_type": "code",
   "execution_count": 27,
   "id": "edeccc93",
   "metadata": {
    "execution": {
     "iopub.execute_input": "2022-02-06T11:54:46.889214Z",
     "iopub.status.busy": "2022-02-06T11:54:46.888500Z",
     "iopub.status.idle": "2022-02-06T11:54:47.068518Z",
     "shell.execute_reply": "2022-02-06T11:54:47.069064Z"
    },
    "papermill": {
     "duration": 0.304085,
     "end_time": "2022-02-06T11:54:47.069241",
     "exception": false,
     "start_time": "2022-02-06T11:54:46.765156",
     "status": "completed"
    },
    "tags": []
   },
   "outputs": [
    {
     "data": {
      "image/png": "[encoded data removed]",
      "text/plain": [
       "<Figure size 504x360 with 1 Axes>"
      ]
     },
     "metadata": {
      "needs_background": "light"
     },
     "output_type": "display_data"
    }
   ],
   "source": [
    "fig, ax= plt.subplots(figsize=(7,5))\n",
    "df= data.groupby('Fuel',as_index=False)['Price'].mean()\n",
    "sns.barplot(x='Fuel', y='Price', data= df\n",
    "            , palette='mako', edgecolor='black', ax=ax)\n",
    "ax.set_title('Average Price of Cars by each type of Fuel', fontsize=12)\n",
    "for i,v in enumerate(df['Price'].tolist()):\n",
    "    ax.text(x=i, y=v, s=f\"{np.round(v,2)}\" , fontdict=dict(fontsize=12))"
   ]
  },
  {
   "cell_type": "markdown",
   "id": "2a6ee306",
   "metadata": {
    "papermill": {
     "duration": 0.097919,
     "end_time": "2022-02-06T11:54:47.266801",
     "exception": false,
     "start_time": "2022-02-06T11:54:47.168882",
     "status": "completed"
    },
    "tags": []
   },
   "source": [
    "- Surprisingly, There is no significant gap between the Average price for Cars using Petrol and other 2, so Price is not a decisive factor determining why so many car models using this type of fuel. "
   ]
  },
  {
   "cell_type": "markdown",
   "id": "bc6ec59d",
   "metadata": {
    "papermill": {
     "duration": 0.097939,
     "end_time": "2022-02-06T11:54:47.465314",
     "exception": false,
     "start_time": "2022-02-06T11:54:47.367375",
     "status": "completed"
    },
    "tags": []
   },
   "source": [
    "**Histogram, Correlation Matrix Plot and Pair Plot for Numeric variables** 🐇"
   ]
  },
  {
   "cell_type": "markdown",
   "id": "0dc35dc0",
   "metadata": {
    "papermill": {
     "duration": 0.095989,
     "end_time": "2022-02-06T11:54:47.657308",
     "exception": false,
     "start_time": "2022-02-06T11:54:47.561319",
     "status": "completed"
    },
    "tags": []
   },
   "source": [
    "- I aim to use some Regression models to predict the Price of Cars,hence, there is a need to explore the relationship between 'potential' predictors ('Transmission', 'Power', 'Engine CC') and Price variable (our target)"
   ]
  },
  {
   "cell_type": "code",
   "execution_count": 28,
   "id": "dbd6eeac",
   "metadata": {
    "execution": {
     "iopub.execute_input": "2022-02-06T11:54:47.856196Z",
     "iopub.status.busy": "2022-02-06T11:54:47.853924Z",
     "iopub.status.idle": "2022-02-06T11:54:47.859012Z",
     "shell.execute_reply": "2022-02-06T11:54:47.858336Z"
    },
    "papermill": {
     "duration": 0.105459,
     "end_time": "2022-02-06T11:54:47.859162",
     "exception": false,
     "start_time": "2022-02-06T11:54:47.753703",
     "status": "completed"
    },
    "tags": []
   },
   "outputs": [],
   "source": [
    "predictor= ['Transmission', 'Power', 'Engine CC']\n",
    "target= 'Price'"
   ]
  },
  {
   "cell_type": "code",
   "execution_count": 29,
   "id": "c6c56dc6",
   "metadata": {
    "execution": {
     "iopub.execute_input": "2022-02-06T11:54:48.084360Z",
     "iopub.status.busy": "2022-02-06T11:54:48.068223Z",
     "iopub.status.idle": "2022-02-06T11:54:49.117524Z",
     "shell.execute_reply": "2022-02-06T11:54:49.118093Z"
    },
    "papermill": {
     "duration": 1.162878,
     "end_time": "2022-02-06T11:54:49.118284",
     "exception": false,
     "start_time": "2022-02-06T11:54:47.955406",
     "status": "completed"
    },
    "tags": []
   },
   "outputs": [
    {
     "data": {
      "image/png": "[encoded data removed]",
      "text/plain": [
       "<Figure size 1080x576 with 4 Axes>"
      ]
     },
     "metadata": {
      "needs_background": "light"
     },
     "output_type": "display_data"
    }
   ],
   "source": [
    "# Histogram of all Variables\n",
    "fig, ax= plt.subplots(nrows= 2, ncols=2, figsize=(15,8))\n",
    "ax_index=[ax[0,0],ax[0,1],ax[1,0]]\n",
    "ax[1,1].hist(data[target].clip(upper=350),bins=40,color='maroon', edgecolor='black')\n",
    "ax[1,1].set_title('Histogram of Car Price (Target)', color='darkred')\n",
    "for i in range(3):\n",
    "    ax_index[i].hist(data[predictor[i]],bins=40,color='navy', edgecolor='black')\n",
    "    ax_index[i].set_title(f'Histogram of {predictor[i]} (Predictor)')\n",
    "fig.tight_layout();"
   ]
  },
  {
   "cell_type": "markdown",
   "id": "8c749b6b",
   "metadata": {
    "papermill": {
     "duration": 0.100357,
     "end_time": "2022-02-06T11:54:49.320926",
     "exception": false,
     "start_time": "2022-02-06T11:54:49.220569",
     "status": "completed"
    },
    "tags": []
   },
   "source": [
    "- Actually, There is not much things interpretted from these histogram. The Price (target) is extremely right-skewed (so we may expect there are some outliers here), while the level of skewness is lower in the predictors. \n",
    "- All variables seem to follow bell-shaped distribution, except for transmission which has unclear distribution. Nonetheless, these are not big problems, lets see relationship amongs variables !"
   ]
  },
  {
   "cell_type": "code",
   "execution_count": 30,
   "id": "172b2cbd",
   "metadata": {
    "execution": {
     "iopub.execute_input": "2022-02-06T11:54:49.527419Z",
     "iopub.status.busy": "2022-02-06T11:54:49.526254Z",
     "iopub.status.idle": "2022-02-06T11:54:54.585651Z",
     "shell.execute_reply": "2022-02-06T11:54:54.586373Z"
    },
    "papermill": {
     "duration": 5.16733,
     "end_time": "2022-02-06T11:54:54.586601",
     "exception": false,
     "start_time": "2022-02-06T11:54:49.419271",
     "status": "completed"
    },
    "tags": []
   },
   "outputs": [
    {
     "data": {
      "image/png": "[encoded data removed]",
      "text/plain": [
       "<Figure size 518.4x518.4 with 20 Axes>"
      ]
     },
     "metadata": {
      "needs_background": "light"
     },
     "output_type": "display_data"
    }
   ],
   "source": [
    "sns.pairplot(data=data[predictor+[target]], kind='reg', diag_kws={'bins':20, 'color':'darkblue','edgecolor':'black'},\n",
    "            plot_kws={'marker':'.','color':'darkred'}, size=1.8);"
   ]
  },
  {
   "cell_type": "markdown",
   "id": "09e19e92",
   "metadata": {
    "papermill": {
     "duration": 0.103523,
     "end_time": "2022-02-06T11:54:54.796304",
     "exception": false,
     "start_time": "2022-02-06T11:54:54.692781",
     "status": "completed"
    },
    "tags": []
   },
   "source": [
    "- By the scatter plot of predictor variables against Price, we can see strong relationship \n",
    "- We can observe that there are a few data points (2-6 points) that the price is extremely high, which may affect the performance of Regression model, we have to handle these points ! \n",
    "- I use Capping to deal with these points, in other words, all price record over 99% quantitle (5 points)'ll be replaced by 99% quantile value. Let see the result. "
   ]
  },
  {
   "cell_type": "code",
   "execution_count": 31,
   "id": "4d0c15c1",
   "metadata": {
    "execution": {
     "iopub.execute_input": "2022-02-06T11:54:55.005587Z",
     "iopub.status.busy": "2022-02-06T11:54:55.004819Z",
     "iopub.status.idle": "2022-02-06T11:55:00.156995Z",
     "shell.execute_reply": "2022-02-06T11:55:00.157718Z"
    },
    "papermill": {
     "duration": 5.260912,
     "end_time": "2022-02-06T11:55:00.157952",
     "exception": false,
     "start_time": "2022-02-06T11:54:54.897040",
     "status": "completed"
    },
    "tags": []
   },
   "outputs": [
    {
     "data": {
      "image/png": "[encoded data removed]",
      "text/plain": [
       "<Figure size 576x576 with 20 Axes>"
      ]
     },
     "metadata": {
      "needs_background": "light"
     },
     "output_type": "display_data"
    }
   ],
   "source": [
    "data2= data.copy()\n",
    "data2['Price']= data2['Price'].clip(upper=data['Price'].quantile(0.99))\n",
    "sns.pairplot(data=data2[predictor+[target]], kind='reg', diag_kws={'bins':20, 'color':'darkblue','edgecolor':'black'},\n",
    "            plot_kws={'marker':'.','color':'darkred'}, size=2);"
   ]
  },
  {
   "cell_type": "markdown",
   "id": "99460532",
   "metadata": {
    "papermill": {
     "duration": 0.106427,
     "end_time": "2022-02-06T11:55:00.371449",
     "exception": false,
     "start_time": "2022-02-06T11:55:00.265022",
     "status": "completed"
    },
    "tags": []
   },
   "source": [
    "- Now, they look much better, Lets see how variables are correlated with each other. "
   ]
  },
  {
   "cell_type": "code",
   "execution_count": 32,
   "id": "f35835f3",
   "metadata": {
    "execution": {
     "iopub.execute_input": "2022-02-06T11:55:00.597487Z",
     "iopub.status.busy": "2022-02-06T11:55:00.596641Z",
     "iopub.status.idle": "2022-02-06T11:55:00.929604Z",
     "shell.execute_reply": "2022-02-06T11:55:00.928876Z"
    },
    "papermill": {
     "duration": 0.454156,
     "end_time": "2022-02-06T11:55:00.929775",
     "exception": false,
     "start_time": "2022-02-06T11:55:00.475619",
     "status": "completed"
    },
    "tags": []
   },
   "outputs": [
    {
     "data": {
      "image/png": "[encoded data removed]",
      "text/plain": [
       "<Figure size 576x432 with 2 Axes>"
      ]
     },
     "metadata": {
      "needs_background": "light"
     },
     "output_type": "display_data"
    }
   ],
   "source": [
    "# Correlation Matrix plot 🎎\n",
    "fig, ax= plt.subplots(figsize=(8,6))\n",
    "sns.heatmap(data2[predictor+[target]].corr(), annot=True, cmap='viridis',\n",
    "            fmt='0.3f',ax=ax)\n",
    "ax.set_title('Correlation Matrix Plot', fontsize=15);"
   ]
  },
  {
   "cell_type": "markdown",
   "id": "bdd82b72",
   "metadata": {
    "papermill": {
     "duration": 0.106666,
     "end_time": "2022-02-06T11:55:01.146188",
     "exception": false,
     "start_time": "2022-02-06T11:55:01.039522",
     "status": "completed"
    },
    "tags": []
   },
   "source": [
    "- Interestingly, the Price is positively highly-correlated with Engine CC (0.828) and Power (0.942), while the relationship seems unsignificant btw Price and Transmission (0.348)\n",
    "- Additionally, we see high correlation btw Power and Engine CC, which may cause Multi-Collinearity in our regression model. We can use VIF metric to check our assumption. "
   ]
  },
  {
   "cell_type": "code",
   "execution_count": 33,
   "id": "f7a118f0",
   "metadata": {
    "execution": {
     "iopub.execute_input": "2022-02-06T11:55:01.373435Z",
     "iopub.status.busy": "2022-02-06T11:55:01.369281Z",
     "iopub.status.idle": "2022-02-06T11:55:02.400212Z",
     "shell.execute_reply": "2022-02-06T11:55:02.400726Z"
    },
    "papermill": {
     "duration": 1.146255,
     "end_time": "2022-02-06T11:55:02.400919",
     "exception": false,
     "start_time": "2022-02-06T11:55:01.254664",
     "status": "completed"
    },
    "tags": []
   },
   "outputs": [
    {
     "data": {
      "text/html": [
       "<div>\n",
       "<style scoped>\n",
       "    .dataframe tbody tr th:only-of-type {\n",
       "        vertical-align: middle;\n",
       "    }\n",
       "\n",
       "    .dataframe tbody tr th {\n",
       "        vertical-align: top;\n",
       "    }\n",
       "\n",
       "    .dataframe thead th {\n",
       "        text-align: right;\n",
       "    }\n",
       "</style>\n",
       "<table border=\"1\" class=\"dataframe\">\n",
       "  <thead>\n",
       "    <tr style=\"text-align: right;\">\n",
       "      <th></th>\n",
       "      <th>Column</th>\n",
       "      <th>VIF</th>\n",
       "    </tr>\n",
       "  </thead>\n",
       "  <tbody>\n",
       "    <tr>\n",
       "      <th>0</th>\n",
       "      <td>Transmission</td>\n",
       "      <td>5.650988</td>\n",
       "    </tr>\n",
       "    <tr>\n",
       "      <th>1</th>\n",
       "      <td>Power</td>\n",
       "      <td>11.321799</td>\n",
       "    </tr>\n",
       "    <tr>\n",
       "      <th>2</th>\n",
       "      <td>Engine CC</td>\n",
       "      <td>16.026928</td>\n",
       "    </tr>\n",
       "  </tbody>\n",
       "</table>\n",
       "</div>"
      ],
      "text/plain": [
       "         Column        VIF\n",
       "0  Transmission   5.650988\n",
       "1         Power  11.321799\n",
       "2     Engine CC  16.026928"
      ]
     },
     "execution_count": 33,
     "metadata": {},
     "output_type": "execute_result"
    }
   ],
   "source": [
    "import statsmodels.api as sm\n",
    "from statsmodels.stats.outliers_influence import variance_inflation_factor\n",
    "X=data2[predictor]\n",
    "vif_info= pd.DataFrame()\n",
    "vif_info['Column']= X.columns\n",
    "vif_info['VIF']=[variance_inflation_factor(X.values, i) for i in range(X.shape[1])]\n",
    "vif_info"
   ]
  },
  {
   "cell_type": "markdown",
   "id": "52be4389",
   "metadata": {
    "papermill": {
     "duration": 0.107458,
     "end_time": "2022-02-06T11:55:02.615824",
     "exception": false,
     "start_time": "2022-02-06T11:55:02.508366",
     "status": "completed"
    },
    "tags": []
   },
   "source": [
    "- High value of VIF of Power and Engine CC indicates that they are highly collinear with other variables in the model.\n",
    "- Simplest way (but usually not recommended) is to drop the one with highest value of VIF, which is Engine CC in this case. "
   ]
  },
  {
   "cell_type": "code",
   "execution_count": 34,
   "id": "919a7599",
   "metadata": {
    "execution": {
     "iopub.execute_input": "2022-02-06T11:55:02.843137Z",
     "iopub.status.busy": "2022-02-06T11:55:02.842340Z",
     "iopub.status.idle": "2022-02-06T11:55:02.858020Z",
     "shell.execute_reply": "2022-02-06T11:55:02.858728Z"
    },
    "papermill": {
     "duration": 0.129639,
     "end_time": "2022-02-06T11:55:02.858933",
     "exception": false,
     "start_time": "2022-02-06T11:55:02.729294",
     "status": "completed"
    },
    "tags": []
   },
   "outputs": [
    {
     "data": {
      "text/html": [
       "<div>\n",
       "<style scoped>\n",
       "    .dataframe tbody tr th:only-of-type {\n",
       "        vertical-align: middle;\n",
       "    }\n",
       "\n",
       "    .dataframe tbody tr th {\n",
       "        vertical-align: top;\n",
       "    }\n",
       "\n",
       "    .dataframe thead th {\n",
       "        text-align: right;\n",
       "    }\n",
       "</style>\n",
       "<table border=\"1\" class=\"dataframe\">\n",
       "  <thead>\n",
       "    <tr style=\"text-align: right;\">\n",
       "      <th></th>\n",
       "      <th>Column</th>\n",
       "      <th>VIF</th>\n",
       "    </tr>\n",
       "  </thead>\n",
       "  <tbody>\n",
       "    <tr>\n",
       "      <th>0</th>\n",
       "      <td>Transmission</td>\n",
       "      <td>3.99193</td>\n",
       "    </tr>\n",
       "    <tr>\n",
       "      <th>1</th>\n",
       "      <td>Power</td>\n",
       "      <td>3.99193</td>\n",
       "    </tr>\n",
       "  </tbody>\n",
       "</table>\n",
       "</div>"
      ],
      "text/plain": [
       "         Column      VIF\n",
       "0  Transmission  3.99193\n",
       "1         Power  3.99193"
      ]
     },
     "execution_count": 34,
     "metadata": {},
     "output_type": "execute_result"
    }
   ],
   "source": [
    "# Lets see VIF measures when we drop Engine CC variable 🚨 \n",
    "X=data2[['Transmission','Power']]\n",
    "vif_info= pd.DataFrame()\n",
    "vif_info['Column']= X.columns\n",
    "vif_info['VIF']=[variance_inflation_factor(X.values, i) for i in range(X.shape[1])]\n",
    "vif_info"
   ]
  },
  {
   "cell_type": "markdown",
   "id": "d2597b27",
   "metadata": {
    "papermill": {
     "duration": 0.109758,
     "end_time": "2022-02-06T11:55:03.078740",
     "exception": false,
     "start_time": "2022-02-06T11:55:02.968982",
     "status": "completed"
    },
    "tags": []
   },
   "source": [
    "- Now, the value of VIF is much lower (less than 5), so we can be certain that there is no multilinearity that can affect the result of our regression models. "
   ]
  },
  {
   "cell_type": "markdown",
   "id": "24899ae4",
   "metadata": {
    "papermill": {
     "duration": 0.109558,
     "end_time": "2022-02-06T11:55:03.298853",
     "exception": false,
     "start_time": "2022-02-06T11:55:03.189295",
     "status": "completed"
    },
    "tags": []
   },
   "source": [
    "## Trainning Regression Models 🚀"
   ]
  },
  {
   "cell_type": "markdown",
   "id": "ff3c8fa1",
   "metadata": {
    "papermill": {
     "duration": 0.111921,
     "end_time": "2022-02-06T11:55:03.524015",
     "exception": false,
     "start_time": "2022-02-06T11:55:03.412094",
     "status": "completed"
    },
    "tags": []
   },
   "source": [
    "### Simple Linear Regression Model 🔫"
   ]
  },
  {
   "cell_type": "markdown",
   "id": "1e2d6f99",
   "metadata": {
    "papermill": {
     "duration": 0.108928,
     "end_time": "2022-02-06T11:55:03.740005",
     "exception": false,
     "start_time": "2022-02-06T11:55:03.631077",
     "status": "completed"
    },
    "tags": []
   },
   "source": [
    "- We use only Power as the predictor for Price"
   ]
  },
  {
   "cell_type": "markdown",
   "id": "ac2a3446",
   "metadata": {
    "papermill": {
     "duration": 0.108717,
     "end_time": "2022-02-06T11:55:03.957918",
     "exception": false,
     "start_time": "2022-02-06T11:55:03.849201",
     "status": "completed"
    },
    "tags": []
   },
   "source": [
    "**Independent and Dependent variables** 🚦 🚥"
   ]
  },
  {
   "cell_type": "code",
   "execution_count": 35,
   "id": "82432ae7",
   "metadata": {
    "execution": {
     "iopub.execute_input": "2022-02-06T11:55:04.184289Z",
     "iopub.status.busy": "2022-02-06T11:55:04.183190Z",
     "iopub.status.idle": "2022-02-06T11:55:04.194296Z",
     "shell.execute_reply": "2022-02-06T11:55:04.193696Z"
    },
    "papermill": {
     "duration": 0.125237,
     "end_time": "2022-02-06T11:55:04.194443",
     "exception": false,
     "start_time": "2022-02-06T11:55:04.069206",
     "status": "completed"
    },
    "tags": []
   },
   "outputs": [
    {
     "data": {
      "text/plain": [
       "array([[60.625     ],\n",
       "       [87.71428571],\n",
       "       [87.71428571]])"
      ]
     },
     "metadata": {},
     "output_type": "display_data"
    },
    {
     "data": {
      "text/plain": [
       "array([[21.105625  ],\n",
       "       [17.42714286],\n",
       "       [18.19842857]])"
      ]
     },
     "metadata": {},
     "output_type": "display_data"
    }
   ],
   "source": [
    "X= data2['Power'].values\n",
    "y= data2['Price'].values\n",
    "X= X.reshape(-1,1)\n",
    "y=y.reshape(-1,1)\n",
    "display(X[:3], y[:3])"
   ]
  },
  {
   "cell_type": "markdown",
   "id": "c1c394c3",
   "metadata": {
    "papermill": {
     "duration": 0.109375,
     "end_time": "2022-02-06T11:55:04.415418",
     "exception": false,
     "start_time": "2022-02-06T11:55:04.306043",
     "status": "completed"
    },
    "tags": []
   },
   "source": [
    "**Train-Test Split** ⚖️"
   ]
  },
  {
   "cell_type": "code",
   "execution_count": 36,
   "id": "2b417f47",
   "metadata": {
    "execution": {
     "iopub.execute_input": "2022-02-06T11:55:04.642177Z",
     "iopub.status.busy": "2022-02-06T11:55:04.641372Z",
     "iopub.status.idle": "2022-02-06T11:55:04.779641Z",
     "shell.execute_reply": "2022-02-06T11:55:04.779040Z"
    },
    "papermill": {
     "duration": 0.255485,
     "end_time": "2022-02-06T11:55:04.779850",
     "exception": false,
     "start_time": "2022-02-06T11:55:04.524365",
     "status": "completed"
    },
    "tags": []
   },
   "outputs": [],
   "source": [
    "# Split the data into train (80%) and test (20%) set \n",
    "from sklearn.model_selection import train_test_split\n",
    "X_train, X_test, y_train, y_test= train_test_split(X,y,test_size=0.2, random_state=0)"
   ]
  },
  {
   "cell_type": "markdown",
   "id": "2b4115d5",
   "metadata": {
    "papermill": {
     "duration": 0.113811,
     "end_time": "2022-02-06T11:55:05.010795",
     "exception": false,
     "start_time": "2022-02-06T11:55:04.896984",
     "status": "completed"
    },
    "tags": []
   },
   "source": [
    "**Training the model on Train set** 🛒"
   ]
  },
  {
   "cell_type": "code",
   "execution_count": 37,
   "id": "e4f344dc",
   "metadata": {
    "execution": {
     "iopub.execute_input": "2022-02-06T11:55:05.241309Z",
     "iopub.status.busy": "2022-02-06T11:55:05.240565Z",
     "iopub.status.idle": "2022-02-06T11:55:05.358843Z",
     "shell.execute_reply": "2022-02-06T11:55:05.357930Z"
    },
    "papermill": {
     "duration": 0.234432,
     "end_time": "2022-02-06T11:55:05.359010",
     "exception": false,
     "start_time": "2022-02-06T11:55:05.124578",
     "status": "completed"
    },
    "tags": []
   },
   "outputs": [
    {
     "data": {
      "text/plain": [
       "LinearRegression()"
      ]
     },
     "execution_count": 37,
     "metadata": {},
     "output_type": "execute_result"
    }
   ],
   "source": [
    "from sklearn.linear_model import LinearRegression\n",
    "regressor= LinearRegression()\n",
    "regressor.fit(X_train, y_train) "
   ]
  },
  {
   "cell_type": "code",
   "execution_count": 38,
   "id": "2733bc64",
   "metadata": {
    "execution": {
     "iopub.execute_input": "2022-02-06T11:55:05.602845Z",
     "iopub.status.busy": "2022-02-06T11:55:05.601748Z",
     "iopub.status.idle": "2022-02-06T11:55:05.608247Z",
     "shell.execute_reply": "2022-02-06T11:55:05.607581Z"
    },
    "papermill": {
     "duration": 0.130656,
     "end_time": "2022-02-06T11:55:05.608409",
     "exception": false,
     "start_time": "2022-02-06T11:55:05.477753",
     "status": "completed"
    },
    "tags": []
   },
   "outputs": [
    {
     "data": {
      "text/plain": [
       "array([[0.54691679]])"
      ]
     },
     "metadata": {},
     "output_type": "display_data"
    },
    {
     "data": {
      "text/plain": [
       "array([-20.86068562])"
      ]
     },
     "metadata": {},
     "output_type": "display_data"
    }
   ],
   "source": [
    "# Model coefficients \n",
    "display(regressor.coef_, regressor.intercept_)"
   ]
  },
  {
   "cell_type": "markdown",
   "id": "5b3711c7",
   "metadata": {
    "papermill": {
     "duration": 0.115593,
     "end_time": "2022-02-06T11:55:05.835917",
     "exception": false,
     "start_time": "2022-02-06T11:55:05.720324",
     "status": "completed"
    },
    "tags": []
   },
   "source": [
    "**Model Performance** 📚"
   ]
  },
  {
   "cell_type": "code",
   "execution_count": 39,
   "id": "79c1a9e6",
   "metadata": {
    "execution": {
     "iopub.execute_input": "2022-02-06T11:55:06.068587Z",
     "iopub.status.busy": "2022-02-06T11:55:06.067865Z",
     "iopub.status.idle": "2022-02-06T11:55:06.653963Z",
     "shell.execute_reply": "2022-02-06T11:55:06.654488Z"
    },
    "papermill": {
     "duration": 0.701177,
     "end_time": "2022-02-06T11:55:06.654695",
     "exception": false,
     "start_time": "2022-02-06T11:55:05.953518",
     "status": "completed"
    },
    "tags": []
   },
   "outputs": [
    {
     "data": {
      "image/png": "[encoded data removed]",
      "text/plain": [
       "<Figure size 720x288 with 2 Axes>"
      ]
     },
     "metadata": {
      "needs_background": "light"
     },
     "output_type": "display_data"
    }
   ],
   "source": [
    "# Prediction on the train and test set \n",
    "train_diff= y_train- regressor.predict(X_train)\n",
    "test_diff = y_test - regressor.predict(X_test)\n",
    "fig,ax = plt.subplots(ncols=2, figsize=(10,4))\n",
    "ax[0].hist(train_diff, bins=40, color='lightcoral', edgecolor='black', density =True)\n",
    "ax[1].hist(test_diff, bins=40, color='bisque', edgecolor='black', density =True)\n",
    "ax[0].set_title('Residual histogram (Train set)')\n",
    "ax[1].set_title('Residual histogram (Test set)')\n",
    "fig.tight_layout();"
   ]
  },
  {
   "cell_type": "code",
   "execution_count": 40,
   "id": "b884ad26",
   "metadata": {
    "execution": {
     "iopub.execute_input": "2022-02-06T11:55:06.897277Z",
     "iopub.status.busy": "2022-02-06T11:55:06.896331Z",
     "iopub.status.idle": "2022-02-06T11:55:06.904076Z",
     "shell.execute_reply": "2022-02-06T11:55:06.904626Z"
    },
    "papermill": {
     "duration": 0.132832,
     "end_time": "2022-02-06T11:55:06.904891",
     "exception": false,
     "start_time": "2022-02-06T11:55:06.772059",
     "status": "completed"
    },
    "tags": []
   },
   "outputs": [
    {
     "name": "stdout",
     "output_type": "stream",
     "text": [
      "Mean of Residuals: [-6.343498738207378e-15, -1.221407668508355]\n",
      "Var of Residuals: [186.68135100591448, 190.30383423215582]\n"
     ]
    }
   ],
   "source": [
    "print('Mean of Residuals:',[np.mean(train_diff), np.mean(test_diff)])\n",
    "print('Var of Residuals:',[np.var(train_diff), np.var(test_diff)])"
   ]
  },
  {
   "cell_type": "code",
   "execution_count": 41,
   "id": "b3b04d7b",
   "metadata": {
    "execution": {
     "iopub.execute_input": "2022-02-06T11:55:07.136604Z",
     "iopub.status.busy": "2022-02-06T11:55:07.135532Z",
     "iopub.status.idle": "2022-02-06T11:55:07.144872Z",
     "shell.execute_reply": "2022-02-06T11:55:07.145990Z"
    },
    "papermill": {
     "duration": 0.127504,
     "end_time": "2022-02-06T11:55:07.146286",
     "exception": false,
     "start_time": "2022-02-06T11:55:07.018782",
     "status": "completed"
    },
    "tags": []
   },
   "outputs": [
    {
     "data": {
      "text/plain": [
       "0.8930195998011115"
      ]
     },
     "metadata": {},
     "output_type": "display_data"
    },
    {
     "data": {
      "text/plain": [
       "0.8564492853895674"
      ]
     },
     "metadata": {},
     "output_type": "display_data"
    }
   ],
   "source": [
    "# R2 measure\n",
    "from sklearn.metrics import r2_score\n",
    "display(r2_score(y_train,regressor.predict(X_train)),r2_score(y_test,regressor.predict(X_test)))"
   ]
  },
  {
   "cell_type": "markdown",
   "id": "8678978b",
   "metadata": {
    "papermill": {
     "duration": 0.112207,
     "end_time": "2022-02-06T11:55:07.376285",
     "exception": false,
     "start_time": "2022-02-06T11:55:07.264078",
     "status": "completed"
    },
    "tags": []
   },
   "source": [
    "- The model perform quite well with no significant difference in performance of train and test set. "
   ]
  },
  {
   "cell_type": "markdown",
   "id": "d8e7bbd3",
   "metadata": {
    "papermill": {
     "duration": 0.11631,
     "end_time": "2022-02-06T11:55:07.605317",
     "exception": false,
     "start_time": "2022-02-06T11:55:07.489007",
     "status": "completed"
    },
    "tags": []
   },
   "source": [
    "**Model Visualization** 🧮"
   ]
  },
  {
   "cell_type": "code",
   "execution_count": 42,
   "id": "dcf19ba7",
   "metadata": {
    "execution": {
     "iopub.execute_input": "2022-02-06T11:55:07.846151Z",
     "iopub.status.busy": "2022-02-06T11:55:07.845470Z",
     "iopub.status.idle": "2022-02-06T11:55:08.280909Z",
     "shell.execute_reply": "2022-02-06T11:55:08.280144Z"
    },
    "papermill": {
     "duration": 0.56077,
     "end_time": "2022-02-06T11:55:08.281069",
     "exception": false,
     "start_time": "2022-02-06T11:55:07.720299",
     "status": "completed"
    },
    "scrolled": true,
    "tags": []
   },
   "outputs": [
    {
     "data": {
      "image/png": "[encoded data removed]",
      "text/plain": [
       "<Figure size 936x360 with 2 Axes>"
      ]
     },
     "metadata": {
      "needs_background": "light"
     },
     "output_type": "display_data"
    }
   ],
   "source": [
    "fig,ax= plt.subplots(ncols=2, figsize=(13,5))\n",
    "# Train set\n",
    "ax[0].scatter(X_train, y_train, color = 'darkblue', marker='*', s=70)\n",
    "ax[0].plot(X_train, regressor.predict(X_train), color = 'black')\n",
    "ax[0].set_title('Simple Regression model (Train set)', color='darkblue', fontsize=15)\n",
    "# Test set\n",
    "ax[1].scatter(X_test, y_test, color = 'darkred', marker='^', s=70)\n",
    "ax[1].plot(X_train, regressor.predict(X_train), color = 'black')\n",
    "ax[1].set_title('Simple Regression model (Test set)', color='darkred', fontsize=15)\n",
    "fig.tight_layout()"
   ]
  },
  {
   "cell_type": "markdown",
   "id": "3b2d0e56",
   "metadata": {
    "papermill": {
     "duration": 0.119003,
     "end_time": "2022-02-06T11:55:08.517243",
     "exception": false,
     "start_time": "2022-02-06T11:55:08.398240",
     "status": "completed"
    },
    "tags": []
   },
   "source": [
    "### Multiple Linear Regression Model 🦠"
   ]
  },
  {
   "cell_type": "markdown",
   "id": "bd9eb50c",
   "metadata": {
    "papermill": {
     "duration": 0.115111,
     "end_time": "2022-02-06T11:55:08.751801",
     "exception": false,
     "start_time": "2022-02-06T11:55:08.636690",
     "status": "completed"
    },
    "tags": []
   },
   "source": [
    "- We use both Transmission and Power as predictors in this model"
   ]
  },
  {
   "cell_type": "markdown",
   "id": "a19a1190",
   "metadata": {
    "papermill": {
     "duration": 0.116988,
     "end_time": "2022-02-06T11:55:08.987953",
     "exception": false,
     "start_time": "2022-02-06T11:55:08.870965",
     "status": "completed"
    },
    "tags": []
   },
   "source": [
    "**Independent and Dependent variables** 🚦 🚥"
   ]
  },
  {
   "cell_type": "code",
   "execution_count": 43,
   "id": "b07b34cf",
   "metadata": {
    "execution": {
     "iopub.execute_input": "2022-02-06T11:55:09.227365Z",
     "iopub.status.busy": "2022-02-06T11:55:09.226633Z",
     "iopub.status.idle": "2022-02-06T11:55:09.231088Z",
     "shell.execute_reply": "2022-02-06T11:55:09.231742Z"
    },
    "papermill": {
     "duration": 0.128308,
     "end_time": "2022-02-06T11:55:09.231936",
     "exception": false,
     "start_time": "2022-02-06T11:55:09.103628",
     "status": "completed"
    },
    "tags": []
   },
   "outputs": [
    {
     "data": {
      "text/plain": [
       "array([[ 5.        , 60.625     ],\n",
       "       [ 5.        , 87.71428571],\n",
       "       [ 5.        , 87.71428571]])"
      ]
     },
     "metadata": {},
     "output_type": "display_data"
    },
    {
     "data": {
      "text/plain": [
       "array([21.105625  , 17.42714286, 18.19842857])"
      ]
     },
     "metadata": {},
     "output_type": "display_data"
    }
   ],
   "source": [
    "X= data2[['Transmission', 'Power']].values\n",
    "y= data2['Price'].values\n",
    "display(X[:3], y[:3])"
   ]
  },
  {
   "cell_type": "markdown",
   "id": "438b19b2",
   "metadata": {
    "papermill": {
     "duration": 0.119741,
     "end_time": "2022-02-06T11:55:09.469877",
     "exception": false,
     "start_time": "2022-02-06T11:55:09.350136",
     "status": "completed"
    },
    "tags": []
   },
   "source": [
    "**Train-Test Split** ⚖️"
   ]
  },
  {
   "cell_type": "code",
   "execution_count": 44,
   "id": "9fae2f8a",
   "metadata": {
    "execution": {
     "iopub.execute_input": "2022-02-06T11:55:09.705736Z",
     "iopub.status.busy": "2022-02-06T11:55:09.705048Z",
     "iopub.status.idle": "2022-02-06T11:55:09.710402Z",
     "shell.execute_reply": "2022-02-06T11:55:09.710949Z"
    },
    "papermill": {
     "duration": 0.125388,
     "end_time": "2022-02-06T11:55:09.711159",
     "exception": false,
     "start_time": "2022-02-06T11:55:09.585771",
     "status": "completed"
    },
    "tags": []
   },
   "outputs": [],
   "source": [
    "# Split the data into train (80%) and test (20%) set \n",
    "from sklearn.model_selection import train_test_split\n",
    "X_train, X_test, y_train, y_test= train_test_split(X,y,test_size=0.2, random_state=0)"
   ]
  },
  {
   "cell_type": "markdown",
   "id": "f500820a",
   "metadata": {
    "papermill": {
     "duration": 0.115746,
     "end_time": "2022-02-06T11:55:09.944038",
     "exception": false,
     "start_time": "2022-02-06T11:55:09.828292",
     "status": "completed"
    },
    "tags": []
   },
   "source": [
    "**Training the model on Train set** 🛒"
   ]
  },
  {
   "cell_type": "code",
   "execution_count": 45,
   "id": "c6df02b3",
   "metadata": {
    "execution": {
     "iopub.execute_input": "2022-02-06T11:55:10.189026Z",
     "iopub.status.busy": "2022-02-06T11:55:10.187299Z",
     "iopub.status.idle": "2022-02-06T11:55:10.193153Z",
     "shell.execute_reply": "2022-02-06T11:55:10.193890Z"
    },
    "papermill": {
     "duration": 0.134262,
     "end_time": "2022-02-06T11:55:10.194093",
     "exception": false,
     "start_time": "2022-02-06T11:55:10.059831",
     "status": "completed"
    },
    "tags": []
   },
   "outputs": [
    {
     "data": {
      "text/plain": [
       "LinearRegression()"
      ]
     },
     "execution_count": 45,
     "metadata": {},
     "output_type": "execute_result"
    }
   ],
   "source": [
    "from sklearn.linear_model import LinearRegression\n",
    "regressor= LinearRegression()\n",
    "regressor.fit(X_train, y_train) "
   ]
  },
  {
   "cell_type": "code",
   "execution_count": 46,
   "id": "32282bed",
   "metadata": {
    "execution": {
     "iopub.execute_input": "2022-02-06T11:55:10.431943Z",
     "iopub.status.busy": "2022-02-06T11:55:10.430818Z",
     "iopub.status.idle": "2022-02-06T11:55:10.437300Z",
     "shell.execute_reply": "2022-02-06T11:55:10.437928Z"
    },
    "papermill": {
     "duration": 0.129359,
     "end_time": "2022-02-06T11:55:10.438128",
     "exception": false,
     "start_time": "2022-02-06T11:55:10.308769",
     "status": "completed"
    },
    "tags": []
   },
   "outputs": [
    {
     "data": {
      "text/plain": [
       "array([1.0862037 , 0.53967836])"
      ]
     },
     "metadata": {},
     "output_type": "display_data"
    },
    {
     "data": {
      "text/plain": [
       "-25.61152561943335"
      ]
     },
     "metadata": {},
     "output_type": "display_data"
    }
   ],
   "source": [
    "# Model coefficients \n",
    "display(regressor.coef_, regressor.intercept_)"
   ]
  },
  {
   "cell_type": "markdown",
   "id": "4cc9d1eb",
   "metadata": {
    "papermill": {
     "duration": 0.120573,
     "end_time": "2022-02-06T11:55:10.677616",
     "exception": false,
     "start_time": "2022-02-06T11:55:10.557043",
     "status": "completed"
    },
    "tags": []
   },
   "source": [
    "**Model Performance** 📚"
   ]
  },
  {
   "cell_type": "code",
   "execution_count": 47,
   "id": "392db172",
   "metadata": {
    "execution": {
     "iopub.execute_input": "2022-02-06T11:55:11.167236Z",
     "iopub.status.busy": "2022-02-06T11:55:11.166157Z",
     "iopub.status.idle": "2022-02-06T11:55:11.729325Z",
     "shell.execute_reply": "2022-02-06T11:55:11.728316Z"
    },
    "papermill": {
     "duration": 0.932759,
     "end_time": "2022-02-06T11:55:11.729482",
     "exception": false,
     "start_time": "2022-02-06T11:55:10.796723",
     "status": "completed"
    },
    "tags": []
   },
   "outputs": [
    {
     "data": {
      "image/png": "[encoded data removed]",
      "text/plain": [
       "<Figure size 720x288 with 2 Axes>"
      ]
     },
     "metadata": {
      "needs_background": "light"
     },
     "output_type": "display_data"
    }
   ],
   "source": [
    "# Prediction on the train and test set \n",
    "train_diff= y_train- regressor.predict(X_train)\n",
    "test_diff = y_test - regressor.predict(X_test)\n",
    "fig,ax = plt.subplots(ncols=2, figsize=(10,4))\n",
    "ax[0].hist(train_diff, bins=40, color='darkmagenta', edgecolor='black', density =True)\n",
    "ax[1].hist(test_diff, bins=40, color='darkblue', edgecolor='black', density =True)\n",
    "ax[0].set_title('Residual histogram (Train set)')\n",
    "ax[1].set_title('Residual histogram (Test set)')\n",
    "fig.tight_layout();"
   ]
  },
  {
   "cell_type": "code",
   "execution_count": 48,
   "id": "2d0303b7",
   "metadata": {
    "execution": {
     "iopub.execute_input": "2022-02-06T11:55:11.970315Z",
     "iopub.status.busy": "2022-02-06T11:55:11.969620Z",
     "iopub.status.idle": "2022-02-06T11:55:11.975542Z",
     "shell.execute_reply": "2022-02-06T11:55:11.976037Z"
    },
    "papermill": {
     "duration": 0.128679,
     "end_time": "2022-02-06T11:55:11.976230",
     "exception": false,
     "start_time": "2022-02-06T11:55:11.847551",
     "status": "completed"
    },
    "tags": []
   },
   "outputs": [
    {
     "name": "stdout",
     "output_type": "stream",
     "text": [
      "Mean of Residuals: [-5.7587628209983185e-15, -1.228878282767635]\n",
      "Var of Residuals: [184.5123048918293, 198.74537946881284]\n"
     ]
    }
   ],
   "source": [
    "print('Mean of Residuals:',[np.mean(train_diff), np.mean(test_diff)])\n",
    "print('Var of Residuals:',[np.var(train_diff), np.var(test_diff)])"
   ]
  },
  {
   "cell_type": "code",
   "execution_count": 49,
   "id": "68808062",
   "metadata": {
    "execution": {
     "iopub.execute_input": "2022-02-06T11:55:12.218568Z",
     "iopub.status.busy": "2022-02-06T11:55:12.217583Z",
     "iopub.status.idle": "2022-02-06T11:55:12.226429Z",
     "shell.execute_reply": "2022-02-06T11:55:12.226899Z"
    },
    "papermill": {
     "duration": 0.13273,
     "end_time": "2022-02-06T11:55:12.227081",
     "exception": false,
     "start_time": "2022-02-06T11:55:12.094351",
     "status": "completed"
    },
    "tags": []
   },
   "outputs": [
    {
     "data": {
      "text/plain": [
       "0.8942626024903695"
      ]
     },
     "metadata": {},
     "output_type": "display_data"
    },
    {
     "data": {
      "text/plain": [
       "0.850117455471937"
      ]
     },
     "metadata": {},
     "output_type": "display_data"
    }
   ],
   "source": [
    "# R2 measure\n",
    "from sklearn.metrics import r2_score\n",
    "display(r2_score(y_train,regressor.predict(X_train)),r2_score(y_test,regressor.predict(X_test)))"
   ]
  },
  {
   "cell_type": "markdown",
   "id": "088771c5",
   "metadata": {
    "papermill": {
     "duration": 0.118838,
     "end_time": "2022-02-06T11:55:12.464494",
     "exception": false,
     "start_time": "2022-02-06T11:55:12.345656",
     "status": "completed"
    },
    "tags": []
   },
   "source": [
    "- The model perform quite well with no significant difference in performance of train and test set. "
   ]
  },
  {
   "cell_type": "markdown",
   "id": "a98529c8",
   "metadata": {
    "papermill": {
     "duration": 0.139337,
     "end_time": "2022-02-06T11:55:12.751281",
     "exception": false,
     "start_time": "2022-02-06T11:55:12.611944",
     "status": "completed"
    },
    "tags": []
   },
   "source": [
    "**Model Visualization** 🧮"
   ]
  },
  {
   "cell_type": "code",
   "execution_count": 50,
   "id": "24665259",
   "metadata": {
    "execution": {
     "iopub.execute_input": "2022-02-06T11:55:13.040234Z",
     "iopub.status.busy": "2022-02-06T11:55:13.039315Z",
     "iopub.status.idle": "2022-02-06T11:55:14.180688Z",
     "shell.execute_reply": "2022-02-06T11:55:14.181186Z"
    },
    "papermill": {
     "duration": 1.293255,
     "end_time": "2022-02-06T11:55:14.181359",
     "exception": false,
     "start_time": "2022-02-06T11:55:12.888104",
     "status": "completed"
    },
    "tags": []
   },
   "outputs": [
    {
     "data": {
      "image/png": "[encoded data removed]",
      "text/plain": [
       "<Figure size 1584x864 with 1 Axes>"
      ]
     },
     "metadata": {
      "needs_background": "light"
     },
     "output_type": "display_data"
    }
   ],
   "source": [
    "x_surf, y_surf = np.meshgrid(np.linspace(data2['Power'].min(),data2['Power'].max(), 100),\n",
    "                             np.linspace(data2['Transmission'].min(),data2['Transmission'].max(), 100))\n",
    "X = pd.DataFrame({'Power': x_surf.ravel(), 'Transmission': y_surf.ravel()})\n",
    "Y=regressor.predict(X)\n",
    "\n",
    "from mpl_toolkits.mplot3d import Axes3D\n",
    "fig = plt.figure(figsize=(22,12))\n",
    "ax = fig.add_subplot(111, projection='3d')\n",
    "ax.scatter(data2['Power'],data2['Transmission'],data2['Price'],c='darkred', marker='o', alpha=0.7)\n",
    "ax.plot_surface(x_surf,y_surf,Y.reshape(x_surf.shape), color='green', alpha=0.3)\n",
    "ax.set_xlabel('Power')\n",
    "ax.set_ylabel('Transmission')\n",
    "ax.set_zlabel('Price')\n",
    "ax.set_title('3D plot of Multiple Regression Model', fontsize=15);"
   ]
  },
  {
   "cell_type": "markdown",
   "id": "f333f824",
   "metadata": {
    "papermill": {
     "duration": 0.124806,
     "end_time": "2022-02-06T11:55:14.430256",
     "exception": false,
     "start_time": "2022-02-06T11:55:14.305450",
     "status": "completed"
    },
    "tags": []
   },
   "source": [
    "### Support Vector Regression Model ⚖️"
   ]
  },
  {
   "cell_type": "markdown",
   "id": "7ed9ccbf",
   "metadata": {
    "papermill": {
     "duration": 0.125094,
     "end_time": "2022-02-06T11:55:14.680261",
     "exception": false,
     "start_time": "2022-02-06T11:55:14.555167",
     "status": "completed"
    },
    "tags": []
   },
   "source": [
    "**Independent and Dependent variables** 🚦 🚥"
   ]
  },
  {
   "cell_type": "code",
   "execution_count": 51,
   "id": "3c3846d1",
   "metadata": {
    "execution": {
     "iopub.execute_input": "2022-02-06T11:55:14.935378Z",
     "iopub.status.busy": "2022-02-06T11:55:14.934291Z",
     "iopub.status.idle": "2022-02-06T11:55:14.943256Z",
     "shell.execute_reply": "2022-02-06T11:55:14.943766Z"
    },
    "papermill": {
     "duration": 0.138132,
     "end_time": "2022-02-06T11:55:14.943960",
     "exception": false,
     "start_time": "2022-02-06T11:55:14.805828",
     "status": "completed"
    },
    "tags": []
   },
   "outputs": [
    {
     "data": {
      "text/plain": [
       "array([[60.625     ],\n",
       "       [87.71428571],\n",
       "       [87.71428571]])"
      ]
     },
     "metadata": {},
     "output_type": "display_data"
    },
    {
     "data": {
      "text/plain": [
       "array([[21.105625  ],\n",
       "       [17.42714286],\n",
       "       [18.19842857]])"
      ]
     },
     "metadata": {},
     "output_type": "display_data"
    }
   ],
   "source": [
    "X= data2['Power'].values\n",
    "y= data2['Price'].values\n",
    "X= X.reshape(-1,1)\n",
    "y=y.reshape(-1,1)\n",
    "display(X[:3], y[:3])"
   ]
  },
  {
   "cell_type": "markdown",
   "id": "52163057",
   "metadata": {
    "papermill": {
     "duration": 0.126095,
     "end_time": "2022-02-06T11:55:15.196991",
     "exception": false,
     "start_time": "2022-02-06T11:55:15.070896",
     "status": "completed"
    },
    "tags": []
   },
   "source": [
    "**Feature Scaling** 🏮"
   ]
  },
  {
   "cell_type": "code",
   "execution_count": 52,
   "id": "96eb8f9e",
   "metadata": {
    "execution": {
     "iopub.execute_input": "2022-02-06T11:55:15.453263Z",
     "iopub.status.busy": "2022-02-06T11:55:15.452247Z",
     "iopub.status.idle": "2022-02-06T11:55:15.459149Z",
     "shell.execute_reply": "2022-02-06T11:55:15.458584Z"
    },
    "papermill": {
     "duration": 0.1361,
     "end_time": "2022-02-06T11:55:15.459313",
     "exception": false,
     "start_time": "2022-02-06T11:55:15.323213",
     "status": "completed"
    },
    "tags": []
   },
   "outputs": [],
   "source": [
    "from sklearn.preprocessing import StandardScaler\n",
    "sc_X = StandardScaler()\n",
    "sc_y = StandardScaler()\n",
    "X = sc_X.fit_transform(X)\n",
    "y = sc_y.fit_transform(y)"
   ]
  },
  {
   "cell_type": "markdown",
   "id": "999ae5b9",
   "metadata": {
    "papermill": {
     "duration": 0.128174,
     "end_time": "2022-02-06T11:55:15.715303",
     "exception": false,
     "start_time": "2022-02-06T11:55:15.587129",
     "status": "completed"
    },
    "tags": []
   },
   "source": [
    "**Train-Test Split** ⚖️"
   ]
  },
  {
   "cell_type": "code",
   "execution_count": 53,
   "id": "fc579782",
   "metadata": {
    "execution": {
     "iopub.execute_input": "2022-02-06T11:55:15.973612Z",
     "iopub.status.busy": "2022-02-06T11:55:15.970215Z",
     "iopub.status.idle": "2022-02-06T11:55:15.975759Z",
     "shell.execute_reply": "2022-02-06T11:55:15.976276Z"
    },
    "papermill": {
     "duration": 0.136452,
     "end_time": "2022-02-06T11:55:15.976459",
     "exception": false,
     "start_time": "2022-02-06T11:55:15.840007",
     "status": "completed"
    },
    "tags": []
   },
   "outputs": [],
   "source": [
    "# Split the data into train (80%) and test (20%) set \n",
    "from sklearn.model_selection import train_test_split\n",
    "X_train, X_test, y_train, y_test= train_test_split(X,y,test_size=0.2, random_state=0)"
   ]
  },
  {
   "cell_type": "markdown",
   "id": "491eee6a",
   "metadata": {
    "papermill": {
     "duration": 0.126088,
     "end_time": "2022-02-06T11:55:16.229074",
     "exception": false,
     "start_time": "2022-02-06T11:55:16.102986",
     "status": "completed"
    },
    "tags": []
   },
   "source": [
    "**Training the model on Train set** 🛒"
   ]
  },
  {
   "cell_type": "code",
   "execution_count": 54,
   "id": "5341cbf8",
   "metadata": {
    "execution": {
     "iopub.execute_input": "2022-02-06T11:55:16.482844Z",
     "iopub.status.busy": "2022-02-06T11:55:16.482180Z",
     "iopub.status.idle": "2022-02-06T11:55:16.496585Z",
     "shell.execute_reply": "2022-02-06T11:55:16.497244Z"
    },
    "papermill": {
     "duration": 0.144064,
     "end_time": "2022-02-06T11:55:16.497423",
     "exception": false,
     "start_time": "2022-02-06T11:55:16.353359",
     "status": "completed"
    },
    "tags": []
   },
   "outputs": [
    {
     "data": {
      "text/plain": [
       "SVR()"
      ]
     },
     "execution_count": 54,
     "metadata": {},
     "output_type": "execute_result"
    }
   ],
   "source": [
    "from sklearn.svm import SVR\n",
    "regressor = SVR(kernel = 'rbf')\n",
    "regressor.fit(X_train, y_train)"
   ]
  },
  {
   "cell_type": "code",
   "execution_count": 55,
   "id": "390f0fec",
   "metadata": {
    "execution": {
     "iopub.execute_input": "2022-02-06T11:55:16.758391Z",
     "iopub.status.busy": "2022-02-06T11:55:16.757593Z",
     "iopub.status.idle": "2022-02-06T11:55:16.763386Z",
     "shell.execute_reply": "2022-02-06T11:55:16.764046Z"
    },
    "papermill": {
     "duration": 0.136888,
     "end_time": "2022-02-06T11:55:16.764236",
     "exception": false,
     "start_time": "2022-02-06T11:55:16.627348",
     "status": "completed"
    },
    "tags": []
   },
   "outputs": [
    {
     "data": {
      "text/plain": [
       "{'C': 1.0,\n",
       " 'cache_size': 200,\n",
       " 'coef0': 0.0,\n",
       " 'degree': 3,\n",
       " 'epsilon': 0.1,\n",
       " 'gamma': 'scale',\n",
       " 'kernel': 'rbf',\n",
       " 'max_iter': -1,\n",
       " 'shrinking': True,\n",
       " 'tol': 0.001,\n",
       " 'verbose': False}"
      ]
     },
     "execution_count": 55,
     "metadata": {},
     "output_type": "execute_result"
    }
   ],
   "source": [
    "# Parameters\n",
    "regressor.get_params()"
   ]
  },
  {
   "cell_type": "markdown",
   "id": "7b127daf",
   "metadata": {
    "papermill": {
     "duration": 0.12744,
     "end_time": "2022-02-06T11:55:17.019795",
     "exception": false,
     "start_time": "2022-02-06T11:55:16.892355",
     "status": "completed"
    },
    "tags": []
   },
   "source": [
    "**Model Performance** 📚"
   ]
  },
  {
   "cell_type": "code",
   "execution_count": 56,
   "id": "abe67439",
   "metadata": {
    "execution": {
     "iopub.execute_input": "2022-02-06T11:55:17.281875Z",
     "iopub.status.busy": "2022-02-06T11:55:17.281094Z",
     "iopub.status.idle": "2022-02-06T11:55:17.833601Z",
     "shell.execute_reply": "2022-02-06T11:55:17.834131Z"
    },
    "papermill": {
     "duration": 0.684273,
     "end_time": "2022-02-06T11:55:17.834322",
     "exception": false,
     "start_time": "2022-02-06T11:55:17.150049",
     "status": "completed"
    },
    "tags": []
   },
   "outputs": [
    {
     "data": {
      "image/png": "[encoded data removed]",
      "text/plain": [
       "<Figure size 720x288 with 2 Axes>"
      ]
     },
     "metadata": {
      "needs_background": "light"
     },
     "output_type": "display_data"
    }
   ],
   "source": [
    "# Prediction on the train and test set \n",
    "train_diff= y_train- regressor.predict(X_train).reshape(-1,1)\n",
    "test_diff = y_test - regressor.predict(X_test).reshape(-1,1)\n",
    "fig,ax = plt.subplots(ncols=2, figsize=(10,4))\n",
    "ax[0].hist(train_diff, bins=40, color='maroon', edgecolor='black', density =True)\n",
    "ax[1].hist(test_diff, bins=40, color='darkblue', edgecolor='black', density =True)\n",
    "ax[0].set_title('Residual histogram (Train set)')\n",
    "ax[1].set_title('Residual histogram (Test set)')\n",
    "fig.tight_layout();"
   ]
  },
  {
   "cell_type": "code",
   "execution_count": 57,
   "id": "1e7c34bc",
   "metadata": {
    "execution": {
     "iopub.execute_input": "2022-02-06T11:55:18.103742Z",
     "iopub.status.busy": "2022-02-06T11:55:18.103022Z",
     "iopub.status.idle": "2022-02-06T11:55:18.108849Z",
     "shell.execute_reply": "2022-02-06T11:55:18.107762Z"
    },
    "papermill": {
     "duration": 0.144542,
     "end_time": "2022-02-06T11:55:18.109085",
     "exception": false,
     "start_time": "2022-02-06T11:55:17.964543",
     "status": "completed"
    },
    "tags": []
   },
   "outputs": [
    {
     "name": "stdout",
     "output_type": "stream",
     "text": [
      "Mean of Residuals: [0.029531381623471794, -0.00793951817563461]\n",
      "Var of Residuals: [0.12332167386130714, 0.11498272388350327]\n"
     ]
    }
   ],
   "source": [
    "print('Mean of Residuals:',[np.mean(train_diff), np.mean(test_diff)])\n",
    "print('Var of Residuals:',[np.var(train_diff), np.var(test_diff)])"
   ]
  },
  {
   "cell_type": "code",
   "execution_count": 58,
   "id": "eaf10ca9",
   "metadata": {
    "execution": {
     "iopub.execute_input": "2022-02-06T11:55:18.378831Z",
     "iopub.status.busy": "2022-02-06T11:55:18.377800Z",
     "iopub.status.idle": "2022-02-06T11:55:18.389560Z",
     "shell.execute_reply": "2022-02-06T11:55:18.390239Z"
    },
    "papermill": {
     "duration": 0.146674,
     "end_time": "2022-02-06T11:55:18.390423",
     "exception": false,
     "start_time": "2022-02-06T11:55:18.243749",
     "status": "completed"
    },
    "tags": []
   },
   "outputs": [
    {
     "data": {
      "text/plain": [
       "0.8816000125654868"
      ]
     },
     "metadata": {},
     "output_type": "display_data"
    },
    {
     "data": {
      "text/plain": [
       "0.8567529405399644"
      ]
     },
     "metadata": {},
     "output_type": "display_data"
    }
   ],
   "source": [
    "# R2 measure\n",
    "from sklearn.metrics import r2_score\n",
    "display(r2_score(y_train,regressor.predict(X_train).reshape(-1,1)),\n",
    "        r2_score(y_test,regressor.predict(X_test).reshape(-1,1)))"
   ]
  },
  {
   "cell_type": "markdown",
   "id": "d347b2ce",
   "metadata": {
    "papermill": {
     "duration": 0.130829,
     "end_time": "2022-02-06T11:55:18.655996",
     "exception": false,
     "start_time": "2022-02-06T11:55:18.525167",
     "status": "completed"
    },
    "tags": []
   },
   "source": [
    "- The model perform quite well with no significant difference in performance of train and test set. "
   ]
  },
  {
   "cell_type": "markdown",
   "id": "2abb4116",
   "metadata": {
    "papermill": {
     "duration": 0.13496,
     "end_time": "2022-02-06T11:55:18.929225",
     "exception": false,
     "start_time": "2022-02-06T11:55:18.794265",
     "status": "completed"
    },
    "tags": []
   },
   "source": [
    "**Model Visualization** 🧮"
   ]
  },
  {
   "cell_type": "raw",
   "id": "b75fa3b9",
   "metadata": {
    "execution": {
     "iopub.execute_input": "2022-02-06T11:55:19.194633Z",
     "iopub.status.busy": "2022-02-06T11:55:19.193129Z",
     "iopub.status.idle": "2022-02-06T11:55:19.649012Z",
     "shell.execute_reply": "2022-02-06T11:55:19.648426Z"
    },
    "papermill": {
     "duration": 0.587675,
     "end_time": "2022-02-06T11:55:19.649162",
     "exception": false,
     "start_time": "2022-02-06T11:55:19.061487",
     "status": "completed"
    },
    "tags": []
   },
   "source": [
    "min_X, max_X= np.min(X_train),np.max(X_train)\n",
    "X_grid= np.linspace(min_X, max_X, 1000).reshape(-1,1)\n",
    "fig,ax= plt.subplots(ncols=2, figsize=(13,5))\n",
    "# Train set\n",
    "ax[0].scatter(sc_X.inverse_transform(X_train), sc_y.inverse_transform(y_train), color = 'darkblue', marker='*', s=70)\n",
    "ax[0].scatter(sc_X.inverse_transform(X_grid), sc_y.inverse_transform(regressor.predict(X_grid)), color = 'black',s=5)\n",
    "ax[0].set_title('Support Vector Regression Model (Train set)', color='darkblue', fontsize=15)\n",
    "# Test set\n",
    "ax[1].scatter(sc_X.inverse_transform(X_test), sc_y.inverse_transform(y_test), color = 'darkred', marker='^', s=70)\n",
    "ax[1].scatter(sc_X.inverse_transform(X_grid), sc_y.inverse_transform(regressor.predict(X_grid)), color = 'black',s=5)\n",
    "ax[1].set_title('Support Vector Regression Model (Test set)', color='darkred', fontsize=15)\n",
    "fig.tight_layout()"
   ]
  },
  {
   "cell_type": "markdown",
   "id": "5f401128",
   "metadata": {
    "papermill": {
     "duration": 0.131432,
     "end_time": "2022-02-06T11:55:19.910290",
     "exception": false,
     "start_time": "2022-02-06T11:55:19.778858",
     "status": "completed"
    },
    "tags": []
   },
   "source": [
    "### Random Forest Regression 🧮"
   ]
  },
  {
   "cell_type": "markdown",
   "id": "82778913",
   "metadata": {
    "papermill": {
     "duration": 0.131656,
     "end_time": "2022-02-06T11:55:20.173006",
     "exception": false,
     "start_time": "2022-02-06T11:55:20.041350",
     "status": "completed"
    },
    "tags": []
   },
   "source": [
    "- We use only Power as the predictor for Price"
   ]
  },
  {
   "cell_type": "markdown",
   "id": "b376436c",
   "metadata": {
    "papermill": {
     "duration": 0.130811,
     "end_time": "2022-02-06T11:55:20.437828",
     "exception": false,
     "start_time": "2022-02-06T11:55:20.307017",
     "status": "completed"
    },
    "tags": []
   },
   "source": [
    "**Independent and Dependent variables** 🚦 🚥"
   ]
  },
  {
   "cell_type": "code",
   "execution_count": null,
   "id": "db891ccb",
   "metadata": {
    "execution": {
     "iopub.execute_input": "2022-02-06T11:55:20.709729Z",
     "iopub.status.busy": "2022-02-06T11:55:20.708903Z",
     "iopub.status.idle": "2022-02-06T11:55:20.714435Z",
     "shell.execute_reply": "2022-02-06T11:55:20.715104Z"
    },
    "papermill": {
     "duration": 0.145417,
     "end_time": "2022-02-06T11:55:20.715287",
     "exception": false,
     "start_time": "2022-02-06T11:55:20.569870",
     "status": "completed"
    },
    "tags": []
   },
   "outputs": [],
   "source": [
    "X= data2['Power'].values\n",
    "y= data2['Price'].values\n",
    "X= X.reshape(-1,1)\n",
    "y=y.reshape(-1,1)\n",
    "display(X[:3], y[:3])"
   ]
  },
  {
   "cell_type": "markdown",
   "id": "5626cf75",
   "metadata": {
    "papermill": {
     "duration": 0.132411,
     "end_time": "2022-02-06T11:55:20.985891",
     "exception": false,
     "start_time": "2022-02-06T11:55:20.853480",
     "status": "completed"
    },
    "tags": []
   },
   "source": [
    "**Train-Test Split** ⚖️"
   ]
  },
  {
   "cell_type": "code",
   "execution_count": null,
   "id": "b01d2291",
   "metadata": {
    "execution": {
     "iopub.execute_input": "2022-02-06T11:55:21.257931Z",
     "iopub.status.busy": "2022-02-06T11:55:21.253598Z",
     "iopub.status.idle": "2022-02-06T11:55:21.260848Z",
     "shell.execute_reply": "2022-02-06T11:55:21.260212Z"
    },
    "papermill": {
     "duration": 0.142408,
     "end_time": "2022-02-06T11:55:21.261000",
     "exception": false,
     "start_time": "2022-02-06T11:55:21.118592",
     "status": "completed"
    },
    "tags": []
   },
   "outputs": [],
   "source": [
    "# Split the data into train (80%) and test (20%) set \n",
    "from sklearn.model_selection import train_test_split\n",
    "X_train, X_test, y_train, y_test= train_test_split(X,y,test_size=0.2, random_state=0)"
   ]
  },
  {
   "cell_type": "markdown",
   "id": "7637a430",
   "metadata": {
    "papermill": {
     "duration": 0.133076,
     "end_time": "2022-02-06T11:55:21.527867",
     "exception": false,
     "start_time": "2022-02-06T11:55:21.394791",
     "status": "completed"
    },
    "tags": []
   },
   "source": [
    "**Training the model on Train set** 🛒"
   ]
  },
  {
   "cell_type": "code",
   "execution_count": null,
   "id": "28774449",
   "metadata": {
    "execution": {
     "iopub.execute_input": "2022-02-06T11:55:21.800542Z",
     "iopub.status.busy": "2022-02-06T11:55:21.798231Z",
     "iopub.status.idle": "2022-02-06T11:55:22.022091Z",
     "shell.execute_reply": "2022-02-06T11:55:22.021335Z"
    },
    "papermill": {
     "duration": 0.359887,
     "end_time": "2022-02-06T11:55:22.022247",
     "exception": false,
     "start_time": "2022-02-06T11:55:21.662360",
     "status": "completed"
    },
    "tags": []
   },
   "outputs": [],
   "source": [
    "from sklearn.ensemble import RandomForestRegressor\n",
    "regressor = RandomForestRegressor(n_estimators = 50, random_state = 0)\n",
    "regressor.fit(X_train, y_train)"
   ]
  },
  {
   "cell_type": "code",
   "execution_count": null,
   "id": "ff948450",
   "metadata": {
    "execution": {
     "iopub.execute_input": "2022-02-06T11:55:22.298836Z",
     "iopub.status.busy": "2022-02-06T11:55:22.298123Z",
     "iopub.status.idle": "2022-02-06T11:55:22.302360Z",
     "shell.execute_reply": "2022-02-06T11:55:22.302970Z"
    },
    "papermill": {
     "duration": 0.144513,
     "end_time": "2022-02-06T11:55:22.303158",
     "exception": false,
     "start_time": "2022-02-06T11:55:22.158645",
     "status": "completed"
    },
    "tags": []
   },
   "outputs": [],
   "source": [
    "# Parameters\n",
    "regressor.get_params()"
   ]
  },
  {
   "cell_type": "markdown",
   "id": "58793cdc",
   "metadata": {
    "papermill": {
     "duration": 0.138581,
     "end_time": "2022-02-06T11:55:22.575425",
     "exception": false,
     "start_time": "2022-02-06T11:55:22.436844",
     "status": "completed"
    },
    "tags": []
   },
   "source": [
    "**Model Performance** 📚"
   ]
  },
  {
   "cell_type": "code",
   "execution_count": 61,
   "id": "bdf2a1c9",
   "metadata": {
    "execution": {
     "iopub.execute_input": "2022-02-06T11:55:22.861764Z",
     "iopub.status.busy": "2022-02-06T11:55:22.860936Z",
     "iopub.status.idle": "2022-02-06T11:55:23.523966Z",
     "shell.execute_reply": "2022-02-06T11:55:23.523282Z"
    },
    "papermill": {
     "duration": 0.811749,
     "end_time": "2022-02-06T11:55:23.524117",
     "exception": false,
     "start_time": "2022-02-06T11:55:22.712368",
     "status": "completed"
    },
    "tags": []
   },
   "outputs": [
    {
     "data": {
      "image/png": "[encoded data removed]",
      "text/plain": [
       "<Figure size 720x288 with 2 Axes>"
      ]
     },
     "metadata": {
      "needs_background": "light"
     },
     "output_type": "display_data"
    }
   ],
   "source": [
    "# Prediction on the train and test set \n",
    "train_diff= y_train- regressor.predict(X_train).reshape(-1,1)\n",
    "test_diff = y_test - regressor.predict(X_test).reshape(-1,1)\n",
    "fig,ax = plt.subplots(ncols=2, figsize=(10,4))\n",
    "ax[0].hist(train_diff, bins=40, color='lightcoral', edgecolor='black', density =True)\n",
    "ax[1].hist(test_diff, bins=40, color='bisque', edgecolor='black', density =True)\n",
    "ax[0].set_title('Residual histogram (Train set)')\n",
    "ax[1].set_title('Residual histogram (Test set)')\n",
    "fig.tight_layout();"
   ]
  },
  {
   "cell_type": "code",
   "execution_count": 62,
   "id": "bd9554c7",
   "metadata": {
    "execution": {
     "iopub.execute_input": "2022-02-06T11:55:23.809914Z",
     "iopub.status.busy": "2022-02-06T11:55:23.809134Z",
     "iopub.status.idle": "2022-02-06T11:55:23.815950Z",
     "shell.execute_reply": "2022-02-06T11:55:23.816616Z"
    },
    "papermill": {
     "duration": 0.147635,
     "end_time": "2022-02-06T11:55:23.816842",
     "exception": false,
     "start_time": "2022-02-06T11:55:23.669207",
     "status": "completed"
    },
    "tags": []
   },
   "outputs": [
    {
     "name": "stdout",
     "output_type": "stream",
     "text": [
      "Mean of Residuals: [0.029531381623471794, -0.00793951817563461]\n",
      "Var of Residuals: [0.12332167386130714, 0.11498272388350327]\n"
     ]
    }
   ],
   "source": [
    "print('Mean of Residuals:',[np.mean(train_diff), np.mean(test_diff)])\n",
    "print('Var of Residuals:',[np.var(train_diff), np.var(test_diff)])"
   ]
  },
  {
   "cell_type": "code",
   "execution_count": 63,
   "id": "afb76dc2",
   "metadata": {
    "execution": {
     "iopub.execute_input": "2022-02-06T11:55:24.100720Z",
     "iopub.status.busy": "2022-02-06T11:55:24.098225Z",
     "iopub.status.idle": "2022-02-06T11:55:24.121627Z",
     "shell.execute_reply": "2022-02-06T11:55:24.122248Z"
    },
    "papermill": {
     "duration": 0.168248,
     "end_time": "2022-02-06T11:55:24.122430",
     "exception": false,
     "start_time": "2022-02-06T11:55:23.954182",
     "status": "completed"
    },
    "tags": []
   },
   "outputs": [
    {
     "data": {
      "text/plain": [
       "0.8816000125654868"
      ]
     },
     "metadata": {},
     "output_type": "display_data"
    },
    {
     "data": {
      "text/plain": [
       "0.8567529405399644"
      ]
     },
     "metadata": {},
     "output_type": "display_data"
    }
   ],
   "source": [
    "# R2 measure\n",
    "from sklearn.metrics import r2_score\n",
    "display(r2_score(y_train,regressor.predict(X_train)),r2_score(y_test,regressor.predict(X_test)))"
   ]
  },
  {
   "cell_type": "markdown",
   "id": "d29dfe7a",
   "metadata": {
    "papermill": {
     "duration": 0.136447,
     "end_time": "2022-02-06T11:55:24.426989",
     "exception": false,
     "start_time": "2022-02-06T11:55:24.290542",
     "status": "completed"
    },
    "tags": []
   },
   "source": [
    "- The model seems to over-fit. It perform really well on Train set, but not the case for Test set. "
   ]
  },
  {
   "cell_type": "markdown",
   "id": "7da88e38",
   "metadata": {
    "papermill": {
     "duration": 0.138953,
     "end_time": "2022-02-06T11:55:24.704444",
     "exception": false,
     "start_time": "2022-02-06T11:55:24.565491",
     "status": "completed"
    },
    "tags": []
   },
   "source": [
    "**Model Visualization** 🧮"
   ]
  },
  {
   "cell_type": "code",
   "execution_count": 64,
   "id": "78bd7880",
   "metadata": {
    "execution": {
     "iopub.execute_input": "2022-02-06T11:55:24.989973Z",
     "iopub.status.busy": "2022-02-06T11:55:24.989109Z",
     "iopub.status.idle": "2022-02-06T11:55:25.439280Z",
     "shell.execute_reply": "2022-02-06T11:55:25.439969Z"
    },
    "papermill": {
     "duration": 0.597607,
     "end_time": "2022-02-06T11:55:25.440173",
     "exception": false,
     "start_time": "2022-02-06T11:55:24.842566",
     "status": "completed"
    },
    "tags": []
   },
   "outputs": [
    {
     "data": {
      "image/png": "[encoded data removed]",
      "text/plain": [
       "<Figure size 936x360 with 2 Axes>"
      ]
     },
     "metadata": {
      "needs_background": "light"
     },
     "output_type": "display_data"
    }
   ],
   "source": [
    "min_X, max_X= np.min(X_train),np.max(X_train)\n",
    "X_grid= np.linspace(min_X, max_X, 1000).reshape(-1,1)\n",
    "fig,ax= plt.subplots(ncols=2, figsize=(13,5))\n",
    "# Train set\n",
    "ax[0].scatter(X_train, y_train, color = 'darkblue', marker='*', s=70)\n",
    "ax[0].plot(X_grid, regressor.predict(X_grid), color = 'black')\n",
    "ax[0].set_title('Random Forest Regression Model (Train set)', color='darkblue', fontsize=15)\n",
    "# Test set\n",
    "ax[1].scatter(X_test,y_test, color = 'darkred', marker='^', s=70)\n",
    "ax[1].plot(X_grid, regressor.predict(X_grid), color = 'black')\n",
    "ax[1].set_title('Random Forest Regression Model (Test set)', color='darkred', fontsize=15)\n",
    "fig.tight_layout()"
   ]
  }
 ],
 "metadata": {
  "kernelspec": {
   "display_name": "Python 3 (ipykernel)",
   "language": "python",
   "name": "python3"
  },
  "language_info": {
   "codemirror_mode": {
    "name": "ipython",
    "version": 3
   },
   "file_extension": ".py",
   "mimetype": "text/x-python",
   "name": "python",
   "nbconvert_exporter": "python",
   "pygments_lexer": "ipython3",
   "version": "3.9.12"
  },
  "papermill": {
   "default_parameters": {},
   "duration": 66.306892,
   "end_time": "2022-02-06T11:55:26.507504",
   "environment_variables": {},
   "exception": null,
   "input_path": "__notebook__.ipynb",
   "output_path": "__notebook__.ipynb",
   "parameters": {},
   "start_time": "2022-02-06T11:54:20.200612",
   "version": "2.3.3"
  }
 },
 "nbformat": 4,
 "nbformat_minor": 5
}
