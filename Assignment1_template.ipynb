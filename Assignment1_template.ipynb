{
 "cells": [
  {
   "cell_type": "markdown",
   "metadata": {},
   "source": [
    "Student Name:   Linda Nguyen                                  
   ]
  },
  {
   "cell_type": "markdown",
   "metadata": {},
   "source": [
    "# DATA PREPARATION"
   ]
  },
  {
   "cell_type": "code",
   "execution_count": 1,
   "metadata": {},
   "outputs": [],
   "source": [
    "#load packages\n",
    "import pandas as pd\n",
    "import matplotlib.pyplot as plt\n",
    "import seaborn as sns"
   ]
  },
  {
   "cell_type": "code",
   "execution_count": 2,
   "metadata": {},
   "outputs": [],
   "source": [
    "#read raw datasets\n",
    "Manufacturer=pd.read_csv('Manufacturer.csv', sep=',',index_col=0)\n",
    "\n",
    "Model= pd.read_csv('Model.csv', sep=',', index_col=0)\n",
    "\n",
    "Price= pd.read_csv('Price.csv', sep=',', index_col=0)\n",
    "\n",
    "Transmission= pd.read_csv('Transmission.csv', sep=',', index_col=0,header=0,names=['Car Transmission'])\n",
    "\n",
    "Power= pd.read_csv('Power.csv', sep=',', index_col=0,header=0,names=['Power (BHP) of the car'])\n",
    "\n",
    "Engine= pd.read_csv ('Engine CC.csv', sep=',',index_col=0, header=0, names= ['Engine size in CC'] )\n",
    "\n",
    "Fuel= pd.read_csv('Fuel.csv', sep=',', index_col=0, header=0, names=['Type of fuel'])\n",
    "\n",
    "Male= pd.read_csv('Male.csv', sep=',', index_col=0,header=0,names=['Number of male owners'] )\n",
    "\n",
    "Female= pd.read_csv('Engine CC.csv', sep=',',index_col=0, header=0, names=['Number of female owners'])\n",
    "\n",
    "Unknown= pd.read_csv('Unknown.csv', sep=',', index_col=0,header=0, names=['Gender unclassified'])\n",
    "\n",
    "Total= pd.read_csv('Total.csv', sep=',', index_col=0, header=0, names=['Total number of owners'])\n"
   ]
  },
  {
   "cell_type": "markdown",
   "metadata": {},
   "source": []
  },
  {
   "cell_type": "code",
   "execution_count": 3,
   "metadata": {},
   "outputs": [
    {
     "data": {
      "text/html": [
       "<div>\n",
       "<style scoped>\n",
       "    .dataframe tbody tr th:only-of-type {\n",
       "        vertical-align: middle;\n",
       "    }\n",
       "\n",
       "    .dataframe tbody tr th {\n",
       "        vertical-align: top;\n",
       "    }\n",
       "\n",
       "    .dataframe thead th {\n",
       "        text-align: right;\n",
       "    }\n",
       "</style>\n",
       "<table border=\"1\" class=\"dataframe\">\n",
       "  <thead>\n",
       "    <tr style=\"text-align: right;\">\n",
       "      <th></th>\n",
       "      <th>Manufacturer</th>\n",
       "      <th>Model</th>\n",
       "      <th>Price</th>\n",
       "      <th>Car Transmission</th>\n",
       "      <th>Power (BHP) of the car</th>\n",
       "      <th>Engine size in CC</th>\n",
       "      <th>Type of fuel</th>\n",
       "      <th>Number of male owners</th>\n",
       "      <th>Number of female owners</th>\n",
       "      <th>Gender unclassified</th>\n",
       "      <th>Total number of owners</th>\n",
       "    </tr>\n",
       "  </thead>\n",
       "  <tbody>\n",
       "    <tr>\n",
       "      <th>0</th>\n",
       "      <td>Ford</td>\n",
       "      <td>Focus</td>\n",
       "      <td>30.619322</td>\n",
       "      <td>5.966102</td>\n",
       "      <td>-94.033898</td>\n",
       "      <td>1497.169492</td>\n",
       "      <td>petrol</td>\n",
       "      <td>814172</td>\n",
       "      <td>1497.169492</td>\n",
       "      <td>56,487</td>\n",
       "      <td>1293390</td>\n",
       "    </tr>\n",
       "    <tr>\n",
       "      <th>1</th>\n",
       "      <td>Ford</td>\n",
       "      <td>Fiesta</td>\n",
       "      <td>18.532143</td>\n",
       "      <td>5000.714286</td>\n",
       "      <td>68.571429</td>\n",
       "      <td>1166.142857</td>\n",
       "      <td>petrol</td>\n",
       "      <td>554879</td>\n",
       "      <td>1166.142857</td>\n",
       "      <td>54,057</td>\n",
       "      <td>1240602</td>\n",
       "    </tr>\n",
       "  </tbody>\n",
       "</table>\n",
       "</div>"
      ],
      "text/plain": [
       "  Manufacturer   Model      Price  Car Transmission  Power (BHP) of the car  \\\n",
       "0         Ford   Focus  30.619322          5.966102              -94.033898   \n",
       "1         Ford  Fiesta  18.532143       5000.714286               68.571429   \n",
       "\n",
       "   Engine size in CC Type of fuel Number of male owners  \\\n",
       "0        1497.169492       petrol                814172   \n",
       "1        1166.142857       petrol                554879   \n",
       "\n",
       "   Number of female owners Gender unclassified Total number of owners  \n",
       "0              1497.169492              56,487                1293390  \n",
       "1              1166.142857              54,057                1240602  "
      ]
     },
     "execution_count": 3,
     "metadata": {},
     "output_type": "execute_result"
    }
   ],
   "source": [
    "#concatenate the dataframe\n",
    "df = pd.concat([Manufacturer,Model, Price, Transmission, Power,Engine,Fuel,Male,Female,Unknown,Total], axis=1)\n",
    "df.head(2)"
   ]
  },
  {
   "cell_type": "markdown",
   "metadata": {},
   "source": [
    "The next step is to explore the dataframe. The following results describe df type is Dataframe. There are 11 attributes includes: Manufacturer', 'Model', 'Price', 'Car Transmission','Power (BHP) of the car', 'Engine size in CC', 'Type of fuel','Number of male owners', 'Number of female owners','Gender unclassified' and  'Total number of owners'\n",
    "Df dataframe contains 6102 rows and 11 columns. "
   ]
  },
  {
   "cell_type": "code",
   "execution_count": null,
   "metadata": {},
   "outputs": [],
   "source": []
  },
  {
   "cell_type": "code",
   "execution_count": 4,
   "metadata": {},
   "outputs": [
    {
     "name": "stdout",
     "output_type": "stream",
     "text": [
      "<class 'pandas.core.frame.DataFrame'>\n",
      "Int64Index: 6102 entries, 0 to 6101\n",
      "Data columns (total 11 columns):\n",
      " #   Column                   Non-Null Count  Dtype  \n",
      "---  ------                   --------------  -----  \n",
      " 0   Manufacturer             6101 non-null   object \n",
      " 1   Model                    6101 non-null   object \n",
      " 2   Price                    6097 non-null   float64\n",
      " 3   Car Transmission         6098 non-null   float64\n",
      " 4   Power (BHP) of the car   6097 non-null   float64\n",
      " 5   Engine size in CC        6098 non-null   float64\n",
      " 6   Type of fuel             6097 non-null   object \n",
      " 7   Number of male owners    6098 non-null   object \n",
      " 8   Number of female owners  6098 non-null   float64\n",
      " 9   Gender unclassified      6097 non-null   object \n",
      " 10  Total number of owners   6097 non-null   object \n",
      "dtypes: float64(5), object(6)\n",
      "memory usage: 572.1+ KB\n"
     ]
    }
   ],
   "source": [
    "#Check name of variables,count null values and datatype of each variable\n",
    "df.info()"
   ]
  },
  {
   "cell_type": "code",
   "execution_count": 5,
   "metadata": {},
   "outputs": [
    {
     "data": {
      "text/plain": [
       "Index(['Manufacturer', 'Model', 'Price', 'Car Transmission',\n",
       "       'Power (BHP) of the car', 'Engine size in CC', 'Type of fuel',\n",
       "       'Number of male owners', 'Number of female owners',\n",
       "       'Gender unclassified', 'Total number of owners'],\n",
       "      dtype='object')"
      ]
     },
     "execution_count": 5,
     "metadata": {},
     "output_type": "execute_result"
    }
   ],
   "source": [
    "#check variables names\n",
    "df.columns"
   ]
  },
  {
   "cell_type": "markdown",
   "metadata": {},
   "source": [
    "# Error 1: missing values"
   ]
  },
  {
   "cell_type": "code",
   "execution_count": 6,
   "metadata": {},
   "outputs": [
    {
     "data": {
      "text/plain": [
       "Manufacturer               1\n",
       "Model                      1\n",
       "Price                      5\n",
       "Car Transmission           4\n",
       "Power (BHP) of the car     5\n",
       "Engine size in CC          4\n",
       "Type of fuel               5\n",
       "Number of male owners      4\n",
       "Number of female owners    4\n",
       "Gender unclassified        5\n",
       "Total number of owners     5\n",
       "dtype: int64"
      ]
     },
     "execution_count": 6,
     "metadata": {},
     "output_type": "execute_result"
    }
   ],
   "source": [
    "#check total null values of each variable\n",
    "df.isnull().sum()"
   ]
  },
  {
   "cell_type": "markdown",
   "metadata": {},
   "source": [
    "The original dataframe has 6102 rows and 11 columns. The above results shows the total null values of each attributes.\n",
    "I decided to drop this missing values because there are only 5 rows among 6102 rows will be deleted. \n",
    "This will not much affect the results of models.  "
   ]
  },
  {
   "cell_type": "code",
   "execution_count": 44,
   "metadata": {},
   "outputs": [
    {
     "data": {
      "text/plain": [
       "(493, 11)"
      ]
     },
     "execution_count": 44,
     "metadata": {},
     "output_type": "execute_result"
    }
   ],
   "source": [
    "#drop null values\n",
    "df = df.dropna()\n",
    "df.shape"
   ]
  },
  {
   "cell_type": "markdown",
   "metadata": {},
   "source": [
    "# Error 2: datatype \n",
    "'Number of male owners', 'Gender unclassified', 'Total number of owners' and 'Number of female owners' discrete variables. \n",
    "These variables indicate number of people therefore they should be integers."
   ]
  },
  {
   "cell_type": "code",
   "execution_count": 8,
   "metadata": {},
   "outputs": [
    {
     "data": {
      "text/plain": [
       "Manufacturer                object\n",
       "Model                       object\n",
       "Price                      float64\n",
       "Car Transmission           float64\n",
       "Power (BHP) of the car     float64\n",
       "Engine size in CC          float64\n",
       "Type of fuel                object\n",
       "Number of male owners        int32\n",
       "Number of female owners      int32\n",
       "Gender unclassified          int32\n",
       "Total number of owners       int32\n",
       "dtype: object"
      ]
     },
     "execution_count": 8,
     "metadata": {},
     "output_type": "execute_result"
    }
   ],
   "source": [
    "df['Number of male owners']= df['Number of male owners'].astype(str).str.replace(',', '').astype(int)\n",
    "df['Number of female owners']= df['Number of male owners'].astype(int)\n",
    "df['Gender unclassified']=df['Gender unclassified'].astype(str).str.replace(',', '').astype(int)\n",
    "df['Total number of owners']=df['Total number of owners'].astype(str).str.replace(',', '').astype(int)\n",
    "df.dtypes"
   ]
  },
  {
   "cell_type": "markdown",
   "metadata": {},
   "source": [
    "# Error 3: invalid numerics values"
   ]
  },
  {
   "cell_type": "code",
   "execution_count": 9,
   "metadata": {},
   "outputs": [
    {
     "data": {
      "text/html": [
       "<div>\n",
       "<style scoped>\n",
       "    .dataframe tbody tr th:only-of-type {\n",
       "        vertical-align: middle;\n",
       "    }\n",
       "\n",
       "    .dataframe tbody tr th {\n",
       "        vertical-align: top;\n",
       "    }\n",
       "\n",
       "    .dataframe thead th {\n",
       "        text-align: right;\n",
       "    }\n",
       "</style>\n",
       "<table border=\"1\" class=\"dataframe\">\n",
       "  <thead>\n",
       "    <tr style=\"text-align: right;\">\n",
       "      <th></th>\n",
       "      <th>Price</th>\n",
       "      <th>Car Transmission</th>\n",
       "      <th>Power (BHP) of the car</th>\n",
       "      <th>Engine size in CC</th>\n",
       "      <th>Number of male owners</th>\n",
       "      <th>Number of female owners</th>\n",
       "      <th>Gender unclassified</th>\n",
       "      <th>Total number of owners</th>\n",
       "    </tr>\n",
       "  </thead>\n",
       "  <tbody>\n",
       "    <tr>\n",
       "      <th>count</th>\n",
       "      <td>6097.0</td>\n",
       "      <td>6097.0</td>\n",
       "      <td>6097.0</td>\n",
       "      <td>6097.0</td>\n",
       "      <td>6097.0</td>\n",
       "      <td>6097.0</td>\n",
       "      <td>6097.0</td>\n",
       "      <td>6097.0</td>\n",
       "    </tr>\n",
       "    <tr>\n",
       "      <th>mean</th>\n",
       "      <td>88.8</td>\n",
       "      <td>19.1</td>\n",
       "      <td>1101.8</td>\n",
       "      <td>1981.7</td>\n",
       "      <td>32953.0</td>\n",
       "      <td>32953.0</td>\n",
       "      <td>2461.0</td>\n",
       "      <td>55485.5</td>\n",
       "    </tr>\n",
       "    <tr>\n",
       "      <th>std</th>\n",
       "      <td>3714.5</td>\n",
       "      <td>1026.5</td>\n",
       "      <td>69106.7</td>\n",
       "      <td>817.3</td>\n",
       "      <td>81235.7</td>\n",
       "      <td>81235.7</td>\n",
       "      <td>5795.6</td>\n",
       "      <td>141243.9</td>\n",
       "    </tr>\n",
       "    <tr>\n",
       "      <th>min</th>\n",
       "      <td>-22.0</td>\n",
       "      <td>-6.0</td>\n",
       "      <td>-94.0</td>\n",
       "      <td>0.0</td>\n",
       "      <td>291.0</td>\n",
       "      <td>291.0</td>\n",
       "      <td>13.0</td>\n",
       "      <td>1001.0</td>\n",
       "    </tr>\n",
       "    <tr>\n",
       "      <th>25%</th>\n",
       "      <td>18.5</td>\n",
       "      <td>4.6</td>\n",
       "      <td>70.2</td>\n",
       "      <td>1497.0</td>\n",
       "      <td>2784.0</td>\n",
       "      <td>2784.0</td>\n",
       "      <td>167.0</td>\n",
       "      <td>3942.0</td>\n",
       "    </tr>\n",
       "    <tr>\n",
       "      <th>50%</th>\n",
       "      <td>29.0</td>\n",
       "      <td>5.0</td>\n",
       "      <td>94.1</td>\n",
       "      <td>1832.9</td>\n",
       "      <td>8087.0</td>\n",
       "      <td>8087.0</td>\n",
       "      <td>550.0</td>\n",
       "      <td>12738.0</td>\n",
       "    </tr>\n",
       "    <tr>\n",
       "      <th>75%</th>\n",
       "      <td>43.9</td>\n",
       "      <td>6.0</td>\n",
       "      <td>121.9</td>\n",
       "      <td>2247.3</td>\n",
       "      <td>25366.0</td>\n",
       "      <td>25366.0</td>\n",
       "      <td>1945.0</td>\n",
       "      <td>40718.0</td>\n",
       "    </tr>\n",
       "    <tr>\n",
       "      <th>max</th>\n",
       "      <td>290050.3</td>\n",
       "      <td>80000.0</td>\n",
       "      <td>5370354.8</td>\n",
       "      <td>6208.0</td>\n",
       "      <td>1007113.0</td>\n",
       "      <td>1007113.0</td>\n",
       "      <td>56487.0</td>\n",
       "      <td>1561512.0</td>\n",
       "    </tr>\n",
       "  </tbody>\n",
       "</table>\n",
       "</div>"
      ],
      "text/plain": [
       "          Price  Car Transmission  Power (BHP) of the car  Engine size in CC  \\\n",
       "count    6097.0            6097.0                  6097.0             6097.0   \n",
       "mean       88.8              19.1                  1101.8             1981.7   \n",
       "std      3714.5            1026.5                 69106.7              817.3   \n",
       "min       -22.0              -6.0                   -94.0                0.0   \n",
       "25%        18.5               4.6                    70.2             1497.0   \n",
       "50%        29.0               5.0                    94.1             1832.9   \n",
       "75%        43.9               6.0                   121.9             2247.3   \n",
       "max    290050.3           80000.0               5370354.8             6208.0   \n",
       "\n",
       "       Number of male owners  Number of female owners  Gender unclassified  \\\n",
       "count                 6097.0                   6097.0               6097.0   \n",
       "mean                 32953.0                  32953.0               2461.0   \n",
       "std                  81235.7                  81235.7               5795.6   \n",
       "min                    291.0                    291.0                 13.0   \n",
       "25%                   2784.0                   2784.0                167.0   \n",
       "50%                   8087.0                   8087.0                550.0   \n",
       "75%                  25366.0                  25366.0               1945.0   \n",
       "max                1007113.0                1007113.0              56487.0   \n",
       "\n",
       "       Total number of owners  \n",
       "count                  6097.0  \n",
       "mean                  55485.5  \n",
       "std                  141243.9  \n",
       "min                    1001.0  \n",
       "25%                    3942.0  \n",
       "50%                   12738.0  \n",
       "75%                   40718.0  \n",
       "max                 1561512.0  "
      ]
     },
     "execution_count": 9,
     "metadata": {},
     "output_type": "execute_result"
    }
   ],
   "source": [
    "#descriptive statistical summary and round values to 1 decimal\n",
    "df.describe().round(1)"
   ]
  },
  {
   "cell_type": "markdown",
   "metadata": {},
   "source": [
    "# Error 3.1 (answer task 2.2): invalid values of 'Price'. \n",
    "The price of a car should be more than 0.0 and should not be larger than 650.0.\n",
    "Let's spot which car’s information the error lies on: "
   ]
  },
  {
   "cell_type": "code",
   "execution_count": 10,
   "metadata": {},
   "outputs": [
    {
     "data": {
      "text/html": [
       "<div>\n",
       "<style scoped>\n",
       "    .dataframe tbody tr th:only-of-type {\n",
       "        vertical-align: middle;\n",
       "    }\n",
       "\n",
       "    .dataframe tbody tr th {\n",
       "        vertical-align: top;\n",
       "    }\n",
       "\n",
       "    .dataframe thead th {\n",
       "        text-align: right;\n",
       "    }\n",
       "</style>\n",
       "<table border=\"1\" class=\"dataframe\">\n",
       "  <thead>\n",
       "    <tr style=\"text-align: right;\">\n",
       "      <th></th>\n",
       "      <th>Manufacturer</th>\n",
       "      <th>Model</th>\n",
       "      <th>Price</th>\n",
       "      <th>Car Transmission</th>\n",
       "      <th>Power (BHP) of the car</th>\n",
       "      <th>Engine size in CC</th>\n",
       "      <th>Type of fuel</th>\n",
       "      <th>Number of male owners</th>\n",
       "      <th>Number of female owners</th>\n",
       "      <th>Gender unclassified</th>\n",
       "      <th>Total number of owners</th>\n",
       "    </tr>\n",
       "  </thead>\n",
       "  <tbody>\n",
       "    <tr>\n",
       "      <th>659</th>\n",
       "      <td>Rover</td>\n",
       "      <td>CityRover</td>\n",
       "      <td>-11.740</td>\n",
       "      <td>5.0</td>\n",
       "      <td>63.0</td>\n",
       "      <td>1405.0</td>\n",
       "      <td>petrol</td>\n",
       "      <td>2725</td>\n",
       "      <td>2725</td>\n",
       "      <td>443</td>\n",
       "      <td>6316</td>\n",
       "    </tr>\n",
       "    <tr>\n",
       "      <th>670</th>\n",
       "      <td>Toyota</td>\n",
       "      <td>Verso-S</td>\n",
       "      <td>-22.047</td>\n",
       "      <td>3.6</td>\n",
       "      <td>73.0</td>\n",
       "      <td>1329.0</td>\n",
       "      <td>petrol</td>\n",
       "      <td>3117</td>\n",
       "      <td>3117</td>\n",
       "      <td>357</td>\n",
       "      <td>5450</td>\n",
       "    </tr>\n",
       "  </tbody>\n",
       "</table>\n",
       "</div>"
      ],
      "text/plain": [
       "    Manufacturer      Model   Price  Car Transmission  Power (BHP) of the car  \\\n",
       "659        Rover  CityRover -11.740               5.0                    63.0   \n",
       "670       Toyota    Verso-S -22.047               3.6                    73.0   \n",
       "\n",
       "     Engine size in CC Type of fuel  Number of male owners  \\\n",
       "659             1405.0       petrol                   2725   \n",
       "670             1329.0       petrol                   3117   \n",
       "\n",
       "     Number of female owners  Gender unclassified  Total number of owners  \n",
       "659                     2725                  443                    6316  \n",
       "670                     3117                  357                    5450  "
      ]
     },
     "execution_count": 10,
     "metadata": {},
     "output_type": "execute_result"
    }
   ],
   "source": [
    "#spot negative values \n",
    "df2= df[(df['Price']<=0.0)]\n",
    "df2"
   ]
  },
  {
   "cell_type": "code",
   "execution_count": 11,
   "metadata": {},
   "outputs": [
    {
     "data": {
      "text/html": [
       "<div>\n",
       "<style scoped>\n",
       "    .dataframe tbody tr th:only-of-type {\n",
       "        vertical-align: middle;\n",
       "    }\n",
       "\n",
       "    .dataframe tbody tr th {\n",
       "        vertical-align: top;\n",
       "    }\n",
       "\n",
       "    .dataframe thead th {\n",
       "        text-align: right;\n",
       "    }\n",
       "</style>\n",
       "<table border=\"1\" class=\"dataframe\">\n",
       "  <thead>\n",
       "    <tr style=\"text-align: right;\">\n",
       "      <th></th>\n",
       "      <th>Manufacturer</th>\n",
       "      <th>Model</th>\n",
       "      <th>Price</th>\n",
       "      <th>Car Transmission</th>\n",
       "      <th>Power (BHP) of the car</th>\n",
       "      <th>Engine size in CC</th>\n",
       "      <th>Type of fuel</th>\n",
       "      <th>Number of male owners</th>\n",
       "      <th>Number of female owners</th>\n",
       "      <th>Gender unclassified</th>\n",
       "      <th>Total number of owners</th>\n",
       "    </tr>\n",
       "  </thead>\n",
       "  <tbody>\n",
       "    <tr>\n",
       "      <th>41</th>\n",
       "      <td>Citroen</td>\n",
       "      <td>C5</td>\n",
       "      <td>290050.26025</td>\n",
       "      <td>5.95</td>\n",
       "      <td>0.12</td>\n",
       "      <td>1462.3625</td>\n",
       "      <td>petrol</td>\n",
       "      <td>79604</td>\n",
       "      <td>79604</td>\n",
       "      <td>5547</td>\n",
       "      <td>127281</td>\n",
       "    </tr>\n",
       "  </tbody>\n",
       "</table>\n",
       "</div>"
      ],
      "text/plain": [
       "   Manufacturer Model         Price  Car Transmission  Power (BHP) of the car  \\\n",
       "41      Citroen    C5  290050.26025              5.95                    0.12   \n",
       "\n",
       "    Engine size in CC Type of fuel  Number of male owners  \\\n",
       "41          1462.3625       petrol                  79604   \n",
       "\n",
       "    Number of female owners  Gender unclassified  Total number of owners  \n",
       "41                    79604                 5547                  127281  "
      ]
     },
     "execution_count": 11,
     "metadata": {},
     "output_type": "execute_result"
    }
   ],
   "source": [
    "#spot values above 650.0\n",
    "df3= df[(df['Price']>650.0)]\n",
    "df3"
   ]
  },
  {
   "cell_type": "code",
   "execution_count": 12,
   "metadata": {},
   "outputs": [
    {
     "data": {
      "image/png": "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\n",
      "text/plain": [
       "<Figure size 432x288 with 1 Axes>"
      ]
     },
     "metadata": {
      "needs_background": "light"
     },
     "output_type": "display_data"
    }
   ],
   "source": [
    "#Before cleaning invalid values\n",
    "df['Price'].plot(kind='box')\n",
    "plt.title('Before eliminate errors')\n",
    "plt.show()"
   ]
  },
  {
   "cell_type": "code",
   "execution_count": 13,
   "metadata": {},
   "outputs": [
    {
     "data": {
      "text/plain": [
       "count    6094.0\n",
       "mean       41.2\n",
       "std        51.4\n",
       "min         1.6\n",
       "25%        18.5\n",
       "50%        29.0\n",
       "75%        43.9\n",
       "max       646.6\n",
       "Name: Price, dtype: float64"
      ]
     },
     "execution_count": 13,
     "metadata": {},
     "output_type": "execute_result"
    }
   ],
   "source": [
    "#Clean invalid values \n",
    "df= df[(df['Price']>0.0)]\n",
    "df= df[(df['Price']<650.0)]\n",
    "df['Price'].describe().round(1)"
   ]
  },
  {
   "cell_type": "code",
   "execution_count": 14,
   "metadata": {},
   "outputs": [
    {
     "data": {
      "image/png": "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\n",
      "text/plain": [
       "<Figure size 432x288 with 1 Axes>"
      ]
     },
     "metadata": {
      "needs_background": "light"
     },
     "output_type": "display_data"
    }
   ],
   "source": [
    "#After cleaning invalid values\n",
    "df['Price'].plot(kind='box')\n",
    "plt.title('After eliminate errors')\n",
    "plt.show()"
   ]
  },
  {
   "cell_type": "markdown",
   "metadata": {},
   "source": [
    "This output shows that values of Price is between 3.3 and 646.6 inclusive. We eliminated the nagative values and values above or equal to 650.0"
   ]
  },
  {
   "cell_type": "markdown",
   "metadata": {},
   "source": [
    "# Error 3.2: invalid values of 'Car Transmission'. \n",
    "The transmission of a car should be more than 0.0 and should not be larger than 10."
   ]
  },
  {
   "cell_type": "code",
   "execution_count": 15,
   "metadata": {},
   "outputs": [
    {
     "data": {
      "text/plain": [
       "count    5962.0\n",
       "mean        5.2\n",
       "std         1.1\n",
       "min         0.9\n",
       "25%         4.6\n",
       "50%         5.0\n",
       "75%         6.0\n",
       "max         8.3\n",
       "Name: Car Transmission, dtype: float64"
      ]
     },
     "execution_count": 15,
     "metadata": {},
     "output_type": "execute_result"
    }
   ],
   "source": [
    "#clean invalid values\n",
    "df= df[(df['Car Transmission']>0.0)]\n",
    "df= df[(df['Car Transmission']<10.0)]\n",
    "df['Car Transmission'].describe().round(1)"
   ]
  },
  {
   "cell_type": "markdown",
   "metadata": {},
   "source": [
    "This output shows that values of Price is between 0.9 to 8.3 inclusive. We eliminated the nagative values and values above or equal to 10.0"
   ]
  },
  {
   "cell_type": "markdown",
   "metadata": {},
   "source": [
    "# Error 3.3 (answer task 2.2): invalid values of 'Power (BHP) of the car'.\n",
    "The power of a car should be more than 0.0 and should not be larger than 500."
   ]
  },
  {
   "cell_type": "code",
   "execution_count": 16,
   "metadata": {},
   "outputs": [
    {
     "data": {
      "text/html": [
       "<div>\n",
       "<style scoped>\n",
       "    .dataframe tbody tr th:only-of-type {\n",
       "        vertical-align: middle;\n",
       "    }\n",
       "\n",
       "    .dataframe tbody tr th {\n",
       "        vertical-align: top;\n",
       "    }\n",
       "\n",
       "    .dataframe thead th {\n",
       "        text-align: right;\n",
       "    }\n",
       "</style>\n",
       "<table border=\"1\" class=\"dataframe\">\n",
       "  <thead>\n",
       "    <tr style=\"text-align: right;\">\n",
       "      <th></th>\n",
       "      <th>Manufacturer</th>\n",
       "      <th>Model</th>\n",
       "      <th>Price</th>\n",
       "      <th>Car Transmission</th>\n",
       "      <th>Power (BHP) of the car</th>\n",
       "      <th>Engine size in CC</th>\n",
       "      <th>Type of fuel</th>\n",
       "      <th>Number of male owners</th>\n",
       "      <th>Number of female owners</th>\n",
       "      <th>Gender unclassified</th>\n",
       "      <th>Total number of owners</th>\n",
       "    </tr>\n",
       "  </thead>\n",
       "  <tbody>\n",
       "    <tr>\n",
       "      <th>0</th>\n",
       "      <td>Ford</td>\n",
       "      <td>Focus</td>\n",
       "      <td>30.619322</td>\n",
       "      <td>5.966102</td>\n",
       "      <td>-94.033898</td>\n",
       "      <td>1497.169492</td>\n",
       "      <td>petrol</td>\n",
       "      <td>814172</td>\n",
       "      <td>814172</td>\n",
       "      <td>56487</td>\n",
       "      <td>1293390</td>\n",
       "    </tr>\n",
       "    <tr>\n",
       "      <th>2</th>\n",
       "      <td>Volkswagen</td>\n",
       "      <td>Golf</td>\n",
       "      <td>31.242154</td>\n",
       "      <td>6.164835</td>\n",
       "      <td>-89.461538</td>\n",
       "      <td>1537.406593</td>\n",
       "      <td>petrol</td>\n",
       "      <td>483216</td>\n",
       "      <td>483216</td>\n",
       "      <td>47563</td>\n",
       "      <td>841383</td>\n",
       "    </tr>\n",
       "  </tbody>\n",
       "</table>\n",
       "</div>"
      ],
      "text/plain": [
       "  Manufacturer  Model      Price  Car Transmission  Power (BHP) of the car  \\\n",
       "0         Ford  Focus  30.619322          5.966102              -94.033898   \n",
       "2   Volkswagen   Golf  31.242154          6.164835              -89.461538   \n",
       "\n",
       "   Engine size in CC Type of fuel  Number of male owners  \\\n",
       "0        1497.169492       petrol                 814172   \n",
       "2        1537.406593       petrol                 483216   \n",
       "\n",
       "   Number of female owners  Gender unclassified  Total number of owners  \n",
       "0                   814172                56487                 1293390  \n",
       "2                   483216                47563                  841383  "
      ]
     },
     "execution_count": 16,
     "metadata": {},
     "output_type": "execute_result"
    }
   ],
   "source": [
    "#spot negative values\n",
    "df2=df[(df['Power (BHP) of the car']<=0.0)]\n",
    "df2"
   ]
  },
  {
   "cell_type": "code",
   "execution_count": 17,
   "metadata": {},
   "outputs": [
    {
     "data": {
      "text/html": [
       "<div>\n",
       "<style scoped>\n",
       "    .dataframe tbody tr th:only-of-type {\n",
       "        vertical-align: middle;\n",
       "    }\n",
       "\n",
       "    .dataframe tbody tr th {\n",
       "        vertical-align: top;\n",
       "    }\n",
       "\n",
       "    .dataframe thead th {\n",
       "        text-align: right;\n",
       "    }\n",
       "</style>\n",
       "<table border=\"1\" class=\"dataframe\">\n",
       "  <thead>\n",
       "    <tr style=\"text-align: right;\">\n",
       "      <th></th>\n",
       "      <th>Manufacturer</th>\n",
       "      <th>Model</th>\n",
       "      <th>Price</th>\n",
       "      <th>Car Transmission</th>\n",
       "      <th>Power (BHP) of the car</th>\n",
       "      <th>Engine size in CC</th>\n",
       "      <th>Type of fuel</th>\n",
       "      <th>Number of male owners</th>\n",
       "      <th>Number of female owners</th>\n",
       "      <th>Gender unclassified</th>\n",
       "      <th>Total number of owners</th>\n",
       "    </tr>\n",
       "  </thead>\n",
       "  <tbody>\n",
       "    <tr>\n",
       "      <th>42</th>\n",
       "      <td>Citroen</td>\n",
       "      <td>C6</td>\n",
       "      <td>2.260250</td>\n",
       "      <td>7.950000</td>\n",
       "      <td>7.060012e+04</td>\n",
       "      <td>1462.362500</td>\n",
       "      <td>petrol</td>\n",
       "      <td>79604</td>\n",
       "      <td>79604</td>\n",
       "      <td>5547</td>\n",
       "      <td>127281</td>\n",
       "    </tr>\n",
       "    <tr>\n",
       "      <th>43</th>\n",
       "      <td>Mini</td>\n",
       "      <td>Two</td>\n",
       "      <td>3.560250</td>\n",
       "      <td>5.950000</td>\n",
       "      <td>8.012012e+04</td>\n",
       "      <td>1462.362500</td>\n",
       "      <td>petrol</td>\n",
       "      <td>79604</td>\n",
       "      <td>79604</td>\n",
       "      <td>5547</td>\n",
       "      <td>127281</td>\n",
       "    </tr>\n",
       "    <tr>\n",
       "      <th>46</th>\n",
       "      <td>Toyota</td>\n",
       "      <td>RAV5</td>\n",
       "      <td>4.354852</td>\n",
       "      <td>1.354839</td>\n",
       "      <td>5.370355e+06</td>\n",
       "      <td>2261.193548</td>\n",
       "      <td>petrol</td>\n",
       "      <td>59395</td>\n",
       "      <td>59395</td>\n",
       "      <td>8166</td>\n",
       "      <td>121566</td>\n",
       "    </tr>\n",
       "    <tr>\n",
       "      <th>51</th>\n",
       "      <td>Hyundai</td>\n",
       "      <td>I11</td>\n",
       "      <td>1.601100</td>\n",
       "      <td>5.000000</td>\n",
       "      <td>5.177778e+05</td>\n",
       "      <td>998.000000</td>\n",
       "      <td>petrol</td>\n",
       "      <td>39242</td>\n",
       "      <td>39242</td>\n",
       "      <td>4208</td>\n",
       "      <td>106796</td>\n",
       "    </tr>\n",
       "  </tbody>\n",
       "</table>\n",
       "</div>"
      ],
      "text/plain": [
       "   Manufacturer Model     Price  Car Transmission  Power (BHP) of the car  \\\n",
       "42      Citroen    C6  2.260250          7.950000            7.060012e+04   \n",
       "43         Mini   Two  3.560250          5.950000            8.012012e+04   \n",
       "46       Toyota  RAV5  4.354852          1.354839            5.370355e+06   \n",
       "51      Hyundai   I11  1.601100          5.000000            5.177778e+05   \n",
       "\n",
       "    Engine size in CC Type of fuel  Number of male owners  \\\n",
       "42        1462.362500       petrol                  79604   \n",
       "43        1462.362500       petrol                  79604   \n",
       "46        2261.193548       petrol                  59395   \n",
       "51         998.000000       petrol                  39242   \n",
       "\n",
       "    Number of female owners  Gender unclassified  Total number of owners  \n",
       "42                    79604                 5547                  127281  \n",
       "43                    79604                 5547                  127281  \n",
       "46                    59395                 8166                  121566  \n",
       "51                    39242                 4208                  106796  "
      ]
     },
     "execution_count": 17,
     "metadata": {},
     "output_type": "execute_result"
    }
   ],
   "source": [
    "#spot values above 500.0\n",
    "df3= df[(df['Power (BHP) of the car']>500.0)]\n",
    "df3"
   ]
  },
  {
   "cell_type": "code",
   "execution_count": 18,
   "metadata": {},
   "outputs": [
    {
     "data": {
      "image/png": "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\n",
      "text/plain": [
       "<Figure size 432x288 with 1 Axes>"
      ]
     },
     "metadata": {
      "needs_background": "light"
     },
     "output_type": "display_data"
    }
   ],
   "source": [
    "#before cleaning invalid values \n",
    "df['Power (BHP) of the car'].plot(kind='box')\n",
    "plt.title('Before eliminate errors')\n",
    "plt.show()"
   ]
  },
  {
   "cell_type": "code",
   "execution_count": 19,
   "metadata": {},
   "outputs": [
    {
     "data": {
      "text/plain": [
       "count    5956.0\n",
       "mean      110.8\n",
       "std        67.0\n",
       "min        15.6\n",
       "25%        70.0\n",
       "50%        94.0\n",
       "75%       121.1\n",
       "max       450.0\n",
       "Name: Power (BHP) of the car, dtype: float64"
      ]
     },
     "execution_count": 19,
     "metadata": {},
     "output_type": "execute_result"
    }
   ],
   "source": [
    "#clean invalid data\n",
    "df= df[(df['Power (BHP) of the car']>0.0)]\n",
    "df= df[(df['Power (BHP) of the car']<500.0)]\n",
    "df['Power (BHP) of the car'].describe().round(1)"
   ]
  },
  {
   "cell_type": "code",
   "execution_count": 20,
   "metadata": {},
   "outputs": [
    {
     "data": {
      "image/png": "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\n",
      "text/plain": [
       "<Figure size 432x288 with 1 Axes>"
      ]
     },
     "metadata": {
      "needs_background": "light"
     },
     "output_type": "display_data"
    }
   ],
   "source": [
    "#after clean invalid values \n",
    "df['Power (BHP) of the car'].plot(kind='box')\n",
    "plt.title('After eliminate errors')\n",
    "plt.show()"
   ]
  },
  {
   "cell_type": "markdown",
   "metadata": {},
   "source": [
    "This output shows that values of Price is between 15.6 to 450.0 inclusive. We eliminated the nagative values and values above or equal to 500.0"
   ]
  },
  {
   "cell_type": "markdown",
   "metadata": {},
   "source": [
    "# Error 3.4: invalid values of 'Engine size in CC'.\n",
    "The engine CC of a car should be more than 0.0 and should not be larger than 6,500."
   ]
  },
  {
   "cell_type": "code",
   "execution_count": 21,
   "metadata": {},
   "outputs": [
    {
     "data": {
      "text/plain": [
       "count    5956.0\n",
       "mean     1993.2\n",
       "std       806.5\n",
       "min       469.6\n",
       "25%      1498.0\n",
       "50%      1833.0\n",
       "75%      2247.3\n",
       "max      6208.0\n",
       "Name: Engine size in CC, dtype: float64"
      ]
     },
     "execution_count": 21,
     "metadata": {},
     "output_type": "execute_result"
    }
   ],
   "source": [
    "#clean invlid values\n",
    "df= df[(df['Engine size in CC']>0.0)]\n",
    "df= df[(df['Engine size in CC']<6500.0)]\n",
    "df['Engine size in CC'].describe().round(1)"
   ]
  },
  {
   "cell_type": "markdown",
   "metadata": {},
   "source": [
    "This output shows that values of Price is between 469.6 to 6208.0 inclusive. We eliminated the value 0.0 and values above or equal to 6500.0"
   ]
  },
  {
   "cell_type": "markdown",
   "metadata": {},
   "source": [
    "# Error 4:mispelled values of  'Type of fuel'. \n",
    "The type of fuel that a car uses could be petrol, diesel, or automatic.\n",
    "First, let's find out all existing values of 'Type of value', then replacing the mispelled values by the correct values"
   ]
  },
  {
   "cell_type": "code",
   "execution_count": 22,
   "metadata": {},
   "outputs": [
    {
     "data": {
      "text/plain": [
       "petrol       5162\n",
       "diesel        776\n",
       "automatic       9\n",
       "peatrol         5\n",
       "diasel          4\n",
       "Name: Type of fuel, dtype: int64"
      ]
     },
     "execution_count": 22,
     "metadata": {},
     "output_type": "execute_result"
    }
   ],
   "source": [
    "#identify existing values \n",
    "df['Type of fuel'].value_counts()"
   ]
  },
  {
   "cell_type": "code",
   "execution_count": 23,
   "metadata": {},
   "outputs": [
    {
     "data": {
      "text/plain": [
       "petrol       5167\n",
       "diesel        780\n",
       "automatic       9\n",
       "Name: Type of fuel, dtype: int64"
      ]
     },
     "execution_count": 23,
     "metadata": {},
     "output_type": "execute_result"
    }
   ],
   "source": [
    "#replace values\n",
    "df['Type of fuel'].replace ('peatrol','petrol', inplace=True)\n",
    "df['Type of fuel'].replace ('diasel','diesel', inplace=True)\n",
    "df['Type of fuel'].replace ('autometic','automatic', inplace=True)\n",
    "df['Type of fuel'].value_counts()"
   ]
  },
  {
   "cell_type": "markdown",
   "metadata": {},
   "source": [
    "This ouput shows that we eliminate all the mispelled values. "
   ]
  },
  {
   "cell_type": "markdown",
   "metadata": {},
   "source": [
    "# Error 5:duplicate records\n",
    "There are many duplicate records of 'Manufacturer', 'Model', 'Price', 'Car Transmission’, ‘Power (BHP) of the car', 'Engine size in CC', 'Type of fuel'. df contains different number of owners for each of these identical records. To fix this, we firstly check how many duplicate rows (if any). Note that we borrow 'Total number of owners' as a total count for duplicate rows when using function groupby. Secondly, we will sum up number of car owners for each duplicate records."
   ]
  },
  {
   "cell_type": "code",
   "execution_count": 24,
   "metadata": {},
   "outputs": [
    {
     "data": {
      "text/html": [
       "<div>\n",
       "<style scoped>\n",
       "    .dataframe tbody tr th:only-of-type {\n",
       "        vertical-align: middle;\n",
       "    }\n",
       "\n",
       "    .dataframe tbody tr th {\n",
       "        vertical-align: top;\n",
       "    }\n",
       "\n",
       "    .dataframe thead th {\n",
       "        text-align: right;\n",
       "    }\n",
       "</style>\n",
       "<table border=\"1\" class=\"dataframe\">\n",
       "  <thead>\n",
       "    <tr style=\"text-align: right;\">\n",
       "      <th></th>\n",
       "      <th>Manufacturer</th>\n",
       "      <th>Model</th>\n",
       "      <th>Price</th>\n",
       "      <th>Car Transmission</th>\n",
       "      <th>Power (BHP) of the car</th>\n",
       "      <th>Engine size in CC</th>\n",
       "      <th>Type of fuel</th>\n",
       "      <th>Total number of owners</th>\n",
       "    </tr>\n",
       "  </thead>\n",
       "  <tbody>\n",
       "    <tr>\n",
       "      <th>0</th>\n",
       "      <td>Daihatsu</td>\n",
       "      <td>Terios</td>\n",
       "      <td>26.197750</td>\n",
       "      <td>4.625000</td>\n",
       "      <td>77.000000</td>\n",
       "      <td>1495.000000</td>\n",
       "      <td>petrol</td>\n",
       "      <td>1</td>\n",
       "    </tr>\n",
       "    <tr>\n",
       "      <th>1</th>\n",
       "      <td>MG</td>\n",
       "      <td>ZT</td>\n",
       "      <td>42.746667</td>\n",
       "      <td>5.000000</td>\n",
       "      <td>128.500000</td>\n",
       "      <td>2548.833333</td>\n",
       "      <td>petrol</td>\n",
       "      <td>1</td>\n",
       "    </tr>\n",
       "    <tr>\n",
       "      <th>2</th>\n",
       "      <td>Nissan</td>\n",
       "      <td>Pathfinder</td>\n",
       "      <td>60.955200</td>\n",
       "      <td>5.500000</td>\n",
       "      <td>146.000000</td>\n",
       "      <td>2588.600000</td>\n",
       "      <td>diesel</td>\n",
       "      <td>1</td>\n",
       "    </tr>\n",
       "    <tr>\n",
       "      <th>3</th>\n",
       "      <td>Abarth</td>\n",
       "      <td>500C</td>\n",
       "      <td>21.105625</td>\n",
       "      <td>5.000000</td>\n",
       "      <td>60.625000</td>\n",
       "      <td>1039.500000</td>\n",
       "      <td>petrol</td>\n",
       "      <td>4</td>\n",
       "    </tr>\n",
       "    <tr>\n",
       "      <th>4</th>\n",
       "      <td>Alfa-Romeo</td>\n",
       "      <td>145</td>\n",
       "      <td>17.427143</td>\n",
       "      <td>5.000000</td>\n",
       "      <td>87.714286</td>\n",
       "      <td>1696.428571</td>\n",
       "      <td>petrol</td>\n",
       "      <td>15</td>\n",
       "    </tr>\n",
       "    <tr>\n",
       "      <th>...</th>\n",
       "      <td>...</td>\n",
       "      <td>...</td>\n",
       "      <td>...</td>\n",
       "      <td>...</td>\n",
       "      <td>...</td>\n",
       "      <td>...</td>\n",
       "      <td>...</td>\n",
       "      <td>...</td>\n",
       "    </tr>\n",
       "    <tr>\n",
       "      <th>488</th>\n",
       "      <td>Volvo</td>\n",
       "      <td>V50</td>\n",
       "      <td>36.524191</td>\n",
       "      <td>5.176471</td>\n",
       "      <td>113.352941</td>\n",
       "      <td>2106.500000</td>\n",
       "      <td>petrol</td>\n",
       "      <td>10</td>\n",
       "    </tr>\n",
       "    <tr>\n",
       "      <th>489</th>\n",
       "      <td>Volvo</td>\n",
       "      <td>V60</td>\n",
       "      <td>50.484130</td>\n",
       "      <td>7.304348</td>\n",
       "      <td>150.608696</td>\n",
       "      <td>1969.000000</td>\n",
       "      <td>diesel</td>\n",
       "      <td>3</td>\n",
       "    </tr>\n",
       "    <tr>\n",
       "      <th>490</th>\n",
       "      <td>Volvo</td>\n",
       "      <td>V70</td>\n",
       "      <td>50.961091</td>\n",
       "      <td>6.181818</td>\n",
       "      <td>135.290909</td>\n",
       "      <td>1971.163636</td>\n",
       "      <td>diesel</td>\n",
       "      <td>17</td>\n",
       "    </tr>\n",
       "    <tr>\n",
       "      <th>491</th>\n",
       "      <td>Volvo</td>\n",
       "      <td>XC70</td>\n",
       "      <td>58.469074</td>\n",
       "      <td>6.444444</td>\n",
       "      <td>148.518518</td>\n",
       "      <td>2174.037037</td>\n",
       "      <td>diesel</td>\n",
       "      <td>11</td>\n",
       "    </tr>\n",
       "    <tr>\n",
       "      <th>492</th>\n",
       "      <td>Volvo</td>\n",
       "      <td>XC90</td>\n",
       "      <td>85.829462</td>\n",
       "      <td>8.000000</td>\n",
       "      <td>213.153846</td>\n",
       "      <td>1969.000000</td>\n",
       "      <td>petrol</td>\n",
       "      <td>11</td>\n",
       "    </tr>\n",
       "  </tbody>\n",
       "</table>\n",
       "<p>493 rows × 8 columns</p>\n",
       "</div>"
      ],
      "text/plain": [
       "    Manufacturer       Model      Price  Car Transmission  \\\n",
       "0      Daihatsu       Terios  26.197750          4.625000   \n",
       "1            MG           ZT  42.746667          5.000000   \n",
       "2         Nissan  Pathfinder  60.955200          5.500000   \n",
       "3         Abarth        500C  21.105625          5.000000   \n",
       "4     Alfa-Romeo         145  17.427143          5.000000   \n",
       "..           ...         ...        ...               ...   \n",
       "488        Volvo         V50  36.524191          5.176471   \n",
       "489        Volvo         V60  50.484130          7.304348   \n",
       "490        Volvo         V70  50.961091          6.181818   \n",
       "491        Volvo        XC70  58.469074          6.444444   \n",
       "492        Volvo        XC90  85.829462          8.000000   \n",
       "\n",
       "     Power (BHP) of the car  Engine size in CC Type of fuel  \\\n",
       "0                 77.000000        1495.000000       petrol   \n",
       "1                128.500000        2548.833333       petrol   \n",
       "2                146.000000        2588.600000       diesel   \n",
       "3                 60.625000        1039.500000       petrol   \n",
       "4                 87.714286        1696.428571       petrol   \n",
       "..                      ...                ...          ...   \n",
       "488              113.352941        2106.500000       petrol   \n",
       "489              150.608696        1969.000000       diesel   \n",
       "490              135.290909        1971.163636       diesel   \n",
       "491              148.518518        2174.037037       diesel   \n",
       "492              213.153846        1969.000000       petrol   \n",
       "\n",
       "     Total number of owners  \n",
       "0                         1  \n",
       "1                         1  \n",
       "2                         1  \n",
       "3                         4  \n",
       "4                        15  \n",
       "..                      ...  \n",
       "488                      10  \n",
       "489                       3  \n",
       "490                      17  \n",
       "491                      11  \n",
       "492                      11  \n",
       "\n",
       "[493 rows x 8 columns]"
      ]
     },
     "execution_count": 24,
     "metadata": {},
     "output_type": "execute_result"
    }
   ],
   "source": [
    "#count total duplicate records of each row group by Manufacturer', 'Model', 'Price', 'Car Transmission','Power (BHP) of the car', 'Engine size in CC', 'Type of fuel'\n",
    "df.groupby(['Manufacturer', 'Model', 'Price', 'Car Transmission',\n",
    "       'Power (BHP) of the car', 'Engine size in CC', 'Type of fuel'],\n",
    "             as_index=False)['Total number of owners'].count()"
   ]
  },
  {
   "cell_type": "markdown",
   "metadata": {},
   "source": [
    "Here are two examples of the duplicate records:"
   ]
  },
  {
   "cell_type": "code",
   "execution_count": 25,
   "metadata": {},
   "outputs": [
    {
     "data": {
      "text/html": [
       "<div>\n",
       "<style scoped>\n",
       "    .dataframe tbody tr th:only-of-type {\n",
       "        vertical-align: middle;\n",
       "    }\n",
       "\n",
       "    .dataframe tbody tr th {\n",
       "        vertical-align: top;\n",
       "    }\n",
       "\n",
       "    .dataframe thead th {\n",
       "        text-align: right;\n",
       "    }\n",
       "</style>\n",
       "<table border=\"1\" class=\"dataframe\">\n",
       "  <thead>\n",
       "    <tr style=\"text-align: right;\">\n",
       "      <th></th>\n",
       "      <th>Manufacturer</th>\n",
       "      <th>Model</th>\n",
       "      <th>Price</th>\n",
       "      <th>Car Transmission</th>\n",
       "      <th>Power (BHP) of the car</th>\n",
       "      <th>Engine size in CC</th>\n",
       "      <th>Type of fuel</th>\n",
       "      <th>Number of male owners</th>\n",
       "      <th>Number of female owners</th>\n",
       "      <th>Gender unclassified</th>\n",
       "      <th>Total number of owners</th>\n",
       "    </tr>\n",
       "  </thead>\n",
       "  <tbody>\n",
       "    <tr>\n",
       "      <th>270</th>\n",
       "      <td>Volvo</td>\n",
       "      <td>V60</td>\n",
       "      <td>50.48413</td>\n",
       "      <td>7.304348</td>\n",
       "      <td>150.608696</td>\n",
       "      <td>1969.0</td>\n",
       "      <td>diesel</td>\n",
       "      <td>4321</td>\n",
       "      <td>4321</td>\n",
       "      <td>379</td>\n",
       "      <td>5990</td>\n",
       "    </tr>\n",
       "    <tr>\n",
       "      <th>712</th>\n",
       "      <td>Volvo</td>\n",
       "      <td>V60</td>\n",
       "      <td>50.48413</td>\n",
       "      <td>7.304348</td>\n",
       "      <td>150.608696</td>\n",
       "      <td>1969.0</td>\n",
       "      <td>diesel</td>\n",
       "      <td>2419</td>\n",
       "      <td>2419</td>\n",
       "      <td>225</td>\n",
       "      <td>3266</td>\n",
       "    </tr>\n",
       "    <tr>\n",
       "      <th>1165</th>\n",
       "      <td>Volvo</td>\n",
       "      <td>V60</td>\n",
       "      <td>50.48413</td>\n",
       "      <td>7.304348</td>\n",
       "      <td>150.608696</td>\n",
       "      <td>1969.0</td>\n",
       "      <td>diesel</td>\n",
       "      <td>1091</td>\n",
       "      <td>1091</td>\n",
       "      <td>116</td>\n",
       "      <td>1464</td>\n",
       "    </tr>\n",
       "  </tbody>\n",
       "</table>\n",
       "</div>"
      ],
      "text/plain": [
       "     Manufacturer Model     Price  Car Transmission  Power (BHP) of the car  \\\n",
       "270         Volvo   V60  50.48413          7.304348              150.608696   \n",
       "712         Volvo   V60  50.48413          7.304348              150.608696   \n",
       "1165        Volvo   V60  50.48413          7.304348              150.608696   \n",
       "\n",
       "      Engine size in CC Type of fuel  Number of male owners  \\\n",
       "270              1969.0       diesel                   4321   \n",
       "712              1969.0       diesel                   2419   \n",
       "1165             1969.0       diesel                   1091   \n",
       "\n",
       "      Number of female owners  Gender unclassified  Total number of owners  \n",
       "270                      4321                  379                    5990  \n",
       "712                      2419                  225                    3266  \n",
       "1165                     1091                  116                    1464  "
      ]
     },
     "execution_count": 25,
     "metadata": {},
     "output_type": "execute_result"
    }
   ],
   "source": [
    "#show all records where Manufacturer is Volvo and Model is V60\n",
    "df1= df['Manufacturer']=='Volvo'\n",
    "df2= df['Model']=='V60'\n",
    "df[df1 & df2]"
   ]
  },
  {
   "cell_type": "code",
   "execution_count": 26,
   "metadata": {},
   "outputs": [
    {
     "data": {
      "text/html": [
       "<div>\n",
       "<style scoped>\n",
       "    .dataframe tbody tr th:only-of-type {\n",
       "        vertical-align: middle;\n",
       "    }\n",
       "\n",
       "    .dataframe tbody tr th {\n",
       "        vertical-align: top;\n",
       "    }\n",
       "\n",
       "    .dataframe thead th {\n",
       "        text-align: right;\n",
       "    }\n",
       "</style>\n",
       "<table border=\"1\" class=\"dataframe\">\n",
       "  <thead>\n",
       "    <tr style=\"text-align: right;\">\n",
       "      <th></th>\n",
       "      <th>Manufacturer</th>\n",
       "      <th>Model</th>\n",
       "      <th>Price</th>\n",
       "      <th>Car Transmission</th>\n",
       "      <th>Power (BHP) of the car</th>\n",
       "      <th>Engine size in CC</th>\n",
       "      <th>Type of fuel</th>\n",
       "      <th>Number of male owners</th>\n",
       "      <th>Number of female owners</th>\n",
       "      <th>Gender unclassified</th>\n",
       "      <th>Total number of owners</th>\n",
       "    </tr>\n",
       "  </thead>\n",
       "  <tbody>\n",
       "    <tr>\n",
       "      <th>637</th>\n",
       "      <td>Nissan</td>\n",
       "      <td>Pathfinder</td>\n",
       "      <td>60.9552</td>\n",
       "      <td>5.5</td>\n",
       "      <td>146.0</td>\n",
       "      <td>2588.6</td>\n",
       "      <td>diesel</td>\n",
       "      <td>6134</td>\n",
       "      <td>6134</td>\n",
       "      <td>317</td>\n",
       "      <td>8584</td>\n",
       "    </tr>\n",
       "    <tr>\n",
       "      <th>1032</th>\n",
       "      <td>Nissan</td>\n",
       "      <td>Pathfinder</td>\n",
       "      <td>60.9552</td>\n",
       "      <td>5.5</td>\n",
       "      <td>146.0</td>\n",
       "      <td>2588.6</td>\n",
       "      <td>diesel</td>\n",
       "      <td>5750</td>\n",
       "      <td>5750</td>\n",
       "      <td>300</td>\n",
       "      <td>8045</td>\n",
       "    </tr>\n",
       "    <tr>\n",
       "      <th>1427</th>\n",
       "      <td>Nissan</td>\n",
       "      <td>Pathfinder</td>\n",
       "      <td>60.9552</td>\n",
       "      <td>5.5</td>\n",
       "      <td>146.0</td>\n",
       "      <td>2588.6</td>\n",
       "      <td>diesel</td>\n",
       "      <td>5387</td>\n",
       "      <td>5387</td>\n",
       "      <td>258</td>\n",
       "      <td>7483</td>\n",
       "    </tr>\n",
       "    <tr>\n",
       "      <th>1829</th>\n",
       "      <td>Nissan</td>\n",
       "      <td>Pathfinder</td>\n",
       "      <td>60.9552</td>\n",
       "      <td>5.5</td>\n",
       "      <td>146.0</td>\n",
       "      <td>2588.6</td>\n",
       "      <td>diesel</td>\n",
       "      <td>4874</td>\n",
       "      <td>4874</td>\n",
       "      <td>240</td>\n",
       "      <td>6749</td>\n",
       "    </tr>\n",
       "    <tr>\n",
       "      <th>2211</th>\n",
       "      <td>Nissan</td>\n",
       "      <td>Pathfinder</td>\n",
       "      <td>60.9552</td>\n",
       "      <td>5.5</td>\n",
       "      <td>146.0</td>\n",
       "      <td>2588.6</td>\n",
       "      <td>diesel</td>\n",
       "      <td>3867</td>\n",
       "      <td>3867</td>\n",
       "      <td>263</td>\n",
       "      <td>5370</td>\n",
       "    </tr>\n",
       "    <tr>\n",
       "      <th>2593</th>\n",
       "      <td>Nissan</td>\n",
       "      <td>Pathfinder</td>\n",
       "      <td>60.9552</td>\n",
       "      <td>5.5</td>\n",
       "      <td>146.0</td>\n",
       "      <td>2588.6</td>\n",
       "      <td>diesel</td>\n",
       "      <td>2894</td>\n",
       "      <td>2894</td>\n",
       "      <td>423</td>\n",
       "      <td>4242</td>\n",
       "    </tr>\n",
       "    <tr>\n",
       "      <th>2960</th>\n",
       "      <td>Nissan</td>\n",
       "      <td>Pathfinder</td>\n",
       "      <td>60.9552</td>\n",
       "      <td>5.5</td>\n",
       "      <td>146.0</td>\n",
       "      <td>2588.6</td>\n",
       "      <td>diesel</td>\n",
       "      <td>1976</td>\n",
       "      <td>1976</td>\n",
       "      <td>423</td>\n",
       "      <td>3010</td>\n",
       "    </tr>\n",
       "    <tr>\n",
       "      <th>3339</th>\n",
       "      <td>Nissan</td>\n",
       "      <td>Pathfinder</td>\n",
       "      <td>60.9552</td>\n",
       "      <td>5.5</td>\n",
       "      <td>146.0</td>\n",
       "      <td>2588.6</td>\n",
       "      <td>diesel</td>\n",
       "      <td>778</td>\n",
       "      <td>778</td>\n",
       "      <td>127</td>\n",
       "      <td>1138</td>\n",
       "    </tr>\n",
       "  </tbody>\n",
       "</table>\n",
       "</div>"
      ],
      "text/plain": [
       "     Manufacturer       Model    Price  Car Transmission  \\\n",
       "637        Nissan  Pathfinder  60.9552               5.5   \n",
       "1032       Nissan  Pathfinder  60.9552               5.5   \n",
       "1427       Nissan  Pathfinder  60.9552               5.5   \n",
       "1829       Nissan  Pathfinder  60.9552               5.5   \n",
       "2211       Nissan  Pathfinder  60.9552               5.5   \n",
       "2593       Nissan  Pathfinder  60.9552               5.5   \n",
       "2960       Nissan  Pathfinder  60.9552               5.5   \n",
       "3339       Nissan  Pathfinder  60.9552               5.5   \n",
       "\n",
       "      Power (BHP) of the car  Engine size in CC Type of fuel  \\\n",
       "637                    146.0             2588.6       diesel   \n",
       "1032                   146.0             2588.6       diesel   \n",
       "1427                   146.0             2588.6       diesel   \n",
       "1829                   146.0             2588.6       diesel   \n",
       "2211                   146.0             2588.6       diesel   \n",
       "2593                   146.0             2588.6       diesel   \n",
       "2960                   146.0             2588.6       diesel   \n",
       "3339                   146.0             2588.6       diesel   \n",
       "\n",
       "      Number of male owners  Number of female owners  Gender unclassified  \\\n",
       "637                    6134                     6134                  317   \n",
       "1032                   5750                     5750                  300   \n",
       "1427                   5387                     5387                  258   \n",
       "1829                   4874                     4874                  240   \n",
       "2211                   3867                     3867                  263   \n",
       "2593                   2894                     2894                  423   \n",
       "2960                   1976                     1976                  423   \n",
       "3339                    778                      778                  127   \n",
       "\n",
       "      Total number of owners  \n",
       "637                     8584  \n",
       "1032                    8045  \n",
       "1427                    7483  \n",
       "1829                    6749  \n",
       "2211                    5370  \n",
       "2593                    4242  \n",
       "2960                    3010  \n",
       "3339                    1138  "
      ]
     },
     "execution_count": 26,
     "metadata": {},
     "output_type": "execute_result"
    }
   ],
   "source": [
    "#show all records where Manufacturer is Nissan and Model is Pathfinder\n",
    "df3= df['Manufacturer']=='Nissan'\n",
    "df4= df['Model']=='Pathfinder'\n",
    "df[df3 & df4]"
   ]
  },
  {
   "cell_type": "code",
   "execution_count": 27,
   "metadata": {},
   "outputs": [
    {
     "data": {
      "text/html": [
       "<div>\n",
       "<style scoped>\n",
       "    .dataframe tbody tr th:only-of-type {\n",
       "        vertical-align: middle;\n",
       "    }\n",
       "\n",
       "    .dataframe tbody tr th {\n",
       "        vertical-align: top;\n",
       "    }\n",
       "\n",
       "    .dataframe thead th {\n",
       "        text-align: right;\n",
       "    }\n",
       "</style>\n",
       "<table border=\"1\" class=\"dataframe\">\n",
       "  <thead>\n",
       "    <tr style=\"text-align: right;\">\n",
       "      <th></th>\n",
       "      <th>Manufacturer</th>\n",
       "      <th>Model</th>\n",
       "      <th>Price</th>\n",
       "      <th>Car Transmission</th>\n",
       "      <th>Power (BHP) of the car</th>\n",
       "      <th>Engine size in CC</th>\n",
       "      <th>Type of fuel</th>\n",
       "      <th>Number of male owners</th>\n",
       "      <th>Number of female owners</th>\n",
       "      <th>Gender unclassified</th>\n",
       "      <th>Total number of owners</th>\n",
       "    </tr>\n",
       "  </thead>\n",
       "  <tbody>\n",
       "    <tr>\n",
       "      <th>0</th>\n",
       "      <td>Daihatsu</td>\n",
       "      <td>Terios</td>\n",
       "      <td>26.197750</td>\n",
       "      <td>4.625</td>\n",
       "      <td>77.0</td>\n",
       "      <td>1495.000000</td>\n",
       "      <td>petrol</td>\n",
       "      <td>4903</td>\n",
       "      <td>4903</td>\n",
       "      <td>641</td>\n",
       "      <td>10774</td>\n",
       "    </tr>\n",
       "    <tr>\n",
       "      <th>1</th>\n",
       "      <td>MG</td>\n",
       "      <td>ZT</td>\n",
       "      <td>42.746667</td>\n",
       "      <td>5.000</td>\n",
       "      <td>128.5</td>\n",
       "      <td>2548.833333</td>\n",
       "      <td>petrol</td>\n",
       "      <td>10660</td>\n",
       "      <td>10660</td>\n",
       "      <td>405</td>\n",
       "      <td>12606</td>\n",
       "    </tr>\n",
       "    <tr>\n",
       "      <th>2</th>\n",
       "      <td>Nissan</td>\n",
       "      <td>Pathfinder</td>\n",
       "      <td>60.955200</td>\n",
       "      <td>5.500</td>\n",
       "      <td>146.0</td>\n",
       "      <td>2588.600000</td>\n",
       "      <td>diesel</td>\n",
       "      <td>6393</td>\n",
       "      <td>6393</td>\n",
       "      <td>325</td>\n",
       "      <td>8957</td>\n",
       "    </tr>\n",
       "  </tbody>\n",
       "</table>\n",
       "</div>"
      ],
      "text/plain": [
       "  Manufacturer       Model      Price  Car Transmission  \\\n",
       "0    Daihatsu       Terios  26.197750             4.625   \n",
       "1          MG           ZT  42.746667             5.000   \n",
       "2       Nissan  Pathfinder  60.955200             5.500   \n",
       "\n",
       "   Power (BHP) of the car  Engine size in CC Type of fuel  \\\n",
       "0                    77.0        1495.000000       petrol   \n",
       "1                   128.5        2548.833333       petrol   \n",
       "2                   146.0        2588.600000       diesel   \n",
       "\n",
       "   Number of male owners  Number of female owners  Gender unclassified  \\\n",
       "0                   4903                     4903                  641   \n",
       "1                  10660                    10660                  405   \n",
       "2                   6393                     6393                  325   \n",
       "\n",
       "   Total number of owners  \n",
       "0                   10774  \n",
       "1                   12606  \n",
       "2                    8957  "
      ]
     },
     "execution_count": 27,
     "metadata": {},
     "output_type": "execute_result"
    }
   ],
   "source": [
    "#sum up all number of owners of the same type of record\n",
    "df= df.groupby(['Manufacturer', 'Model', 'Price', 'Car Transmission',\n",
    "       'Power (BHP) of the car', 'Engine size in CC', 'Type of fuel'],as_index=False).sum()\n",
    "df.head(3)"
   ]
  },
  {
   "cell_type": "code",
   "execution_count": 28,
   "metadata": {},
   "outputs": [
    {
     "data": {
      "text/html": [
       "<div>\n",
       "<style scoped>\n",
       "    .dataframe tbody tr th:only-of-type {\n",
       "        vertical-align: middle;\n",
       "    }\n",
       "\n",
       "    .dataframe tbody tr th {\n",
       "        vertical-align: top;\n",
       "    }\n",
       "\n",
       "    .dataframe thead th {\n",
       "        text-align: right;\n",
       "    }\n",
       "</style>\n",
       "<table border=\"1\" class=\"dataframe\">\n",
       "  <thead>\n",
       "    <tr style=\"text-align: right;\">\n",
       "      <th></th>\n",
       "      <th>Manufacturer</th>\n",
       "      <th>Model</th>\n",
       "      <th>Price</th>\n",
       "      <th>Car Transmission</th>\n",
       "      <th>Power (BHP) of the car</th>\n",
       "      <th>Engine size in CC</th>\n",
       "      <th>Type of fuel</th>\n",
       "      <th>Number of male owners</th>\n",
       "      <th>Number of female owners</th>\n",
       "      <th>Gender unclassified</th>\n",
       "      <th>Total number of owners</th>\n",
       "    </tr>\n",
       "  </thead>\n",
       "  <tbody>\n",
       "    <tr>\n",
       "      <th>491</th>\n",
       "      <td>Volvo</td>\n",
       "      <td>XC70</td>\n",
       "      <td>58.5</td>\n",
       "      <td>6.4</td>\n",
       "      <td>148.5</td>\n",
       "      <td>2174.0</td>\n",
       "      <td>diesel</td>\n",
       "      <td>60529</td>\n",
       "      <td>60529</td>\n",
       "      <td>5608</td>\n",
       "      <td>83607</td>\n",
       "    </tr>\n",
       "    <tr>\n",
       "      <th>492</th>\n",
       "      <td>Volvo</td>\n",
       "      <td>XC90</td>\n",
       "      <td>85.8</td>\n",
       "      <td>8.0</td>\n",
       "      <td>213.2</td>\n",
       "      <td>1969.0</td>\n",
       "      <td>petrol</td>\n",
       "      <td>164061</td>\n",
       "      <td>164061</td>\n",
       "      <td>17297</td>\n",
       "      <td>258012</td>\n",
       "    </tr>\n",
       "  </tbody>\n",
       "</table>\n",
       "</div>"
      ],
      "text/plain": [
       "    Manufacturer Model  Price  Car Transmission  Power (BHP) of the car  \\\n",
       "491        Volvo  XC70   58.5               6.4                   148.5   \n",
       "492        Volvo  XC90   85.8               8.0                   213.2   \n",
       "\n",
       "     Engine size in CC Type of fuel  Number of male owners  \\\n",
       "491             2174.0       diesel                  60529   \n",
       "492             1969.0       petrol                 164061   \n",
       "\n",
       "     Number of female owners  Gender unclassified  Total number of owners  \n",
       "491                    60529                 5608                   83607  \n",
       "492                   164061                17297                  258012  "
      ]
     },
     "execution_count": 28,
     "metadata": {},
     "output_type": "execute_result"
    }
   ],
   "source": [
    "df[['Price','Car Transmission','Power (BHP) of the car','Engine size in CC']]=df[['Price','Car Transmission','Power (BHP) of the car','Engine size in CC']].round(1)\n",
    "df.tail(2)"
   ]
  },
  {
   "cell_type": "code",
   "execution_count": 29,
   "metadata": {},
   "outputs": [
    {
     "data": {
      "text/plain": [
       "True"
      ]
     },
     "execution_count": 29,
     "metadata": {},
     "output_type": "execute_result"
    }
   ],
   "source": [
    "#check if the record unique\n",
    "df.set_index(['Manufacturer','Model','Price', 'Car Transmission',\n",
    "       'Power (BHP) of the car', 'Engine size in CC', 'Type of fuel']).index.is_unique"
   ]
  },
  {
   "cell_type": "markdown",
   "metadata": {},
   "source": [
    "# Error 6: redundant whitespaces"
   ]
  },
  {
   "cell_type": "code",
   "execution_count": 30,
   "metadata": {},
   "outputs": [],
   "source": [
    "#remove whitespaces from the entire df \n",
    "for col in df.select_dtypes('object'):\n",
    "    df[col] = df[col].str.strip()"
   ]
  },
  {
   "cell_type": "code",
   "execution_count": 31,
   "metadata": {},
   "outputs": [
    {
     "data": {
      "text/plain": [
       "(493, 11)"
      ]
     },
     "execution_count": 31,
     "metadata": {},
     "output_type": "execute_result"
    }
   ],
   "source": [
    "# clean df\n",
    "df.shape"
   ]
  },
  {
   "cell_type": "markdown",
   "metadata": {},
   "source": [
    "# Generate cleaned_car_buyers.csv\n",
    "We ganerate a clean dataset containing 493 unique rows and 11 columns "
   ]
  },
  {
   "cell_type": "code",
   "execution_count": 32,
   "metadata": {},
   "outputs": [],
   "source": [
    "#generate a csv \n",
    "df.to_csv('cleaned_car_buyers.csv', index=False)"
   ]
  },
  {
   "cell_type": "markdown",
   "metadata": {},
   "source": [
    "# DATA EXPLORATION"
   ]
  },
  {
   "cell_type": "markdown",
   "metadata": {},
   "source": [
    "# Task 2.1"
   ]
  },
  {
   "cell_type": "code",
   "execution_count": 33,
   "metadata": {},
   "outputs": [
    {
     "name": "stderr",
     "output_type": "stream",
     "text": [
      "C:\\Users\\linhn\\AppData\\Local\\Temp\\ipykernel_19188\\793626428.py:2: FutureWarning: Indexing with multiple keys (implicitly converted to a tuple of keys) will be deprecated, use a list instead.\n",
      "  df_model = df.groupby ('Model', as_index=False)['Number of male owners', 'Number of female owners',\n"
     ]
    }
   ],
   "source": [
    "# Number of car owners by Model\n",
    "df_model = df.groupby ('Model', as_index=False)['Number of male owners', 'Number of female owners',\n",
    "       'Gender unclassified', 'Total number of owners'].sum()"
   ]
  },
  {
   "cell_type": "code",
   "execution_count": 34,
   "metadata": {},
   "outputs": [
    {
     "data": {
      "text/html": [
       "<div>\n",
       "<style scoped>\n",
       "    .dataframe tbody tr th:only-of-type {\n",
       "        vertical-align: middle;\n",
       "    }\n",
       "\n",
       "    .dataframe tbody tr th {\n",
       "        vertical-align: top;\n",
       "    }\n",
       "\n",
       "    .dataframe thead th {\n",
       "        text-align: right;\n",
       "    }\n",
       "</style>\n",
       "<table border=\"1\" class=\"dataframe\">\n",
       "  <thead>\n",
       "    <tr style=\"text-align: right;\">\n",
       "      <th></th>\n",
       "      <th>Model</th>\n",
       "      <th>Number of male owners</th>\n",
       "      <th>Number of female owners</th>\n",
       "      <th>Gender unclassified</th>\n",
       "      <th>Total number of owners</th>\n",
       "    </tr>\n",
       "  </thead>\n",
       "  <tbody>\n",
       "    <tr>\n",
       "      <th>213</th>\n",
       "      <td>Fiesta</td>\n",
       "      <td>11596040</td>\n",
       "      <td>11596040</td>\n",
       "      <td>876752</td>\n",
       "      <td>25233097</td>\n",
       "    </tr>\n",
       "    <tr>\n",
       "      <th>202</th>\n",
       "      <td>Escort</td>\n",
       "      <td>10937297</td>\n",
       "      <td>10937297</td>\n",
       "      <td>486565</td>\n",
       "      <td>16781778</td>\n",
       "    </tr>\n",
       "    <tr>\n",
       "      <th>228</th>\n",
       "      <td>Golf</td>\n",
       "      <td>6856310</td>\n",
       "      <td>6856310</td>\n",
       "      <td>655247</td>\n",
       "      <td>11932246</td>\n",
       "    </tr>\n",
       "    <tr>\n",
       "      <th>297</th>\n",
       "      <td>Mondeo</td>\n",
       "      <td>8254266</td>\n",
       "      <td>8254266</td>\n",
       "      <td>340635</td>\n",
       "      <td>10413488</td>\n",
       "    </tr>\n",
       "    <tr>\n",
       "      <th>214</th>\n",
       "      <td>Focus</td>\n",
       "      <td>6407597</td>\n",
       "      <td>6407597</td>\n",
       "      <td>408615</td>\n",
       "      <td>10171341</td>\n",
       "    </tr>\n",
       "    <tr>\n",
       "      <th>169</th>\n",
       "      <td>Clio</td>\n",
       "      <td>3929068</td>\n",
       "      <td>3929068</td>\n",
       "      <td>445121</td>\n",
       "      <td>10008136</td>\n",
       "    </tr>\n",
       "    <tr>\n",
       "      <th>293</th>\n",
       "      <td>Micra</td>\n",
       "      <td>3640369</td>\n",
       "      <td>3640369</td>\n",
       "      <td>481611</td>\n",
       "      <td>9873493</td>\n",
       "    </tr>\n",
       "    <tr>\n",
       "      <th>328</th>\n",
       "      <td>Polo</td>\n",
       "      <td>3656888</td>\n",
       "      <td>3656888</td>\n",
       "      <td>499911</td>\n",
       "      <td>9038686</td>\n",
       "    </tr>\n",
       "    <tr>\n",
       "      <th>48</th>\n",
       "      <td>320i</td>\n",
       "      <td>6213366</td>\n",
       "      <td>6213366</td>\n",
       "      <td>429229</td>\n",
       "      <td>8733521</td>\n",
       "    </tr>\n",
       "    <tr>\n",
       "      <th>30</th>\n",
       "      <td>2000</td>\n",
       "      <td>5070237</td>\n",
       "      <td>5070237</td>\n",
       "      <td>256445</td>\n",
       "      <td>7589108</td>\n",
       "    </tr>\n",
       "  </tbody>\n",
       "</table>\n",
       "</div>"
      ],
      "text/plain": [
       "      Model  Number of male owners  Number of female owners  \\\n",
       "213  Fiesta               11596040                 11596040   \n",
       "202  Escort               10937297                 10937297   \n",
       "228    Golf                6856310                  6856310   \n",
       "297  Mondeo                8254266                  8254266   \n",
       "214   Focus                6407597                  6407597   \n",
       "169    Clio                3929068                  3929068   \n",
       "293   Micra                3640369                  3640369   \n",
       "328    Polo                3656888                  3656888   \n",
       "48     320i                6213366                  6213366   \n",
       "30     2000                5070237                  5070237   \n",
       "\n",
       "     Gender unclassified  Total number of owners  \n",
       "213               876752                25233097  \n",
       "202               486565                16781778  \n",
       "228               655247                11932246  \n",
       "297               340635                10413488  \n",
       "214               408615                10171341  \n",
       "169               445121                10008136  \n",
       "293               481611                 9873493  \n",
       "328               499911                 9038686  \n",
       "48                429229                 8733521  \n",
       "30                256445                 7589108  "
      ]
     },
     "execution_count": 34,
     "metadata": {},
     "output_type": "execute_result"
    }
   ],
   "source": [
    "df_total=df_model.sort_values(['Total number of owners'],ascending=False, inplace=False)\n",
    "total_10=df_total.head(10)\n",
    "total_10"
   ]
  },
  {
   "cell_type": "code",
   "execution_count": 35,
   "metadata": {},
   "outputs": [
    {
     "data": {
      "image/png": "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\n",
      "text/plain": [
       "<Figure size 936x288 with 1 Axes>"
      ]
     },
     "metadata": {},
     "output_type": "display_data"
    }
   ],
   "source": [
    "#use package seaborn to visualise total_10 \n",
    "sns.set(font_scale=1.4)\n",
    "ax= plt.subplots(figsize=(13,4))\n",
    "sns.barplot(x='Model',y='Total number of owners',data=total_10, color='blue').set(title='Top ten Model by Total Number of Owners')\n",
    "plt.show()"
   ]
  },
  {
   "cell_type": "code",
   "execution_count": 36,
   "metadata": {},
   "outputs": [
    {
     "data": {
      "image/png": "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\n",
      "text/plain": [
       "<Figure size 432x288 with 1 Axes>"
      ]
     },
     "metadata": {},
     "output_type": "display_data"
    }
   ],
   "source": [
    "# visualise gender composition of total owner for top ten models\n",
    "total_10.plot(kind='bar',x='Model',y=['Number of male owners', 'Number of female owners','Gender unclassified'],stacked=True,legend=True)\n",
    "plt.title(\"Top ten car models by gender\")\n",
    "plt.legend(title='Gender',fontsize=10)\n",
    "plt.xlabel('Model', fontsize=12);\n",
    "plt.ylabel('Total number of owners', fontsize=12);\n",
    "plt.tick_params(axis='both', which='major', labelsize=12)\n",
    "plt.show()"
   ]
  },
  {
   "cell_type": "markdown",
   "metadata": {},
   "source": [
    "# Task 2.2"
   ]
  },
  {
   "cell_type": "markdown",
   "metadata": {},
   "source": [
    "I completed this task on the Data Preparation prefer to Error 3.1 and Error 3.3.\n",
    "\n",
    "The results on Error 3.1 shows that there are 3 errors of Price which is not fall between 0.0 to 650.0. These errors lie Citroen-C5, Rover-CityRover and Toyota-Verso-S.\n",
    "\n",
    "The results on Error 3.3 shows that there are 6 errors of Power which are not between 0.0 to 500.0. These errors loe on Ford-Focus,Volkswagen-Golf are negative, Citroen-C6,Mini-Two,Toyota-RAV5,Hyundai-I11  \n",
    "\n",
    "The error data visulisation are perfpormed by using boxplot.The plots show 2 stages: before and after removing invalid values.\n"
   ]
  },
  {
   "cell_type": "markdown",
   "metadata": {},
   "source": [
    "# Task 2.3"
   ]
  },
  {
   "cell_type": "markdown",
   "metadata": {},
   "source": [
    "# Correlation of Price and Number of male owners"
   ]
  },
  {
   "cell_type": "code",
   "execution_count": 37,
   "metadata": {},
   "outputs": [
    {
     "data": {
      "text/plain": [
       "Text(0.5, 1.0, 'Price vs male owners ')"
      ]
     },
     "execution_count": 37,
     "metadata": {},
     "output_type": "execute_result"
    },
    {
     "data": {
      "image/png": "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\n",
      "text/plain": [
       "<Figure size 360x360 with 1 Axes>"
      ]
     },
     "metadata": {},
     "output_type": "display_data"
    }
   ],
   "source": [
    "#use seaborn to plot linear relationship between 2 variables\n",
    "sns.lmplot (x='Price',y='Number of male owners', data=df )\n",
    "plt.title(\"Price vs male owners \")"
   ]
  },
  {
   "cell_type": "markdown",
   "metadata": {},
   "source": [
    "# Correlation of Car Transmission and Number of male owners "
   ]
  },
  {
   "cell_type": "code",
   "execution_count": 38,
   "metadata": {},
   "outputs": [
    {
     "data": {
      "image/png": "iVBORw0KGgoAAAANSUhEUgAAAVIAAAFWCAYAAAA7RBX5AAAAOXRFWHRTb2Z0d2FyZQBNYXRwbG90bGliIHZlcnNpb24zLjUuMSwgaHR0cHM6Ly9tYXRwbG90bGliLm9yZy/YYfK9AAAACXBIWXMAAAsTAAALEwEAmpwYAABhnUlEQVR4nO3dd1xTV/8H8M/NIiwBieCeLagIDkQcUBVHW7V1dDpqXaW2da+q7aO2dVVFHDjoz2ptXa1b66jWalsXiKNq1VonahVkGyBknd8fISEhBC+QkADf9+uxD9zcce4h+easew7HGGMghBBSagJ7J4AQQio6CqSEEFJGFEgJIaSMKJASQkgZUSAlhJAyokBKCCFlRIHUiqZPnw5/f/9i/0VERNg7mWWya9cu+Pv74/79+1Y7Z0REBKZMmWK181U2/v7+iI6OtncySDFE9k5AZTJ69Gi8+eabht9jY2Nx9epVrFy50rDNycnJHkmzms6dO2Pz5s2oWbOm1c65fPlyuLm5We18hJQ3CqRW1LBhQzRs2NDw+44dOyAWi9G2bVv7JcrKvL294e3tbdVzBgYGWvV8hJQ3qtrbQVxcHPz9/bF9+3Z0794drVu3xpEjRwAA27dvx4ABA9CqVSsEBQWhb9++OHjwoNmx8fHxiIyMRKtWrRAaGopZs2YhNzfXsN/169cxYsQIhISEoFWrVhg0aBBOnTpleH3lypXo0aMHfvvtN/Tp0weBgYF4/fXXceHCBVy9ehUDBw5EUFAQevbsaXL9wlX79PR0fPrppwgLC0NgYCB69eqF77//3uR+N2/ejF69eiEoKAidOnXC9OnTkZKSYni9cNX+2bNnWLhwIbp3747AwED07t0bP/30k8k5IyIisHLlSkRHRyM8PBxBQUEYNGgQrl69ajHfZ82ahfbt20OtVptsj4mJQcuWLSGXy5GXl4e5c+eiS5cuaNGiBXr06IEVK1aYHWOstHkJAOfOncPIkSMREhKCFi1aICIiAitWrIBGo7F4PaVSiSVLlhjS2Lt3b+zevdvi/nrPy9d+/fohMjLS5JjXXnsNbdu2NUnPF198gVdeeQUA8N577+Gzzz7Dd999h27duiEwMBD9+/fHyZMnTc7z5MkTTJ48GaGhoWjZsiWGDBmCS5cumezj7++P1atX45133kFQUBC+/vprMMYQExODHj16oEWLFujcuTPmzp2LnJyc595vuWJV1Nq1a9m7777Le/8HDx4wPz+/Iv/5+/sXecynn37KwsPDzbafPXuW+fn5sbZt27K9e/ey3bt3s7S0NLZp0ybm7+/Pli1bxk6dOsUOHDjABgwYwJo1a8YePnxocmyHDh1YVFQU+/PPP9myZcuYn58fW7p0KWOMsWfPnrHQ0FA2evRodvz4cXb8+HE2dOhQFhAQwBITExljjK1YsYK1bNmSdenShe3evZsdOXKEde7cmYWFhbGuXbuyjRs3sl9//ZW98847LCAggD169IgxxtjOnTuZn58fu3fvHmOMseHDh7NevXqxAwcOsFOnTrEvvviC+fn5sb179zLGGNu3bx8LCAhg33zzDTt9+jT76aefWLt27diwYcMM+dG1a1c2efJkxhhjubm5rE+fPqxdu3bs+++/ZydOnGCfffYZ8/PzYytXrjQ5JiQkhA0dOpQdPXqU/fzzz+yll15iXbp0YWq1usi/R0JCAvPz82MnTpww2f7KK6+wiRMnMsYY+/zzz1l4eDjbtWsXO336NFuxYgXz9/dnq1evtvjeKG1eXr9+nTVv3pyNHTuWnThxgh0/fpxNmjSJ+fn5sT179hjOb/y3ZYyxyMhI1rJlS7Z27Vp24sQJNmvWLObn58c2bdpkMY188jU6Opq1atWK5eXlMcYYS0lJYf7+/szPz49dvnzZcK6IiAi2cOFCxhhjQ4YMYSEhIaxfv37swIED7OjRo6xPnz6sVatWLDMzkzHGWFpaGuvcuTPr2rUr27FjBzty5AgbOnQoCwwMZFeuXDG5z4CAALZixQp27NgxduXKFbZmzRrWpk0btnnzZnb69Gm2YcMGFhgYyD777DOL92oPVTKQ6gNWSQKpWq1mycnJJv+uXr3KWrdubfImN/a8QLpo0SKT7fPmzWPz5s0z2XblyhWTD5b+2K+//tpkv4EDB7I+ffowxhi7dOkS8/PzY+fPnze8npqayubPn89u3rzJGNN9+P38/Nivv/5q2Gft2rXMz8+Pbd682bDtr7/+Yn5+fuzw4cOMMfNAGhgYyNasWWOSlujoaPbbb78xxhibNWsWe/nll5lWqzW8/uuvv7IVK1YYthkH0s2bNzM/Pz8WFxdncs7p06ezFi1asNTUVMMx4eHhTKlUGvb56aefmJ+fn8mHs7Du3buzqVOnGn6/evWqSXB95ZVX2Oeff25yzPr169nu3bstnrO0eblr1y72/vvvmwR+jUbDgoOD2cyZMw3bjAPpqVOnmJ+fn1l6Pv/8c9a2bVuWm5tbZBr55Kv+faPfZ//+/axTp04sPDycrVu3jjHG2O3bt5mfnx+Lj49njOkCaWBgIEtPTzec8/Tp0yb3uXTpUhYQEMDu3r1r2EepVLJevXqxESNGmNznm2++aZK+kSNHsuHDh5ts27FjB9u4cWOR92kvVaqNNCkpCbNnz0ZcXBwaNWpUomOFQiFq1Khhsm3atGnw8/PD+PHjS5UePz8/k99nzpwJAJDL5bh79y7u37+PM2fOANBV54wFBweb/F6rVi0kJSUBAF588UXUqFEDH330EXr16oWwsDCEhoZixowZZmkwPo/+/tq0aWPY5uXlBQDIysoq8h46duyIlStX4p9//kF4eDg6deqECRMmGF7v1KkTtm3bhjfeeAM9e/ZEWFgYIiIi0K1btyLPFx8fD19fX7Rr185ke79+/bBr1y5cvHjRcGxQUBDEYrFJHgAwaeIorG/fvli/fj0UCgWkUin279+PGjVqICwszJDeH374AcnJyejcuTPCw8MxfPhwi+czVtK87N+/P/r37w+lUom7d+/i3r17uHbtGjQajdnfW0//foiIiDBpbujevTt++uknXL582SzvAH75GhERAZlMhtOnT6Ndu3Y4ffo0QkNDoVarERcXh5EjR+KPP/6Ap6enyX01adIEnp6eht/1HZH6v8PZs2fh5+eHunXrGtLMcRy6du2K7777DkqlEhKJBID5Z6JTp05YuHAhhgwZgu7du6NTp0544403iswbe6pSgfTvv/+Gq6sr9u3bh1WrVpkN4Tl//jyWLl2KK1euwMvLC+Hh4Zg8ebLhA2Dsl19+QVxcHHbu3AmBoHRNzYUD84MHDzBnzhycOnUKIpEITZo0gb+/f5HHOjs7m/zOcRxY/kReLi4u2Lp1K2JjY/HLL79gy5YtkEgk6NmzJ+bMmQN3d3fDca6ursWem+O4Yu8hKioK69atw8GDB3Hw4EFwHIfg4GDMnj0bfn5+6NmzJ2JiYrB582bExMQgOjoavr6++OijjzBw4ECz82VmZkImk5lt12979uyZYZtUKjXZR/930Gq1FtPbt29fxMTE4Pjx43j55Zdx8OBB9OnTB0KhEADw6aefonbt2ti7dy++/PJLMMbQrFkzfP7558/tNCxpXubl5WHevHnYs2cPlEol6tWrh9atW0MkEhn+loWlp6cDAEJCQop8Xf9lWhiffOU4Di+99BJOnz6NCRMm4OzZsxg9ejRUKhWWLl0KjUaDP/74Ay+99JIhv4Dn/x3S09Nx//59BAQEWLwnX19fk/ToDRs2DG5ubti5cycWLVoEjUaDBg0aYMqUKejZs2eR57OHKhVIIyIiLI7jvH79OoYPH44PP/wQc+fORWZmJpYsWYL33nsPu3fvNin5MMawfPly9O7dG82aNbNK2rRaLT744AOIxWLs2LEDTZs2hUgkwq1bt7B3794Sn69evXqYO3cuGGO4ceMGDh48iG+//RYeHh6YNWuWYb/nBcrncXV1xfjx4zF+/Hj8999/+O2337Bq1SpMmjQJP//8MwCgR48e6NGjB3Jzc3H27Fls2LABc+bMQYsWLcx67D08PHD79m2z6yQnJwNAkV9qJVGvXj0EBwfj0KFD8PLyQlJSEvr27Wt4XSwWY8SIERgxYgRSU1Px+++/Y/Xq1fj4449x8uRJQ8mpKCXNy7lz5+LgwYOIjo5Ghw4d4OLiAgDo0KGDxWPc3d0hlUqxadOmIl+vW7dukdv55muXLl2wd+9e/P3333j06JGhRCqXy5GQkIBz587h66+/LtF9uru7Izg4uMgakfG1i8JxHN566y289dZbyMrKwsmTJ/HNN99g4sSJOH78OHx8fEqUFluhXvt83377LTp06IBPPvkEjRo1QqtWrbB8+XLcunULv//+u8m+J0+exJ07d8x6OMsiPT0dd+/eRf/+/dGiRQuIRLrvOP21iytlFXb48GG0b98eycnJ4DgOzZo1w+TJk9G4cWM8evTIaml+9OgROnfubOiJrl27NoYMGYJXX33VcJ0JEybg448/BqArnXXt2hVTp041HF9YSEgIkpKScO7cOZPt+/btg0gkQsuWLcuc7n79+uHPP//E3r174efnZ/gyVCgUePnll7Fu3ToAuqFeAwYMwMCBA5GZmQm5XF7maxs7f/48QkJC0K1bN0MQvXLlCtLS0iyWSENDQ6FQKKBSqRAYGGj4d//+fSxbtsxiswbffO3UqRMEAgFWr16NWrVqoUGDBmjSpAl8fHywfPlyMMbw0ksvleg+27Vrh7t376JBgwYmaT548CC+++47k0JKYe+++y6++uorAEC1atXQq1cvjB49Gmq12mLp2x6qVIm0ONevX8f9+/fRunVrk+2MMdy+fRvdu3c3bNu7dy/atGmDF1980WrX9/b2Rp06dbBlyxbUrFkT1apVw8mTJw0lj+La/Qpr06YNGGMYPXo0Ro0aBQ8PD/z555/4999/MWrUKKuluU6dOqhVq5ahBN+wYUPcunULu3fvxquvvgoAaN++PWbPno2vvvoKXbp0QW5uLtatWwcvL68iS14DBgzAli1bMGbMGIwdOxb16tXDsWPHsGvXLowePdqkLa60Xn31VcydOxd79+7F5MmTDdulUikCAgKwatUqCAQCNGvWDA8fPsSGDRvQvn17VK9evczXNtayZUscOHAAmzZtQpMmTXDjxg3ExsaC4ziLw3teeukltGvXDmPGjMGHH36IF198EdeuXUNMTAxat26N2rVrF3kc33x1c3NDSEgIfv31V/Tr189wfGhoKPbv34+OHTuW+OGJ4cOHY9++fRg6dCiGDx8Ob29v/Prrr9i6dSvGjx9fbEk+JCTEUJNq27YtUlNTERMTg0aNGlmtNmgNFEjzabVa9OrVC5988onZax4eHoaf1Wo1fv/9d5MOFWtZvXo15s2bh88++wwSiQQvvPACVq1ahUWLFiEhIQHDhg3jdR4fHx+sX78ey5Ytw5dffons7Gw0atQI8+fPN/lwWMOqVauwdOlSrFmzBmlpafDx8cGQIUMwZswYALoShUajwbZt27Bz506IRCK0bdsW8+fPN8lXPWdnZ/zwww9YunQpVq9ejWfPnqFRo0b46quv8Pbbb1slzW5ubujWrRsOHz6M1157zeS1uXPnYsWKFdi0aROSk5Ph6emJbt26YdKkSVa5trFPP/0USqUSK1euhFKpRN26dTF69GjcvXsXR48ehVqtNtRM9AQCAb755husWLECGzZsQEpKCnx8fDBw4EBDnhelJPnatWtXQ0eTXocOHbB//3507dq1xPfp4+ODbdu2YenSpZg/fz4UCgXq16+P2bNnY9CgQcUeO2HCBDg7O2Pv3r1Yt24dXFxc0KlTJ0ydOtUsb+yJY5bqEJXc9OnTcf/+fWzduhUAMH78eDx48AA7d+40fEM+efIEs2bNwpgxYxAUFARAV3Lt168fDh06hMaNG9st/YQQx0FtpPlGjhyJmzdvYvbs2bh16xYuX76M8ePH49atW2jSpIlhv2vXrkEikZR4+BQhpPKiQJovKCgI3377LW7duoUBAwbggw8+gI+PDzZu3GgyrOXp06eoVq1amXu7CSGVR5Wt2hNCiLXYtUQaGxtb5KBsY4mJiRg7diw6dOiAdu3aYdSoUfj333/LKYWEEPJ8dgukmzdvfu5ktXK5HMOGDYNCocD69euxadMmuLq6YujQoUhNTS2nlBJCSPHKffxASZ53//3335GUlIS9e/caHmtcvHgx2rVrh2PHjpVoOExqqhxabcVtxfDyckF6uoNNHWZHlB8FKC8K2DIvatRwt/hauZdIjZ93f95TKm3atME333xj8mw4oBskn5GRYcNUOh6RSPj8naoQyo8ClBcF7JUX5V4iLe5598Jq1aplmNFHb+PGjcjLy0Pnzp1tkTxCCCmxCjX86dChQ1i2bBmGDRtmcVYkQggpb47zjNVzfP/991iwYAH69euHadOmlfh4b++Kv7hacW00VRHlRwHKiwL2yAuHD6RarRbz5s3Dpk2bEBkZiUmTJpVqMHxF72yqUcMdT58+e/6OVQTlRwHKiwK2zIviArTDB9I5c+Zg+/btmDVrFgYPHmzv5BBCiBmHCqQajQZpaWmGyWuPHDmCH3/8EaNHj0bPnj3x9OlTw74uLi5FzkhOCCHlzaE6mx4/foywsDDDRMH79u0DAKxduxZhYWEm/7755ht7JpUQQgyqzLP21EZauVTm/Lh8OwWH4xKRkqmAzEOKV0LrI6iJ+XpLepU5L0qK2kgJIbh8OwWbj96EUCiAi1SEjGwlNh+9CQDFBlNiXw5VtSekqjsclwihUAAnsRAcx8FJLIRQKMDhuER7J40UgwIpIQ4kJVMBicj0YykRCZCSqbBTiggfFEgJcSAyDymUatMVY5VqLWQeUgtHEEdAgZQQB/JKaH1oNFrkqTRgjCFPpYFGo8UrofXtnTRSDOpsIsSB6DuUStJrT+yPAikhDiaoiYwCZwVDVXtCCCkjCqSEEFJGFEgJIaSMKJASQkgZUSAlhJAyokBKCCFlRMOfSJVT0tmVCHkeCqSkSqHZlYgtUNWeVCk0uxKxBQqkpEqh2ZWILVAgJVUKza5EbIECKalSaHYlYgvU2USqFJpdidgCBVJS5dDsSsTaqGpPCCFlRIGUEELKiAIpIYSUEQVSQggpIwqkhBBSRhRICSGkjCiQEkJIGVEgJYSQMqJASgghZWTXQBobG4uBAwcWu096ejomT56Mdu3aISQkBP/73/+QnZ1dTikkhJDns1sg3bx5M6Kjo5+737hx45CYmIgNGzYgJiYGp0+fxqxZs8ohhYQQwk+5P2uflJSE2bNnIy4uDo0aNSp23wsXLiA+Ph4HDhzACy+8AACYO3cuhg8fjsmTJ6N27drlkWRCCClWuZdI//77b7i6umLfvn1o2bJlsfsmJCTA29vbEEQBIDg4GBzHISEhwdZJJYQQXsq9RBoREYGIiAhe+yYnJ6NmzZom2yQSCby8vPDkyRNbJI8QQkqs1CXSlJQU/P3339Bqtc/fuZRyc3MhkUjMtkskEuTl5dnsuoQQUhK8SqS5ublYsGAB/Pz8MGTIEBw9ehQTJ06ERqNB48aNsX79evj6+lo9cVKpFEql0my7UqmEi4tLic7l7e1mrWTZTY0a7vZOgkOh/ChAeVHAHnnBK5BGRUVh7969mDNnDgBgyZIl8PPzw4cffojo6GhERUVh0aJFVk9czZo1kZycbLJNqVQiPT3drMr/PKmpcmi1zJrJK1c1arjj6dNn9k6Gw6D8KEB5UcCWeVFcgOZVtf/1118xefJk9O/fH7du3cL9+/cRGRmJl19+GZ988glOnjxptcQaCwkJwdOnT3Hnzh3DNn0nU9u2bW1yTUIIKSlegTQ1NRV+fn4AgJMnT0IkEiEsLAwAIJPJkJOTY5XEaDQaPH36FAqFbmncli1bok2bNpg8eTIuX76M+Ph4zJo1C3379rVJUwIhhJQGr0Baq1Yt3L9/HwBw7NgxBAYGws1N1+aYkJBQ4mq2JY8fP0ZYWBgOHjwIAOA4DjExMahXrx7ef/99jB07Fh07djQ0MRBCiCPg1Ub6+uuvY8mSJThy5AjOnTuHefPmAdANjt+2bRvGjBlTqosvXLjQ5Pe6devin3/+Mdnm7e2NFStWlOr8hBBSHngF0jFjxkAkEuH8+fOYPn063njjDQDA1atXMWLECHz44Yc2TSQhhDgyXoF08eLF6N27N0aPHm2yfdu2bTZJFCGEVCS82kg3bdpkNgyJEEKIDq9A2qxZM1y9etXWaSGEkAqJV9W+c+fOWL16NU6ePIkXX3wRMpnM5HWO4zBu3DibJJAQQhwdxxh77uM+TZs2Lf4kHIfr169bLVG2QE82VS6UHwUoLwrY68kmXiXSGzduWC0xhBBS2ZR49ie1Wo2nT59CrVbbIj2EEFLh8A6k165dw6hRo9CmTRt07twZ//zzD6ZOnYrY2Fhbpo8QQhwer0D6119/YeDAgXjy5AmGDh0KfbOqTCbDsmXL8OOPP9o0kYQQ4sh4BdIlS5agdevW2Lt3LyZMmGAIpJ9++ineeecdbN682aaJJIQQR8YrkF65cgVDhgyBUCgEx3Emr/Xo0QMPHjywSeIIIaQi4BVInZycIJfLi3wtNTUVTk5OVk0UIYRUJLwCaVhYGFauXGlS8uQ4DnK5HBs2bECnTp1slkBCCHF0vMaRTps2De+88w569+4NPz8/cByH+fPn4+7du4Y5QwkhpKriVSL19fXFnj17MHz4cIhEItSvXx8KhQJ9+/bF7t27UadOHVunkxBCHBbvde09PT0xceJEW6aFEEIqJN6BVC6X48yZM8jJyUFRj+f369fPmukihJAKg1cgPXXqFMaOHYvc3NwigyjHcRRICSFVFu917evWrYsZM2agVq1aEAhK/Ig+IYRUWrwC6a1bt7Bs2TJ06NDB1ukhhJAKh1fR0sfHB0ql0tZpIYSQColXIB0yZAi++eYbPHtGk8cSQkhhvKv2jx49Qnh4OBo3bgxnZ2eT1zmOw6ZNm2ySQEIIcXS8Aun9+/fh5+dn67QQQkiFxCuQ/vDDD7ZOByGEVFi82kh79eqFJUuW4Pz580WOIyWEkKqMV4k0NDQUhw8fxrp16+Dp6YnOnTuja9euCA8Ph6urq63TWCVcvp2Cw3GJSMlUQOYhxSuh9RHURPb8AwkhdsdrOWa9O3fu4I8//sCff/6Jc+fOgTGGdu3aISIiAoMHD7ZlOsvMkZdjvnw7BZuP3oRQKIBEJIBSrYVGo8XgHn6GYEpL7pqi/ChAeVHAXssxlyiQ6jHGcO7cOSxfvhznz5+nde3LaNGWC8jIVsJJLDRsy1Np4OkqwbRBbQDQh6Uwyo8ClBcFHHpde8YYrl27hvj4eMTFxeH8+fOQy+WoUaMGXnvttRI98aTVahETE4Pt27cjKysLwcHBmD17Nho0aFDk/snJyViwYAFOnz4NAGjfvj1mzJiBmjVr8r6mo0vJVMBFavqnkIgESMlU2ClFhJCS4N1G+uzZM/j6+qJ169aYOHEi2rdvj8aNG5f4gqtWrcLWrVuxcOFC+Pr6IioqCiNHjsSBAweKXLJk3LhxAID169eD4zh88cUX+Oijj7B79+4SX9tRyTykZiVSpVoLmYfUjqkihPDFe2JnAFCr1RAKhRCLxRCLxSW+mFKpxPr16zFmzBh07twZTZs2RXR0NFJSUnDo0CGz/dPS0nDx4kVERkYiICAAzZs3R2RkJK5du4bU1NQSX99RvRJaHxqNFnkqDRhjyFNpoNFo8UpofXsnjRDCA69Aun//fpw6dQozZsyAk5MT1qxZgx49eiAiIgIzZszAnj17eF3s+vXryMnJQfv27Q3b3Nzc0Lx5cyQkJJjt7+LiAhcXF+zZswdyuRzZ2dn4+eef0bBhQ3h6evK6ZkUQ1ESGwT384OkqQY5CDU9XiUlHEyHEsfGe2Ll69ero3bs3evfuDQC4du0aVq9ejd27d2PPnj285iNNSkoCUFDC1fPx8cHjx4/N9pdKpViwYAHmzJmDtm3bguM4yGQybNq0CUKh0Gz/iiyoiYwCJyEVFO9AqlarcenSJZw+fRqnT5/G1atXwXEcOnbsiK5du/I6R25uLgBAIpGYbJdIJEXOLqXv5GrZsiUiIyOh0WiwbNkyfPzxx9i2bRvc3S33ohFCSHnhFUhHjx6N+Ph45OTkQCaTITw8HCNGjECnTp1KNCBfKtV1niiVSpNgqlQq4eLiYrb/wYMHsXnzZpw4ccIQNNesWYOuXbvip59+wsiRI3lf29vbjfe+jqq44RdVEeVHAcqLAvbIC16BNCkpCe+//z66du2KoKCgUl+sVq1aAHRDmtzcCgJbcnIyXnjhBbP9z58/jwYNGpiUPD08PNCoUSPcv3+/RNd25HGkfNBYQVOUHwUoLwo49DhS/VCj9PR0HD9+HFlZWfDy8kKrVq1QrVo13glp2rQp3NzcEB8fbxg6JZfLce3aNQwaNMhs/5o1ayIxMRG5ubmGqftycnLw8OFDQ1stIYTYG+820tWrVyM2NhZ5eXkFB4tEiIyMNIz1fB6JRIIhQ4YgOjoaMpkMdevWRVRUFHx9fdGzZ09oNBqkpaXB3d0dUqkU/fr1w7fffouJEydiwoQJAIBly5ZBLBbjjTfeKNmdEkKIjfAKpNu3b8eKFSvQv39/9O/fHzKZDMnJydi7dy/WrFmD2rVr48033+R1wXHjxkGj0WDWrFnIzc1FcHAw1q1bB4lEgocPH6Jbt25YsGABBgwYAB8fH2zZsgWLFy/GsGHDAADBwcHYunUrPDw8Sn3ThBBiTbyete/Tpw/atGmDL7/80uy1WbNm4fLly7zHktoLtZFWLpQfBSgvCtirjZTXgPzExER07969yNe6deuGu3fvli5lhBBSCfB+RPTBgwdFvvbw4UMaz0kIqdJ4BdJu3bohJibG7DHOhIQExMTEICIiwiaJI4SQioBXZ9OYMWNw6tQpvPfee/D19YVMJkNKSgqSkpLQpEkTTJo0ydbpJIQQh8UrkLq5uWHHjh3YuXMnzp07h8zMTNSrVw8hISEYMGCA4YklQgipiko1Q35FRL32lQvlRwHKiwIO3WtPCCHEMgqkhBBSRhRICSGkjCiQEkJIGfGetATQzRt6+fJlJCUlISwsDLm5uZVqNU9CCCkN3oF069atWLZsGTIzM8FxHHbs2IGlS5cCAGJiYgzT3BFCSFXDq2q/Z88efPHFF3j55ZcRGxsL/Yip/v3748KFC4iJibFpIgkhxJHxKpGuW7cOAwcOxOzZs6HRaAzb+/TpgydPnmDr1q2YOnWqzRJJCCGOjFcgvX//PqZNm1bkawEBAXj69KlVE0UIKZvLt1NwOC4RKZkKyDykeCW0Pq1Sa0O8qvYymQz//PNPka/9+++/kMnoD0SIo7h8OwWbj95ERrYSLlIRMrKV2Hz0Ji7fTrF30iotXoG0d+/eWL16Nfbt22dYUpnjOFy6dAmxsbF49dVXbZpIQgh/h+MSIRQK4CQWguM4OImFEAoFOByXaO+kVVq8qvbjxo3Dv//+i2nTpoHjOADA4MGDoVAoEBISwnvNJkKI7aVkKuAiNf1oS0QCpGQq7JSiyo9XIJVIJIiNjcXp06dx5swZZGRkwN3dHaGhoXjppZcMwZUQYn8yDykyspVwEgsN25RqLWQeNEubrZRoQH7Hjh3RsWNHW6WFEGIFr4TWx+ajN5EHXUlUqdZCo9HildD69k5apWUxkC5fvpz3STiOo+o9IQ5C3ztPvfblx+J8pE2bNuV/Eo7D9evXrZYoW6D5SCsXyo8ClBcF7DUfqcUS6Y0bN2ySGEIIqWysMvuTVqu1xmkIIaRC4tXZxBjDzz//jPj4eCiVSsOz9lqtFrm5ufjrr79w8uRJmyaUEGJK//RSmlyJ6m4Sage1I16BNCYmBqtWrYK7uzvUajXEYjFEIhHS0tIgEAjwzjvv2DqdhBAj+qeXhEIB3J0Lnl4CQMHUDnjP/tSnTx/Ex8dj+PDhiIiIwOnTp7F9+3Z4eHigUaNGtk4nIcQIPb3kWHgF0qSkJLz22mvgOA4BAQG4ePEiACAwMBCRkZHYuXOnTRNJCDGVkqmARGT68aWnl+yHV9XexcXF8PRSw4YN8eDBAygUCkilUjRt2hQPHz60aSIJIabK8vQSzQxlfbxKpIGBgdi9ezcAoH79+hCLxTh79iwA4M6dO5BIJLZLISHEzCuh9aHRaJGn0oAxhjyVhtfTSzQzlG3wCqSjR4/G0aNHMXLkSIjFYvTt2xdTp07FRx99hMWLFyMsLIz3BbVaLVasWIHw8HC0bNkSI0aMwP379y3ur1KpEBUVhfDwcLRq1QpDhgxx+MH/hNhaUBMZBvfwg6erBPJcNTxdJRjcw++5JUtqW7UNXlX7kJAQ7NixwzBI//PPPwdjDBcuXMCrr76K6dOn877gqlWrsHXrVixcuBC+vr6IiorCyJEjceDAATg5OZntP2fOHBw7dgwLFy5EvXr1sHz5cowaNQqHDh1CtWrVeF+XkMomqIkMQU1kJXqah2aGsg3ek5Y0bdrU8NioRCLBV199VeKLKZVKrF+/HlOmTEHnzp0BANHR0QgLC8OhQ4fQr18/k/0fPHiAHTt2YNWqVejSpQsAYN68eejbty8uX75copIwIYRmhrIV3oH0yZMnuHLlCjIzM4t8/c0333zuOa5fv46cnBy0b9/esM3NzQ3NmzdHQkKCWSA9efIkXF1d0bVrV8M2d3d3/Pbbb3yTTQgxQjND2QavQHrw4EFMnz4dSqWyyNc5juMVSJOSkgAAvr6+Jtt9fHzw+PFjs/3v3buHunXr4sSJE1izZg0eP36M5s2bY/r06WjSpAmfpBNCjNDMULbBK5AuX74czZs3x2effQYvL69ST+SsX6akcC+/RCIpMkjL5XI8evQIy5Ytw9SpU+Hp6Ym1a9di0KBBOHDgQInWivL2ditVmh1JcbPPVEWUHwVKkhfdarijW/vK+xCNPd4XvALpkydPMH36dAQGBpbpYlKprh1GqVSaBFOlUgkXFxez/cViMeRyOZYsWQJ/f38AwNKlS9G5c2fs3LkTH374Ie9r0zR6lQvlRwHKiwL2mkaP1/CngIAAPHr0qMwJqVWrFgAgOTnZZHtycrJZdR8AatasCY7j8OKLLxq2SaVS1KtXjx4CIIQ4DF4l0pkzZ2L8+PEQi8Vo1apVkaXHevXqPfc8TZs2hZubG+Lj49G4cWMAuur7tWvXMGjQILP927ZtC8YYrl69iqCgIACAQqHAgwcP8PLLL/NJOiGE2ByvQKpSqaBSqTBnzhyL+/AZJC+RSDBkyBBER0dDJpOhbt26iIqKgq+vL3r27AmNRoO0tDS4u7tDKpWibdu26NixIz799FN8+eWX8PLywooVK8BxHAYMGMD7JgkhxJZ4BdI5c+ZAKBRi4sSJqFGjRpkuOG7cOGg0GsyaNQu5ubkIDg7GunXrIJFI8PDhQ3Tr1g0LFiwwBMqYmBgsWbIEY8eORW5uLlq3bo3vv/8e3t7eZUoHIYRYi8U1m4wFBQVh6dKl6N69e3mkySaos6lyofwoQHlRwKE7mxo0aICcnByrJYgQQioTXoF00qRJWLZsGU6cOIGsrCxoNBpotVqTf4QQUlXxaiNdsGAB0tPT8dFHHxX5OsdxuHbtmlUTRgghFQWvQPr666/bOh2EEFJh8QqkY8aMsXU6CCGkwrLKuvaEEFKVUSAlhJAyokBKCCFlZDGQJiYm0rAmQgjhwWIgfeuttxAfHw8AmDFjBhITaXEsQggpisVee4VCYZjRfvfu3Xj77bdRvz4tR0AIrQtPCrP4rP3777+PhIQEyGQyJCUlwdvbG2KxuOiTcByOHz9u04SWFT1rX7mUd37og+ejlGwo8jRwcxHD3UVsWPOIz1LItkLvjQL2etbeYol00aJF+O6775CRkYHdu3cjICCAZlwiVdLl2ynYfPQmhEIBlCottIzhWY4SYpEAzk4i5EG3BhKVSqsui4HU19cXn376KQAgLi4O48ePR0BAQLkljBBHcTguEUKhAE5iIdQaLQQcwMAhK1sJZycRrQtP+D3ZpF/+OD09HZcuXUJWVha8vLzQqlUrVKtWzaYJJMTeUjIVcJHqPioikQCa/GCq1uhGtdC68IT3uvarV69GbGws8vLyCg4WiRAZGYlx48bZJHGEOAKZhxQZ2Uo4iYWo5iJG2rM8aLQMIiGHPJWG1oUn/ALp9u3bsWLFCvTv3x/9+/eHTCZDcnIy9u7dizVr1qB27dq81rUnpCJ6JbQ+Nh+9iTwAzk4iuKu1yFao4SQWwtNVQr32hF8g3bhxI95++218+eWXhm2NGzdG+/btIRaLsWnTJgqkpNLSB0n9kKea1V0oeBITvAJpYmIipk2bVuRr3bp1w969e62aKEIcTVATGQVOYhGvZ+19fX3x4MGDIl97+PAh3N0tj68ihJDKjlcg7datG2JiYpCQkGCyPSEhATExMYiIiLBJ4gghpCLgPbHzqVOn8N5778HX1xcymQwpKSlISkpCkyZNMGnSJFunkxBCHBavQOrm5oYdO3Zg586dOHfuHDIzM1GvXj2EhIRgwIABkEppDB0hpOrita59ZUDP2lculB8FKC8KOPS69oQQQiyjQEoIIWVEgZQQQsqIVyC9cuUKLTtCCCEW8Aqko0aNwq5du2ydFkIIqZB4BVKJRAJPT08bJ4UQQiomXoF08uTJmD9/Pn788UdcuHABDx48MPvHl1arxYoVKxAeHo6WLVtixIgRuH//Pq9j9+/fD39/f977E0JIeeA1jjQgIAAajUZ3AMcVuc/169d5XXDlypXYsmULFi5cCF9fX0RFReHu3bs4cOAAnJycLB736NEj9O3bF8+ePcORI0fQoEEDXtfTo3GklQvlRwHKiwIOt2aTsblz51olIUqlEuvXr8eUKVPQuXNnAEB0dDTCwsJw6NAh9OvXr8jjtFotpk6dioCAAJw9e9YqaSGEEGvhFUj79+9vlYtdv34dOTk5aN++vWGbm5sbmjdvjoSEBIuBdO3atVCpVBgzZgwFUkKIw+G91IhWq8Xhw4dx8uRJJCcn4/PPP8elS5cQFBSExo0b8zpHUlISAN20fMZ8fHzw+PHjIo+5fPky1q9fjx07dhiOJ6Sy0S/3nJKpgMxDShNHVzC8AqlcLscHH3yAixcvokaNGkhJSUF2djZ2796NuXPnYtOmTWjatOlzz5ObmwtANwrAmEQigVKpNNs/JycHU6ZMwZQpU9CwYcMyBVJvb7dSH+soimujqYoqS34kXE/CtmO3IBJx8HCTQK5QYduxW/DwcEHbZr7PPwEqT15Ygz3yglcgXbJkCe7cuYOtW7ciMDAQLVq0AAAsW7YMI0aMwLJly7B27drnnkc/S5RSqTQJpkqlEi4uLmb7z507Fw0bNsS7777L62aKQ51NlUtlyo8fj9wAOEAoEECtYbr/5zT48cgNNJCZfy4Kq0x5UVYO3dl05MgRTJw4Ea1btzb03gOAl5cXPvjgA5O1nIpTq1YtAEBycjLc3ApKiMnJyXjhhRfM9t+5cyckEglat24NAIZr9+3bF6+//jrv6xLiyIyXe9aTiARIyVTYKUWkpHgF0uzsbNSsWbPI11xdXQ1V9udp2rQp3NzcEB8fb2hXlcvluHbtGgYNGmS2/5EjR0x+/+uvvzB16lSsWbMGfn5+vK5JiKMzXu5ZT6nWQuZB8/xWFLwCqZ+fH/bs2YMuXbqYvXbs2DH4+/vzuphEIsGQIUMQHR0NmUyGunXrIioqCr6+vujZsyc0Gg3S0tLg7u4OqVRqNlb0yZMnAIDatWvD29ub1zUJsbWydhQZL/csEQmgVGuh0WjxSmh92yWaWBWvQPrRRx/hk08+wfDhw9G9e3dwHIczZ87gxx9/xI4dO7B8+XLeFxw3bhw0Gg1mzZqF3NxcBAcHY926dZBIJHj48CG6deuGBQsWYMCAAaW+KUKszVKwvHw7BZuP3oRQKICLVISMbCU2H70JALyDaeHlnqnXvuLhPUP+wYMHsXjxYpNhSjKZDJMmTaoQQY86myqXsuRHSUuQxsHSuMQ4uIcfDsclmlXL81QaeLpKMG1Qm1Klr6TovVHAoTubAKBXr17o1asX7t69i/T0dFSrVg2NGzeGQEBTmpKKozQlyMNxiRAKBYZg6SQWIg8FJUi+HUU0VrTyKlEUzMjIwL1795CYmIjHjx8jOzvbVukixCaMgyLHcXASCyEUCnA4LtHiMSmZCkhEph8VfbCUeUihVJvO1VtUR5E+gGdkK00C+OXbKda7OWI3vEqkGo0Gy5Ytw6ZNm0x66KVSKSIjI/Hxxx/bLIGEWFNphhoV16vOt6OouFItlUorPl6BNCYmBt9++y2GDBmCnj17wtvbGykpKdi/fz9iYmLg5uaGoUOH2jqthJRZaYYaFRcs+XYU0VjRyo1XIN21axciIyMxYcIEw7ZGjRohJCQELi4u2LhxIwVSUiGUZqjR84JlUBPZc0uVNFa0cuMVSDMyMgxPFxUWHh6OrVu3WjVRhNhKaYca8QmWxaGxopUbr0DaqVMnHDhwwDCHqLE//vgDbdu2tXrCCLGVsgbF0l4ToLGilZXFQLpjxw7Dz4GBgVi1ahXS0tLQu3dvyGQyZGZm4rfffsPx48cxc+bMckksIRWZPQI4KR8WB+TzmRbPcBKO473UiL3QgPzKhfKjAOVFAYcbkH/s2DGbJIYQQiobi4G0Tp065ZkOQgipsHg/Inrw4EFcuHABWVlZZq9xHIevv/7aqgkjhJCKglcgjYqKwv/93//BxcUFnp6eZq9bWqKZEEKqAl6BdPfu3XjjjTcwd+5cCpqEEFIIr0lLcnJy8PLLL1MQJYSQIvAqkXbt2hVxcXF46aWXbJ0eQkg5oqn9rINXIP3ss8/w3nvv4cmTJ2jVqhWcnZ3N9nnzzTetnjhC7KmyBxlrzO5PdHgF0l9//RV3797F7du3ceDAAbPXOY6jQEoqlaoQZGhqP+vhFUjXrFmD0NBQjB8/HjVq1LB1mgixu6oQZGhqP+vhFUjT09Px1VdfoVWrVjZODiGOoSoEGZraz3p49dq3atUKN27csHVaCHEYfJcQqcheCa0PjUaLPJUGjDHkqTQ0tV8p8SqRfvjhh5g8eTJSU1MRHBwMV1dXs306dOhg9cQRYi9VYf5QmtrPengtx2xpJiiO48AYo9mfygHN8GOqPPKjovTa03ujgMPN/mTs+++/t1piCKkoaP5QwhevQNquXTtbp4M4uIpSOiPlj94bPAPpnj17nrtPv379ypgU4qiqwphKUjqO8t7QB/M0uRLV3STlHsx5BdLp06cXuZ3jOHAcB4FAQIG0EqsKYyqLQiWt53OE94ZxMHd3tk8w5xVIjxw5YrZNLpcjLi4O33//Pb755hurJ4w4jqowprIwRylpOTpHeG8YB3OO4+wSzHkF0vr1ix7y0bx5c2g0GsybNw/fffedNdNFHEhVHLjtCCWtisAR3huOEMx5DcgvTkBAAC5dumSFpBBHVRUHbqdkKiARmX48bPnhvHw7BYu2XMC0NaexaMsFXL6dYpPrWJsjvDcc4eEJ3kuNWPLLL7+gWrVqvPfXarWIiYnB9u3bkZWVheDgYMyePRsNGjQocv/ExEQsXrwYCQkJ0Gg0CAoKwqeffooXX3yxrEknPFXFgdvFlbSs3XZqi2aE8mrfdYT3hvHDEyIhZ5dgziuQDh482GybRqNBUlISnjx5gtGjR/O+4KpVq7B161YsXLgQvr6+iIqKwsiRI3HgwAE4OTmZ7CuXyzFs2DA0adIE69evh1AoxKpVqzB06FD8/PPP8Pb25n1dUjZVbUylpSebmtb3tHrQs3YzQnm379r7vWEczNPlSng5aq+9QGDeAiAUCtGsWTN88sknGDBgAK+LKZVKrF+/HlOmTEHnzp0BANHR0QgLC8OhQ4fMev5///13JCUlYe/evXB31z1VsHjxYrRr1w7Hjh3D22+/zeu6hJSUpZKWLdpOrd3GVxXbd/XB3F5PefEKpD/88INVLnb9+nXk5OSgffv2hm1ubm5o3rw5EhISzAJpmzZt8M033xiCqB5jDBkZGVZJE6lY7DVeUJ6rwo7jt/Bfag7EIgE83Jzg7KT7+JS17dTaHTaO0PlS1ZS5s6kkkpKSAAC+vr4m2318fPD48WOz/WvVqoVOnTqZbNu4cSPy8vIMJVpSdeirrBnZSpPxgrbomDG+FscBj1Oz8TgtFwKOg1rDkJalQG6eGkDZOzas3WHjCJ0vVY3FEunQoUN5n4TjOGzcuPG5++Xm5gIAJBKJyXaJRAKlUvnc4w8dOoRly5Zh2LBh8Pf3550+APD2divR/o6ouEkTqoJjOy7DSSKEVKJ727o5i6FQqnHs4n/o1r6Rza716Gm2rnmLARwHaBkDA5CVrYRErNv+Ts+mpf77dKvhDg8PF+w6cQvJaTnwqe6CAV1eQNtmvs8/OJ/xtd/p2RSxuy5Do9XqqvUqTZnTWJHY4x4tBlKVSvXcVUNv3rwJuVwOoVBY7H56UqnuG1GpVJoEU6VSCRcXl2KP/f7777FgwQL069cP06ZN43U9YzT7U8X3+KkcLlIRVGotxCIBVGotBByHx0/lVs8b42up1BoIOA4MDBotUL2aE7KyVVCqNHCTivFKaH00kLmUKQ0NZC6Y+GaQybanT5/x6n0v/N5oIHPBu91eMDuurGl0ZOXR5FOq2Z+2bt1q8SC5XI6FCxfiwoULaNiwIRYuXMgrIbVq1QIAJCcnw82toISYnJyMF154ochjtFot5s2bh02bNiEyMhKTJk2iZaGrKFsM/rYUqGQeUjxJy0GuUgO1hoEDA8cBYrEQLlIxhEIBPF0lmDaojTVuzWLaStv7bu+e9PLkCI+IlriN9OzZs3j99dexa9cuDB06FHv37uW9BEnTpk3h5uaG+Ph4wza5XI5r165ZnGFqzpw52LJlC2bNmoXJkydTEK3CrN2WaNwOahyoLt9OQdP6nsjKUUKt1kKoq71DywCJqPzGKRb16KNQKMDhuESbXreicYR84j0gX6FQYPHixdi6dSvq1KmD77//Hm3bti3RxSQSCYYMGYLo6GjIZDLUrVsXUVFR8PX1Rc+ePaHRaJCWlgZ3d3dIpVIcOXIEP/74I0aPHo2ePXvi6dOnhnO5uLgUOVM/qbysPV6wuGFCAODh6oTcPDXUGi3EIg5axqDI06KOrHxGC1DvOz+OkE+8AmlCQgJmzpyJBw8eYODAgZg6dWqRa9vzMW7cOGg0GsyaNQu5ubkIDg7GunXrIJFI8PDhQ3Tr1g0LFizAgAEDsG/fPgDA2rVrsXbtWpPzjB49GhMnTixVGkjFZTxe8NjZuzgcl4hNR26W6oma530ARcKC2o9QwMHTRQLGYNPqvDFHeI69InCEfCp2qRGlUomlS5di48aNqFWrFubPn28yBrQioc6myuV+Sg5W77gEoVBg8uTR4B5+vIPpoi0XzD6AeSoNPF0lkOeq8Dg1GxwngIDTVesZ06KWtyu+HBlqq9syYdz2V9w9VvX3hnE+uUpFyFaoS/xe4KO4ziaLbaSXL19G3759sXHjRrz11lv4+eefK2wQJZXPrhO3ytwuVmybK2MAOAAMurJG/u/PX+LMaoKayDC4hx88XSXIUajh6SqxenCoDIzzSZ5rn3yyWCINCAiAVquFu7v7cycI4TgOmzZtskkCrYVKpJXL9G/OQioWmHQ+MsaQo1Bj0UcdeZ/HUq/9tDWnATA8y1VDrdZCIODAtFpoGeBXz9OhJm2h90YBh1v8rk2b8mkHIqQ0fKu74Gl6TpnbxSwNE9K3u9WsLkFunhppWQowcBCLBDTJczmqKKsUWAyk1nq+nhBbGNDlBazeccniuvOl+QAaHyOVCJGTqwIAZMrzDDX9aq7iKjEJiCOoSKsUlOuz9oRYS9tmvhbbD4sbH2pJ4WPUWt3zoCIOUKm14AAIOA5pWXn4LyUbKek5uPkgo0JNwlzROML4UL7KPLEzIfZiqVpemmnkijoGANxcJKgN4HFabn5HE4NKrWtrFwk4hy4lVXSOMD6ULwqkpNIpzQewuGOkEiF0vfYCaI36ZjmBfRZaqyrK85HgsqJASiqd0nwAizsmJVOB6tWkeJajglqjmwFKwMEwCsRSkK4oHSWOytIqBWV9JNgWba7URkoqndI8k1/UMTkKNeQ5SmTKdf+quUoglQghFOiGXYnyF8crKkiXpp2WmLL2OFpbtrlSiZSUG0dekK3wMVKJEGAMagZ4uImR/kyJ1MxcuDmLoVKrAHBwdxZZDNJVcbkPW7DmLFa2bHOlQErKRUVYkM34mEVbLkCtZXASCw0lmEy5EjkKNWp5uwKMQaHSwtO16AlMKlJHSVVhy2fyKZCSclHRSmiFA6GLVAxnJxFyFGpez9o7wkQafFSldlxrt7kao0BKykVFKKEZB5UchRo5ChU0DFCrtdAYPV486uvjCG1WAx+83sLiuWz5obWWijTg3RpK0+TDFwXSIjDoZgESgAMn0E1dwXEcBAKAAwf9493lOH9FhefoJbTCQUWhVEOeq8mftsSUljGcuZYM4KrFYGrLD621VLRagjXYauUACqRFYsjKVkKrZYagyYFD/v/ACQARJ4BAwEEg5HT/z+X/yw+2+p8BCriA45fQCgcVtYZBYOELUx9c464/xQevm75W2qqyLavYls5dEWoJfNlrmW49CqTPof8QMbCCookWUENT5P4cVxB0BZxu0LaQ4yAUCHRBVh9080u7Ak5X2uU4zuIHtzKwRQnNmsGncFBRa3TLGRc1YZjhbcAYFm25YLhuaavKZTnuecGjuHM7ei2BL0dYs4kCqZUxVhB0tQCgYdBNfWEeeA2l3fwfjAOvgMsv7XK6Em+2QgWlWgsBB0MJ2Hj5qooQfK1ZrUq4nmTV9j2ZhxRJ6bmGpUXUGn4Zeue/LKw/cB0jejcrdVW5NMddvp2C9QeuQ6HUQMsYMrIUhnQYH1PcuR29lgDw+7IsanxoeTdRUCC1I0NpN/8H08BrSiAWIf2Zrspl3MwgEADC/GYGTqBvZtAFW10TQ+Vs3zWe2BkwDz4lLa02re+JG4kZZtsFnK4Eaim/tIwhW6HGjuO3oFBpS1VVLk0Ve8fxW8hWqPOfsuJM0mF8/zcfZEAsEqKaqxguUrHJuR29HZdvST0lUwGOA5Ke5UGtYRAJObi7iB1vzSbC3z+J6fjzr/+Q/iwPXu5OCG9ZG/71vaxy7qKaGTRaQGWpmSH/P5bad40Dr5DjAI6DML9UzMGx23iT0nIgFZs+mKcPEKWpKifcSDYsKWKMMUAo5KDVMpPXOA4QC3XX14IhKV2BJnWqFVtVLm7p55JWsZPSFYYgynEcBEbpML5/sUgAtUaLtGd5AHTDuIzP7cjLNvMtqUslQsOyMEKBrn07LUuhG+9bTiiQWtE/ienYd+ouhEIBpE4iZOWqsO/UXbwOWC2YlgTL/w/v9t38/xTVxisQGP3L/+CCMy3xCjiB/qo2D77FTexckqqyPrg9TMkBB0AoAIQCAVQareEe6tRwA6AbyZGUmgOBgINQUNCuwhjAcazYqnJxwb10VWxWsBpKoXQY37+Hm5NuUmoGZGWrIBQKHK76bgnvkrrJsjD6rsDyXRaGAqkV/fnXf/kLlek+wBKREMr87fYIpCVVOPAW19QAFF3i5dfUUPB7aZsaipvYedORm8V+APXB81FKNhR5Gri5iA33r+tj0rVFa5i+Ws8M5/f2kCL9mQJaxhmVYBl8q7siqIkMcX8/Qdz1p9AyBgHHIbRZDQQ1kWHRlgsWg7t+VdKSVLF9q7vgUUo2tGoGQzzlgFreriYByNlJhOrVpMiU50Gl1lh8EssR8S2pK1RaeLlL8CxXt+idvtNJodKWW1opkFpR+rM8SJ1Ms1QsFCA9v1pV2RRV4i2uqQEw7WArHHj1Q8nuPMrEqStPkJalgIebBJ1b1UbzhtUBFIxsaNvMF+/19Mcv8YlIzsiFdzXjqnKixQ+gcSeNUq37oBX++2iZrlQKaMFxwMNkOaQSEXqG1EXDWtUQu+9vKJQaqHVzP0MqEeLNLk2w7+QdxN1IBsdxEAs4aBkQdyMZvtXvFGrH00IkFJi04/GtYu87eQdHzj1ETp7a7G/BAWjrXwM3EjNM7t/ZSQSBgIOnq6TclpK2Br4ldX3ArVVdAolYCLVGC6VaA09XJ5P9jDtnAesWWCmQWpGXuxOyclWGEikAqDRaeLk7FXOUji3bVh1J4Q62woH3n8R07D99F2KREBKRENmpOdhy9CZ6dWiIF+t6Gqawg1CE+jXd8WG/FoahYwIBB6VKi14dG2D/ybvgBBxEAt0HkDGG3h0aYNfvt5Gn0sB8mL1pGhnTBVFPNye4u4jxLEeFA2cSIRQCSlVBtR8sv0QO4Mi5h+BQUO0Xcrr7O3LuIapXczJa3pkrth3PUlvqvpN3sO/0PV1J3ugOBBwgFgvhLBHiRmKGWQBKy1IgO1eNJ6k5GBP9B3qG1MXrYY1L/0fkmd7SMA52LV+QQSQS4LfzD5H+LA91Za7o3Fr3uTA0vTCGXh0a4HBcIgQCDhKxADl5GgiFHLq0ro2sbKXJSBpAV9MScLrPq7WCKQXSQtKyFDjz9xNkZisNQ4xMB9wbVVU5ozZDDmhQ0x3xN5KhVGkgEgig1mqh1TKE+PvgQbLc7Dhh/vnvPc7C0YQHumYBsRAZOUrsPXkHfTo2RNP61c2+SSuzP//6DwKBAEKBwPBYpkrDcPz8QzSp7QFAN5AsT62b5q4oNTycER5UG2euPkGmXPfF1K1NHdSRuSEnTwMPNyfD340xXc+7Vsug0TJomW75ZSeREGKxAG7OYuTmqXVPuuV3OgkEAnCMQSjUHZ+nUmPHidtQKNUmbaeA7gOrUKoBJkFBO57+VfN2vOLaUo0DtcakV4xDzeouYIwZeuONmxj0xEIOeSoN9p+5Bw7Aa88Jps973zEG/H0vFftO3YVIJEBNb2eoNAwHztyDUMDBr76XIdhpofvyNKSG6X7XMuOfC5qUdPsy1PB0xtsRLxYcA4bU/FK8/tZkHs4IaeqDP//6D49TVfBwESO8ZW3UlrmZldz1RELrfqgokBay58+7OHnlsVXPeaiU8x1uOvKv4WfDU1NGT1CZBHcBZ+jFNQ7uBa9ZOI7TPxhgei7j8aqG37mCcwkFJfuSMT5XUcc9SHqGi/8+xaOUHIiEHFykIkglIsNaSalZuuffBQLdsSq11vDkGVfoE88Y8EJdT7xQ19Nku0KlQVJ6rsk24/QK8/9f6iSAk1gAqVQEgENunhpSie6jor9vLv9LUCwUgDFdOurXdEeeUgNBfnoYdMFZLBRAKhGiUS13yBX5yzsLObg6CQHogvG1+6k4fuER7j1+BgZdgFGqNBCJBHBxEuHklcdwdhLBzVlXTVdrmaEkDA7IzVPDWSJE4zoeOBKfiLtJcvhUd87vgIIh7UKBrjR88VYqItrWMx3axYyG4uUHOX1J7tbDDJy++gSZciU83CRoH+CLF+p44vDZRKg0uqCnUmnAwKBUafDz6XsY5ulc7iM+7DXAxOK69pUN33Xt/32Ygf2n7kGeq4JGywzfmtr80orWUGop2GbYTwtDiUa3rRxujJgG7yK+LDRaBoVSbTaEyRIOunZFtVYLAcdBobTc5iswKlQ2quWOu0+e5Qf//I4qcPCr54H0LAUUKl3bKMcBAnDQMC2cxUI0a1gd528+hVDI4Vm2CmAMjDOEyfymBmZInJDjDO+5wmNcgxp54ebDTCjVuoCu0hbsYLwvB2BeZPti80Hf3JSUnos8lSY/kIuh0ujaKl/v1Aj7Tt4FOCBbUdDR4yoVAQyYWoL22LI0bf2TmI4dJ25DqdIYOvkkYl27taVziIQcapQw0Be3rj0F0iIwMDzNUPDe3+J59AGXGQVhbcHvLD8Qb/v1XzxTqCAWCg3XV6m1cHUSoXfHhtAyBjc3KTIyckyqooUDfHFBvyDY5+9j9LpWa/rFYHZ+k+0wvV5x56MvGYfm4SqxWJPJU2uR8SwPHAeTv5dYyEEo1K1dJRYKoNEwKFQaw6gBfVOki5MQbfx9eNVknmbk4vLtFF1zl1DXpMO0WoQ09UVdH7diazICDtj6602kP1MWLAHDdF8Y3h5OiHy9RcGXq9GxYhEHHy8XCqQlZY9Aypfx+FOxUGDyja//Rq1e3RVpadnlkp7yoA/6jDEs3XYRThIROI5DalYu1GpWZBVN/yHRN0Pqq9bhLWujTg03sy8QLQOOn3+IXKUaQqEAYEBmttIm9+PmLEINTxdkK1TIlOfld3CZ78cZBRt98Kkan0DHIpUI8XH/FmjRyJv3McUFUmojdQD+9b3wOlBhe+1LUy3j8p+iAjhUrybVjXYQCqDV6h7x05VmTY/Rf69pma5kpNIwaLRaHE14CLGIg6uTLhgbp+FofCLEQg7yPDU0+cOdOE4fxPTDqTjDNt1TXabtrpaGzRhvFwo5dAuug0Nx9+Hr7YLUzLwiI6RIxKGOt6thdAcDkJqZC5XaqKpuVJMwrr6LBICax9BIkRBQW26NMAgLrIn4G0+hUWt0eZsf5PVPQ0nEQohFAshzVSa3oh8x4CwR5nd6MV07aX57rCj/m65xHQ+jL7eCGknh2lRKRq4hv5nRfxgDJGKhWY3LGhRKDZLTc4FG1jkflUiLUN4lUj4cqURqHDglYgHkCg2cnYQWS9PPc/NBOg6evQ+RUGAYrqIvqenHmxbuVBJyHJg++HH6DiDAVSqCs1SMPKUabs4SpGbmgjEu/wOuC0T64TDGgUrfI6zND1QmPcz5rwMweZKo8GtN6rjj0dNs5OZpitxP3+rp5S6Bi1RkuJ8seR7kioLIp69qQ///KOjkyu/YNjQbGTcfGTf7GJf4C5pn9Pvrfvb1cjbrfAN07YccdFV6T3cnZGUri5zExdfLGa5SEZ5mKqBQaaBRayEUCSAVC1HDQ4pRrwUUkVnm1u3/22zYoFKtQTVnsdk5WKH71DKG+T8kFPnFIRICnwwIMgrcWkNAd3ESoeUL3ij6D1o0hyqRarVaxMTEYPv27cjKykJwcDBmz56NBg0aFLl/eno65s6diz///BOMMbzyyiuYPn06XF3L7znaqsJSydLQ/gVdZ9yRhAcQCQWo7iFFWqYCIgEHV6kIUokYAg5Qa7W4cicNbfx8TCbGBgfDo6V/XHqEs38nQaHUQCISoGUTGTLlSjwRZCNXqQvMWdlqQ8DT9TZrDYFEzQqqzsYluUy5EiIBZxhnqAuSLH+QPcxKudZ07a4KucriL8ABqFndGf+l5BhmmipNm7Hx9Iv6wGt4Yiy/pC0UcBDoH3YwHvFh9MXjW92lyHbyaq5iZDzTPQ2lezihYGiYPq3yXBUCG1fHncfPDOnSqrRQqbQIbeZjlmZL76/wlrWx79RdKAGTL+PwlrXN809/n+DwzyPd+SyVvpkW8PVyKfI1kVCXT9YqRpZ7IF21ahW2bt2KhQsXwtfXF1FRURg5ciQOHDgAJyfzgevjxo2DQqHAhg0bIJfLMXPmTMyaNQtRUVHlnXSHVbjqqX9kU/czDB8ajhNAAODWf5k4+3cSsnKU8HSVoGNgTXAch7jrSXBxlsDDXQqVWou460nw9pTCr66XoV1y5+1UuDmLddXS/ADFcYA8RzdESD8u8ElqNtzzH70szHhgub7d82GKHK93bIjR/VoUPML5NAcaLTMM21HyqdcCFh9ptWUQBfDcIAroAntRs0wVxdBrX8RrWkMXfOkjgb6UL8jvBDLueHJ3kYBptchVMkjEpsPXAF3AFXLAo5RseLo7mXZKahmu389AXR83/HnpP6Tl11wy5ErDeF15rgo7Ttw29KyXtGnLuF/BEp4zIVpFuVbtlUolQkNDMWXKFAwePBgAIJfLERYWhjlz5qBfv34m+1+4cAEDBw7EgQMH8MILLwAAzpw5g+HDh+O3335D7drm31iW8Kna6z/AeSoNnCVChDTzLVU7pXEJTvejUVSD6Y/6IAcuf7JnrmC6O44rWOrEy8sVGZk5hhIdxwEcKwiYxh0w+m9t5Fdpr91Lw68JD5CalQeJiENWrm7MoUgogFKtgVqthUQkhEqrhVN+ux2gm6Sj8GOF09acNqmWPknLgVqtgVaraycUCQVwdhLB18vZ7HFEff7+k5hhoTOJQ/VqToanYwDgm33XkJunttv4wKqqhqcUKRkKi/mun7jFSSSAhhX8rg+4QgEHobDgKS+1Jn+ooMZ4BAuDdzUJRvcLBFB0p5ulUqxxc8B/KZabvOZbGOJl7eFP5VoivX79OnJyctC+fcHNubm5oXnz5khISDALpAkJCfD29jYEUQAIDg4Gx3FISEjA668XWuehDIyfKKnu7gSVRosTlx7BWSqCXx3PguBkFKgKt98JjCKocWDTd2YYfmcFVavCLP1hPdycoMwtYY8zZ3pfEpEAD5KzodFq4e3hDGcn3cz9ao7hcWo2aslcTT44Rc20U3giCalYgMz8cZYcAJVaC6U6D51b1jI5zjgdlt67WsZMnubp1KImREIOYpFuSIzGgdqsKzp9h5ElqVl5xb6uD4Rqtfa5X3IiIcCY6exh+qCblaOGzEOa3+6pb6fW1XRuJqbj5JXH4IQcang5I0+lzX8CkIM8VwWpWOgwX7DlGkiTkpIAAL6+vibbfXx88Pix+dNEycnJqFmzpsk2iUQCLy8vPHnyxKppM556LE+lhVgkgEDAcPbqE4Q287XuEJX8AFoedYHCU8pp8rtns7KVcM6fYEUiEgDQVZ2fN9NO4ee4c/N0YwhFovwed5HA8My38ddc4XRYYjzD+ZFzD1HNTQKvaro03H/yrNhjCX/Pe+vpa2/PC7h83sIaLQzjh/Xn1B/LQT9BjLnjFx5CpdHCOX9onItUALVGgMu3U9GwZjU8y1NBKhaZjFk2POqb/08g4AwPM9jy81augTQ3V9dDKJFITLZLJBIolealrdzcXLN99fvn5ZVsRiVvb7diX0+TK+HuXFBlVWt0U6k9TsuFTGa5SF+eiqtaWFL4viRiAdRq3VIaYpHuDaxQqlHbxxV5eRpotNr8LxMNwIB3ejY1uW63Gu7w8HDBrhO3kJyWAwbAt7oz3FwK/k6MMaTLlSbHFU6HJfo0iYQcktNzUUv6/GMIf/qef/2s+s8/AKVuhtUfanYZo3MKhJzF93VyZh7cnUWGIVaA7r31IDkbowcEIXbXZYhESvyXkl1Q0jVankco4ODfWGYIqvpHdll+z72H2/MnE+KrXAOpVKorWSiVSpMAqVQq4eJi3rsmlUqLDLCW9i/O89pIq7tJzKZey1Np4OUmwdOn9i8J1ajhXqp0FL4vN2cx0rLyIBTonuXWT002uEcTAOZzYjaQuZhdt4HMBRPfDAIALNpyARnZSqiMOoKKyjfjdOg/zIVxHAznyVNpIBULka1QP7cUS0ogP99dpELIc4ue0AMomLauuFgr85AiLSvPYkA2HjFmvAdjBZ2gtaqbv7/0ivtMNpC54N1uL+Bw/jwWWi2DFsysBz+9mCGDT0vYVFZcQcZyl5cN1KqlazdLTk422Z6cnGxW3QeAmjVrmu2rVCqRnp5uVuUvq1dC60Oj0SJPpQFjDHkqTYWZSbw4he9L/yy0j5czchRqeLpKMLiHn2E+zGmD2mDRRx0xbVAbXlOh8c034/3cnAu+v4WCgvZkZ4nQ5Bw9Q+qanJuPai5iiK08s09FY5y/hTk7idChuQ/q1nCzmE9N63mgV3vL73sOgIuTCEN6+iG0WY0i93ESCUwfWMiPNLoOKF3Nw91Fgje7NLF4nee9t/Tv17qyogtVlrbbQrmWSJs2bQo3NzfEx8ejcWPdFF5yuRzXrl3DoEGDzPYPCQnBkiVLcOfOHcP+CQkJAIC2bdtaNW2OvhBYaRV1X+9GvGC1++Kbb8b7qdVaSNwFkCvUUKm1kEpEaNmkOtLlSrNzNKxVzXDu4haoE4t0U95xHIfaMlfIc5R4mJJTxL4cXJwEJgPgLXESc8hTFQTwpvU8MG1wMEYs/M1sXxcnERRKtVlVVn8MACzafB43HmTyupYldWUucHORICVTUeTibjIPKWQeUni5SfDX7TQolGrDpNRFzUFaOE3G6QV07dQKpdokf43/Prq/61WTKfuquYghEQshlQgBxqBQ6dra9X8/vp8vvu+tL0e1x6x1Z03+3nVlLvhyVPGTslhTuT/ZFB0djW3btmHevHmoW7cuoqKikJiYiP3790MoFCItLQ3u7u6QSqVgjGHQoEFQKBT44osvoFAoMHPmTLRt2xYLFy4s0XVL8mSTIypt1b6yovwoQHlRwJZ54TBVe0A3wP6tt97CrFmzMHDgQDDGsG7dOkgkEjx+/BhhYWE4ePAgAF0PbkxMDOrVq4f3338fY8eORceOHTFnzpzyTjYhhFhEz9pXEFTqMEX5UYDyokCVKZESQkhlQ4GUEELKiAIpIYSUEQVSQggpoyozQ75++q+KrDLcgzVRfhSgvChgj7yoMr32hBBiK1S1J4SQMqJASgghZUSBlBBCyogCKSGElBEFUkIIKSMKpIQQUkYUSAkhpIwokBJCSBlRICWEkDKiQOrg5HI55s+fj4iICLRu3RoDBgzAsWPH7J0su7t79y5at26N7du32zspdrNnzx706tULgYGB6N27Nw4dOmTvJNmNUqlEVFQUunTpgtatW2PQoEG4cOFCuV2fAqmDmzFjBk6cOIG5c+diz5496NmzJ8aMGYMzZ87YO2l2o1KpMGXKFOTkmK/JVFXs3bsXM2fOxDvvvIOff/4Zffr0waRJk3D+/Hl7J80uVq1ahZ07d+Krr77C7t270bhxY4waNQpJSUnlcn0KpA7s6dOnOHLkCGbOnImOHTuiQYMGGD16NNq1a4cdO3bYO3l2s3LlSri6uto7GXbDGMPy5csxZMgQvP/++2jQoAE++ugjdOzYEWfPnrV38uzi2LFjeP311xEeHo6GDRti+vTpyM7OLrcvFgqkDszZ2Rn/93//Z7ZiKsdxyMwsejXKyu7cuXP48ccf8fXXX9s7KXZz584dPHr0CH369DHZ/u233+KTTz6xU6rsq3r16jh+/DgePnwIjUaD7du3QyKRoHnz5uVyfQqkDszNzQ0vvfQS3NzcDNsuXbqEs2fPokuXLvZLmJ1kZWVh2rRp+Pzzz1GrVi17J8du7t27B0DXLhgZGYkOHTrgrbfewm+/mS8TXVX873//g0gkQrdu3RAYGIioqChER0ejYcOG5XJ9CqQVyO3btzFmzBi0bNkS77zzjr2TU+7mzJmDVq1a4bXXXrN3UuxKLpcDAKZNm4aXX34Z69evR1hYGD7++GOcOnXKzqmzj3///Rdubm5YtWoVfvzxRwwYMADTpk3D33//XS7XrzITO1d0586dw5gxY1C7dm3ExsZCLBbbO0nlas+ePUhISMD+/fvtnRS70//thw8fjjfeeAMA0KxZM1y9ehXr169Hp06d7Jm8cvfff/9h2rRpWLduHdq3bw8ACAwMxK1bt7BixQrExsbaPA1UIq0A9u3bh+HDhyMgIAA//PADPD097Z2kcrdz506kpqYahre0bt0aAPDll1+id+/edk5d+apZsyYAwM/Pz2T7iy++iIcPH9ojSXZ1+fJlqFQqBAYGmmxv2bKloRnE1qhE6uD279+PadOm4bXXXsP8+fOrXElUb8mSJVAoFCbb9EPBCne6VHbNmzeHq6srrly5gtDQUMP2mzdvon79+nZMmX3ov1j++ecftGnTxrD95s2baNSoUbmkgQKpA3vy5An+97//ITQ0FFOnTkVGRobhNbFYXKVKpr6+vkVur169OurUqVPOqbEvqVSKUaNGYfXq1fDx8UGrVq1w4MABnDx5Ehs2bLB38spdUFAQgoODMXPmTMyZMwc1a9bEnj17cPr0aWzevLlc0kCB1IEdOXIEubm5OHv2LMLDw01ea9OmDbZu3WqnlBF7+/jjj+Hi4oIVK1bgyZMnaNy4MVauXIkOHTrYO2nlTiAQYM2aNVi2bBlmzJiBjIwM+Pv7Y8OGDSYlVFuixe8IIaSMqLOJEELKiAIpIYSUEQVSQggpIwqkhBBSRhRICSGkjCiQEkJIGdE4UmLw999/44cffkB8fDxSUlIgk8nQrl07REZGonHjxla/3sOHD9GtW7fn7rdgwQIMGDDA6tcvLxEREWjTpg2WLFlilfPt2rULM2bMwJEjR9CgQQOrnJOUDY0jJQCAbdu24auvvkKbNm0wYMAA+Pr64sGDB9i4cSMeP36MdevWITg42KrXVCqVuHz5suH3lJQUjB8/Hh988IHJNIGNGjWCt7e3Va9dnq5cuQI3NzerPa6YmpqKu3fvIjAwEE5OTlY5JykbCqQEly5dwqBBg/Duu+9i1qxZJq9lZWXhzTffhEajwZEjRyAUCm2WDn0Jde7cuXjrrbdsdh1CrI3aSAnWrVsHd3d3TJ061ey1atWqYfr06ejTpw+ysrIAABqNBt988w369OmDoKAgtGrVCu+++67JOlK7du1C8+bNsXv3boSFhaFdu3Ympc+Seu+99zBt2jRMnjwZrVu3NszH+vDhQ0ybNg1hYWEICAhAhw4dMG3aNKSlpZkc+9lnn+G7774zTPzbv39/nDx50rAPYwwxMTHo0aMHWrRogc6dO2Pu3Lkm60L5+/tj8+bNmDFjBoKDgxESEoIvv/wSeXl5iI6ORqdOndC2bVuMGzcO6enphuMiIiIwZcoUw++HDh1C//790bJlS4SGhmLs2LG4f/++4fUHDx5gzJgxaN++PYKCgtC/f3/8/PPPJnnr7+9vcszp06cxePBgBAcHo127dpg4cSIePXpk9ve4evUqBg0ahKCgIISFhWHp0qXQaDSl/rsQHWojreIYY/jzzz/RtWtXODs7F7lPREQEIiIiDL9HRUVh06ZNmDhxIpo2bYqkpCSsWbMG48aNw4kTJwzrKWk0GixfvhyzZ89GRkZGmZd9OHjwILp06YKVK1dCqVRCoVBg6NChqFatGmbOnAkPDw9cvHgRq1evhlgsxrx58wzHHj16FNeuXcPkyZMhkUiwfPlyjB07Fr///juqVauG2NhYbNiwAZMnT0ajRo3wzz//YOnSpVAoFJg7d67hPEuXLkXPnj2xfPlynDhxAj/88APi4uJQr149zJ07F7dv30ZUVBQ8PT3x5Zdfmt1DQkICJk2ahFGjRmHq1KlITU1FdHQ0IiMjcfjwYTDGEBkZCU9PT8ydOxdOTk7YsWMHJk+ejJo1a5otOwPoFsKbNm0aevbsiUWLFiE9PR0xMTF45513sHv3btSoUQMAoNVq8cknn2Dw4MH45JNP8MsvvyA2NhZ169bF22+/Xaa/TVVHgbSKS09Ph0KhQN26dXkf8/jxY4wbNw7Dhw83bHN2dsa4ceNw/fp1kw97ZGQkevToYZW0MsawcOFCw9Ir169fh4+PD+bPn2/oDOvUqROuXr2K+Ph4k2MVCgU2bNhgmDHL1dUVw4YNw5kzZ/Dyyy8jISEBLVu2xKBBgwAAHTp0gLu7O7Kzs03OU79+fSxYsAAA0L59e+zcuRPZ2dlYsWIFJBIJunbtivj4eFy8eLHIe7hw4QKkUinGjh0LiUQCAKhVqxb++OMPZGdnQ6FQ4M6dO1iyZAm6d+9uuI6vry84jjM7n1arxeLFixEaGoqVK1catoeEhKB3795Yt24dZsyYYci/yMhIDB48GADQsWNH/PHHH/jtt98okJYRBdIqTt/mWZLqXXR0NAAgIyMD9+7dw71793Ds2DEAuqWSjRWefLgsateubbJ+VbNmzbBt2zYwxvDgwQPcv38f//77L+7cuQOlUmlybJMmTUymHdTPYZmbmwtAF4AXLlyIIUOGoHv37ujUqZNh9nljxh1uIpEIXl5eaNasmSEoAoCXlxdu3LhR5D20b98ey5Ytw2uvvYZXX30VYWFhaNWqleHLx9XVFf7+/vjf//6H06dPIzw8HB06dMDMmTOLPN/du3fx9OlTjB8/3mR7gwYN0Lp1a7MvFOP0cxyHmjVrVullra2FAmkV5+HhAVdXV5P2tMLy8vKQlZVlqCL+/fff+Oqrr3Dx4kVIpVL4+fkZFqMr3HepP8YaZDKZ2baNGzciNjYWqampkMlkaNGiBZydnc0mgZZKpSa/CwS67gGtVgsAGDZsGNzc3LBz504sWrQIGo0GDRo0wJQpU9CzZ0/DcUUtA124SaSokqNeUFAQNmzYgA0bNuC7777DmjVr4Onpiffeew+ffPIJOI7Dhg0bEBsbi6NHj2LXrl0QCoUIDw/HF198YfgC0NPPUVtU3shkMvz333/PTSv1N5cddTYRhIWFIS4uziz46B06dAhhYWH4/fffIZfLMWLECEgkEhw8eBAXL17E9u3biyy92dr+/fsxf/58jBgxAmfOnMGpU6cQGxtbqpUjOY7DW2+9hW3btuHs2bOIjo6Gi4sLJk6ciOTkZKumOzQ0FGvXrkV8fDy+++47Q7X8l19+AQB4e3tj5syZOH78OA4dOoQJEyYgLi4Os2fPNjuXvpSdkpJi9lpycjK8vLysmnZSNAqkBCNGjEBmZmaRA8YzMjKwatUq1KxZE506dcKdO3eQkZGBwYMHo0mTJoaS3e+//w6goIRXHs6fPw8XFxeMGjUK1atXB6BbYfP8+fMlTse7776Lr776CoBupEKvXr0wevRoqNVqJCUlWS3NX3/9Nd544w0wxiCRSNChQwfMmTMHAPDo0SNcvHgRHTt2NIxwaNy4MSIjIxEaGlpkraFRo0aoUaOG2aKAiYmJ+Ouvv6w+9pcUjar2BK1atcKECRMQHR2NO3fuoG/fvpDJZLh16xY2btyI9PR0fP/99xCJRGjcuDHc3d0RGxsLoVAIsViMw4cPY8+ePQAK2hzLQ8uWLbF161bMnTsXERERSE5Oxvr165GSklJkFbw4ISEh+Pbbb+Hh4YG2bdsiNTUVMTExaNSoEZo1a2a1NHfo0AEbNmzApEmT0K9fP2i1WmzZsgVSqRQRERGoXbs2nJ2dMWXKFHz88cfw8fHBX3/9hZMnT+Ljjz82O59AIMCkSZMwY8YMjBs3Dn379kVmZiZiYmLg7u6OESNGWC3txDIKpAQAMHr0aAQEBGDz5s2IiopCeno6atasifbt2+Ojjz5CvXr1AMCwdviiRYswefJkuLq6olmzZti0aRMiIyORkJBgtV765+nXrx8ePHiAnTt34qeffoKvry86d+6M9957D59//jlu3LiBpk2b8jrXhAkT4OzsjL1792LdunVwcXFBp06dMHXqVIhE1vuYvPTSS4iOjsa6deswceJEMMYQGBiIDRs2GJ582rBhA6KiorB48WJkZmaiTp06mDBhAkaNGlXkOQcMGABXV1fExsZiwoQJcHV1RadOnTBp0iSLa10R66InmwghpIyojZQQQsqIAikhhJQRBVJCCCkjCqSEEFJGFEgJIaSMKJASQkgZUSAlhJAyokBKCCFlRIGUEELK6P8B4O23KFR2C/cAAAAASUVORK5CYII=\n",
      "text/plain": [
       "<Figure size 360x360 with 1 Axes>"
      ]
     },
     "metadata": {},
     "output_type": "display_data"
    }
   ],
   "source": [
    "#use seaborn to plot linear relationship between 2 variables\n",
    "sns.lmplot ( x='Car Transmission',y='Number of male owners', data=df ) \n",
    "plt.title(\"Transmission vs male owners\")\n",
    "plt.show()"
   ]
  },
  {
   "cell_type": "markdown",
   "metadata": {},
   "source": [
    "# Correlation of Power and Number of male owners"
   ]
  },
  {
   "cell_type": "code",
   "execution_count": 39,
   "metadata": {},
   "outputs": [
    {
     "data": {
      "image/png": "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\n",
      "text/plain": [
       "<Figure size 360x360 with 1 Axes>"
      ]
     },
     "metadata": {},
     "output_type": "display_data"
    }
   ],
   "source": [
    "#use seaborn to plot linear relationship between 2 variables\n",
    "sns.lmplot ( x='Power (BHP) of the car',y='Number of male owners', data=df ) \n",
    "plt.title(\"Power vs male owners\")\n",
    "plt.show()"
   ]
  },
  {
   "cell_type": "markdown",
   "metadata": {},
   "source": [
    "# Number of male owners and Manufaturer"
   ]
  },
  {
   "cell_type": "code",
   "execution_count": 40,
   "metadata": {},
   "outputs": [
    {
     "data": {
      "text/html": [
       "<div>\n",
       "<style scoped>\n",
       "    .dataframe tbody tr th:only-of-type {\n",
       "        vertical-align: middle;\n",
       "    }\n",
       "\n",
       "    .dataframe tbody tr th {\n",
       "        vertical-align: top;\n",
       "    }\n",
       "\n",
       "    .dataframe thead th {\n",
       "        text-align: right;\n",
       "    }\n",
       "</style>\n",
       "<table border=\"1\" class=\"dataframe\">\n",
       "  <thead>\n",
       "    <tr style=\"text-align: right;\">\n",
       "      <th></th>\n",
       "      <th>Manufacturer</th>\n",
       "      <th>Number of male owners</th>\n",
       "    </tr>\n",
       "  </thead>\n",
       "  <tbody>\n",
       "    <tr>\n",
       "      <th>17</th>\n",
       "      <td>Ford</td>\n",
       "      <td>49931360</td>\n",
       "    </tr>\n",
       "    <tr>\n",
       "      <th>36</th>\n",
       "      <td>Peugeot</td>\n",
       "      <td>16305828</td>\n",
       "    </tr>\n",
       "    <tr>\n",
       "      <th>50</th>\n",
       "      <td>Volkswagen</td>\n",
       "      <td>15681009</td>\n",
       "    </tr>\n",
       "    <tr>\n",
       "      <th>38</th>\n",
       "      <td>Renault</td>\n",
       "      <td>12964147</td>\n",
       "    </tr>\n",
       "    <tr>\n",
       "      <th>4</th>\n",
       "      <td>BMW</td>\n",
       "      <td>10556504</td>\n",
       "    </tr>\n",
       "  </tbody>\n",
       "</table>\n",
       "</div>"
      ],
      "text/plain": [
       "   Manufacturer  Number of male owners\n",
       "17         Ford               49931360\n",
       "36      Peugeot               16305828\n",
       "50   Volkswagen               15681009\n",
       "38      Renault               12964147\n",
       "4           BMW               10556504"
      ]
     },
     "execution_count": 40,
     "metadata": {},
     "output_type": "execute_result"
    }
   ],
   "source": [
    "#generate dataframe of top 5 car manufacturers by male owners \n",
    "df_manufacturer = df.groupby ('Manufacturer', as_index=False)['Number of male owners'].sum()\n",
    "top_male=df_manufacturer.sort_values(['Number of male owners'],ascending=False, inplace=False).head(5)\n",
    "top_male"
   ]
  },
  {
   "cell_type": "code",
   "execution_count": 41,
   "metadata": {},
   "outputs": [
    {
     "data": {
      "image/png": "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\n",
      "text/plain": [
       "<Figure size 720x288 with 1 Axes>"
      ]
     },
     "metadata": {},
     "output_type": "display_data"
    }
   ],
   "source": [
    "#visulaise top 5 car manufacturers by male owners\n",
    "ax= plt.subplots(figsize=(10,4))\n",
    "sns.barplot(x='Manufacturer',y='Number of male owners',data=top_male, color='blue').set(title='Top 5 manufacturers owned by male')\n",
    "plt.show()"
   ]
  },
  {
   "cell_type": "markdown",
   "metadata": {},
   "source": [
    "This figure shows Ford, Peugeout Volswagen, Renaults and BMW are the top 5 vehicles owned by male. "
   ]
  },
  {
   "cell_type": "markdown",
   "metadata": {},
   "source": [
    "# Number of male owners and Model"
   ]
  },
  {
   "cell_type": "code",
   "execution_count": 42,
   "metadata": {},
   "outputs": [
    {
     "data": {
      "text/html": [
       "<div>\n",
       "<style scoped>\n",
       "    .dataframe tbody tr th:only-of-type {\n",
       "        vertical-align: middle;\n",
       "    }\n",
       "\n",
       "    .dataframe tbody tr th {\n",
       "        vertical-align: top;\n",
       "    }\n",
       "\n",
       "    .dataframe thead th {\n",
       "        text-align: right;\n",
       "    }\n",
       "</style>\n",
       "<table border=\"1\" class=\"dataframe\">\n",
       "  <thead>\n",
       "    <tr style=\"text-align: right;\">\n",
       "      <th></th>\n",
       "      <th>Model</th>\n",
       "      <th>Manufacturer</th>\n",
       "      <th>Number of male owners</th>\n",
       "    </tr>\n",
       "  </thead>\n",
       "  <tbody>\n",
       "    <tr>\n",
       "      <th>214</th>\n",
       "      <td>Fiesta</td>\n",
       "      <td>Ford</td>\n",
       "      <td>11596040</td>\n",
       "    </tr>\n",
       "    <tr>\n",
       "      <th>203</th>\n",
       "      <td>Escort</td>\n",
       "      <td>Ford</td>\n",
       "      <td>10937297</td>\n",
       "    </tr>\n",
       "    <tr>\n",
       "      <th>298</th>\n",
       "      <td>Mondeo</td>\n",
       "      <td>Ford</td>\n",
       "      <td>8254266</td>\n",
       "    </tr>\n",
       "    <tr>\n",
       "      <th>229</th>\n",
       "      <td>Golf</td>\n",
       "      <td>Volkswagen</td>\n",
       "      <td>6856310</td>\n",
       "    </tr>\n",
       "    <tr>\n",
       "      <th>215</th>\n",
       "      <td>Focus</td>\n",
       "      <td>Ford</td>\n",
       "      <td>6407597</td>\n",
       "    </tr>\n",
       "  </tbody>\n",
       "</table>\n",
       "</div>"
      ],
      "text/plain": [
       "      Model Manufacturer  Number of male owners\n",
       "214  Fiesta         Ford               11596040\n",
       "203  Escort         Ford               10937297\n",
       "298  Mondeo         Ford                8254266\n",
       "229    Golf   Volkswagen                6856310\n",
       "215   Focus         Ford                6407597"
      ]
     },
     "execution_count": 42,
     "metadata": {},
     "output_type": "execute_result"
    }
   ],
   "source": [
    "#generate dataframe of top 5 car model by male owners\n",
    "df_model= df.groupby(['Model','Manufacturer'], as_index=False)['Number of male owners'].sum()\n",
    "top_model_by_male= df_model.sort_values(['Number of male owners'],ascending=False, inplace=False).head(5)\n",
    "top_model_by_male"
   ]
  },
  {
   "cell_type": "code",
   "execution_count": 43,
   "metadata": {},
   "outputs": [
    {
     "data": {
      "image/png": "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\n",
      "text/plain": [
       "<Figure size 720x288 with 1 Axes>"
      ]
     },
     "metadata": {},
     "output_type": "display_data"
    }
   ],
   "source": [
    "#visualise top 5 car model by male owners\n",
    "ax= plt.subplots(figsize=(10,4))\n",
    "sns.barplot(x='Model',y='Number of male owners',data=top_model_by_male, color='blue').set(title='Top 5 car models owned by male')\n",
    "plt.show()"
   ]
  }
 ],
 "metadata": {
  "kernelspec": {
   "display_name": "Python 3 (ipykernel)",
   "language": "python",
   "name": "python3"
  },
  "language_info": {
   "codemirror_mode": {
    "name": "ipython",
    "version": 3
   },
   "file_extension": ".py",
   "mimetype": "text/x-python",
   "name": "python",
   "nbconvert_exporter": "python",
   "pygments_lexer": "ipython3",
   "version": "3.9.12"
  }
 },
 "nbformat": 4,
 "nbformat_minor": 4
}
